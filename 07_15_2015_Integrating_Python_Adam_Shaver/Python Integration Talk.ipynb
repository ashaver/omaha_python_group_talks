{
 "cells": [
  {
   "cell_type": "markdown",
   "metadata": {
    "slideshow": {
     "slide_type": "slide"
    }
   },
   "source": [
    "## Python Code Integration (aka., How to insert python into other code processes or visa-versa.)\n",
    "Adam Shaver July 15th, 2015\n",
    "\n",
    "### ToolChain\n",
    "- Clean Ubuntu 12.04 LTS (GCC 4.8.2, Python 2.7.6)\n",
    " 1.sudo apt-get install -y build-essential python-dev libbz2-dev\n",
    "- [optional] Sublime\n",
    "- Boost 1.58.0\n",
    " - Compiled from source, just good practice to make sure everything works on the system\n",
    "As root\n",
    " - mkdir -p /usr/local/boost/1.58\n",
    " - boostrap.sh –prefix=/usr/local/boost/1.58\n",
    " - b2.sh -j<n> install\n",
    "- Anaconda\n",
    "- WinPDB 1.4.8 \n",
    " - conda install wxpython\n",
    " - python setup.py install -f\n",
    "- Zato.io (see the topic for install info)\n",
    " \n",
    "### Motivation\n",
    "- Using Python for prototyping\n",
    "- Using Python as middleware/glue between legacy code\n",
    "- There are things that each language does well (C++, Fortran, Python) \n",
    "- Code Obfuscation\n",
    "- Unit tests framework in one language, code in another\n",
    "- If you're here, you probably have a reason\n",
    "\n",
    "### Avenues of Integration\n",
    "- Topic 1: Ctypes : Python --> C/C++ \n",
    "- Topic 2: pyObject : Python <--> C/C++\n",
    "- Topic 3: The Boost Python C++ Library: C/C++ <--> Python\n",
    "- Topic 4: ESB (Zato.io) Python <--> [Anything]\n",
    "- Topic 5: [Not Covered] Other wrappers and translation layers, SIP, SWIG, Goggle Proto Buffer\n",
    "\n",
    "*Note, there are plenty more.*"
   ]
  },
  {
   "cell_type": "code",
   "execution_count": null,
   "metadata": {
    "collapsed": true
   },
   "outputs": [],
   "source": [
    "from __future__ import print_function"
   ]
  },
  {
   "cell_type": "markdown",
   "metadata": {},
   "source": [
    "## Topic 1: Ctypes, Python --> C/C++, using simple types from the C Language\n",
    "Ctypes are defined mappings between C and Python.\n",
    "- https://docs.python.org/2/library/ctypes.html\n",
    "- https://docs.python.org/3/library/ctypes.html\n",
    "- https://wakari.io/nb/url///wakari.io/static/notebooks/Lecture_6A_Fortran_and_C.ipynb\n",
    "\n",
    "\n",
    "They serve to allow passing data to/from C/C++ functions that expect C-like data. Note, if the library expects some more complicated data structure/class you might be out of luck."
   ]
  },
  {
   "cell_type": "code",
   "execution_count": null,
   "metadata": {
    "collapsed": false
   },
   "outputs": [],
   "source": [
    "import ctypes\n",
    "curl_loc = ctypes.util.find_library('curl')\n",
    "print(curl_loc)"
   ]
  },
  {
   "cell_type": "code",
   "execution_count": null,
   "metadata": {
    "collapsed": false
   },
   "outputs": [],
   "source": [
    "!locate libcurl"
   ]
  },
  {
   "cell_type": "markdown",
   "metadata": {},
   "source": [
    "Examine all the objects. Then the exported objects. Note, if you write C++ code you wil need to prevent name mangling with the directive ``` extern \"C\" ``` "
   ]
  },
  {
   "cell_type": "code",
   "execution_count": null,
   "metadata": {
    "collapsed": false
   },
   "outputs": [],
   "source": [
    "!nm -D /usr/lib/x86_64-linux-gnu/libcurl.so.4 "
   ]
  },
  {
   "cell_type": "code",
   "execution_count": null,
   "metadata": {
    "collapsed": false
   },
   "outputs": [],
   "source": [
    "!nm -D /usr/lib/x86_64-linux-gnu/libcurl.so.4 |grep \"T \""
   ]
  },
  {
   "cell_type": "markdown",
   "metadata": {},
   "source": [
    "---\n",
    "We can load libraries in 4 ways using ctypes (CDLL, OleDLL, WinDLL, PyDLL). Items 2,3 are Windows only. You can use this method if the function signature is well defined, documented (e.g., can be formed with ctypes)."
   ]
  },
  {
   "cell_type": "code",
   "execution_count": null,
   "metadata": {
    "collapsed": false
   },
   "outputs": [],
   "source": [
    "curl = ctypes.CDLL(curl_loc)\n",
    "curl_version_info = curl.curl_version_info\n",
    "print(curl_version_info())\n",
    "easy_handle = curl.curl_easy_init()\n",
    "\n",
    "# This magic number came from a header typdef enum\n",
    "curl.curl_easy_setopt(easy_handle, 0x100000+1 , \"http://example.org\") "
   ]
  },
  {
   "cell_type": "code",
   "execution_count": 15,
   "metadata": {
    "collapsed": false
   },
   "outputs": [
    {
     "name": "stdout",
     "output_type": "stream",
     "text": [
      "Overwriting code/hello.cpp\n"
     ]
    }
   ],
   "source": [
    "%%file code/hello.cpp\n",
    "#include <iostream>\n",
    "#include <string.h>\n",
    "using namespace std;\n",
    "extern \"C\" {\n",
    "    int main () {\n",
    "        cout << \"Hello Main2\\n\";\n",
    "        return 42;\n",
    "    }\n",
    "    \n",
    "    string helloStr() {\n",
    "        return \"Hello Str\\n\";\n",
    "    }\n",
    "    \n",
    "    const char* helloStrPtr() {\n",
    "        char* p = new char[19];\n",
    "        strcpy(p,\"Hello Str Pointer\\n\");\n",
    "        return p;\n",
    "    }\n",
    "    \n",
    "    void helloStrRef(char* p) {\n",
    "        strcpy(p,\"Hello Str Ref!\\n\");\n",
    "    }\n",
    "    \n",
    "    struct MsgWrapper {\n",
    "        char * msgIn = new char[46];\n",
    "        char * msgOut = new char[46];\n",
    "    };\n",
    "    \n",
    "    void helloStrRefFromStruct(MsgWrapper s) {\n",
    "        strcpy(s.msgIn, \"Aloha\\n\");\n",
    "    }\n",
    "    \n",
    "    int missing_answer(int  i) {\n",
    "        i = (42-i);\n",
    "        return i;\n",
    "    }\n",
    "    \n",
    "     \n",
    "}"
   ]
  },
  {
   "cell_type": "markdown",
   "metadata": {
    "collapsed": true
   },
   "source": [
    "Compile to a shared library. Note, if you are on Windows you'll need to declare an export symbol or use an export library. In Linux, because all dynamic libraries share a heap, all the symbols are exported. "
   ]
  },
  {
   "cell_type": "code",
   "execution_count": 16,
   "metadata": {
    "collapsed": false
   },
   "outputs": [
    {
     "name": "stdout",
     "output_type": "stream",
     "text": [
      "Hello Main2\r\n"
     ]
    }
   ],
   "source": [
    "! rm bin/hello bin/libHello.so\n",
    "!g++ -c -std=c++11 -fPIC code/hello.cpp -o code/hello.o\n",
    "!g++ -o bin/libHello.so -shared code/hello.o\n",
    "!g++ -o bin/hello code/hello.o\n",
    "!bin/hello"
   ]
  },
  {
   "cell_type": "code",
   "execution_count": 93,
   "metadata": {
    "collapsed": false
   },
   "outputs": [
    {
     "name": "stdout",
     "output_type": "stream",
     "text": [
      "0000000000000ea0 T _fini\r\n",
      "0000000000000d87 T hello_obj_factory\r\n",
      "0000000000000cb6 T helloStr\r\n",
      "0000000000000d19 T helloStrPtr\r\n",
      "0000000000000d5e T helloStrRef\r\n",
      "0000000000000db1 T helloStrRefFromObj\r\n",
      "0000000000000ab0 T _init\r\n",
      "0000000000000c95 T main\r\n"
     ]
    }
   ],
   "source": [
    "!nm -D bin/libHello.so |grep 'T '"
   ]
  },
  {
   "cell_type": "markdown",
   "metadata": {},
   "source": [
    "###Executing a function. \n",
    "(1) As an aside, I routinely import ctypes in each cell and reload the library, because if anything goes wrong, the kernel crashes (and the dynamic loaded library is lost). (2) Also, I explicitly didn't import * from cTypes so you can see which functions are from the module."
   ]
  },
  {
   "cell_type": "code",
   "execution_count": 35,
   "metadata": {
    "collapsed": false
   },
   "outputs": [
    {
     "name": "stdout",
     "output_type": "stream",
     "text": [
      "42\n",
      "-121235056\n"
     ]
    }
   ],
   "source": [
    "import ctypes\n",
    "helloCpp = ctypes.CDLL('./bin/libHello.so')\n",
    "print(helloCpp.main()) # Note this prints the return code, not hello\n",
    "print(helloCpp.helloStr()) # Note this doesn't wactually pass back a string, but the pointer to a string.\n",
    "\n",
    "# These will attempt to deref a pointer to a value that may not exist.\n",
    "#a_str_ptr = helloCpp.helloStr()\n",
    "#print(ctypes.c_char_p(a_str_ptr).value)\n"
   ]
  },
  {
   "cell_type": "markdown",
   "metadata": {},
   "source": [
    "Executing a function and catching the result. Note, it is pointer to a string, so we will have to dereference it to get the string value. "
   ]
  },
  {
   "cell_type": "code",
   "execution_count": 4,
   "metadata": {
    "collapsed": false
   },
   "outputs": [
    {
     "name": "stdout",
     "output_type": "stream",
     "text": [
      "28594528\n",
      "Hello Str Pointer\n",
      "\n"
     ]
    }
   ],
   "source": [
    "import ctypes\n",
    "helloCpp = ctypes.CDLL('./bin/libHello.so')\n",
    "a_str_ptr = helloCpp.helloStrPtr() # Returns a pointer to a string (char* or c_char_p)\n",
    "print(a_str_ptr)\n",
    "#print(a_str_ptr.value) Fails to deref as python doesn't have it cast as a cType.c_char_p.\n",
    "print(ctypes.c_char_p(a_str_ptr).value) # Dereferences it to get the char"
   ]
  },
  {
   "cell_type": "markdown",
   "metadata": {},
   "source": [
    "We can also pass a reference to a string into the code."
   ]
  },
  {
   "cell_type": "code",
   "execution_count": 41,
   "metadata": {
    "collapsed": false
   },
   "outputs": [
    {
     "name": "stdout",
     "output_type": "stream",
     "text": [
      "<ctypes.c_char_Array_46 object at 0x7f4bf94b9cb0>\n",
      "Hello Str Ref!\n",
      "\n"
     ]
    }
   ],
   "source": [
    "import ctypes\n",
    "helloCpp = ctypes.CDLL('./bin/libHello.so')\n",
    "a_str_ptr2 = ctypes.create_string_buffer('\\000' * 45)\n",
    "helloCpp.helloStrRef(ctypes.byref(a_str_ptr2)) # passes in the pointer \n",
    "print(a_str_ptr2)\n",
    "print(a_str_ptr2.value) "
   ]
  },
  {
   "cell_type": "markdown",
   "metadata": {},
   "source": [
    "We can even generate structs and such to pass the data back and forth"
   ]
  },
  {
   "cell_type": "code",
   "execution_count": 1,
   "metadata": {
    "collapsed": false,
    "scrolled": true
   },
   "outputs": [
    {
     "name": "stdout",
     "output_type": "stream",
     "text": [
      "Hello\n",
      "Goodbye\n"
     ]
    }
   ],
   "source": [
    "import ctypes\n",
    "helloCpp = ctypes.CDLL('./bin/libHello.so')\n",
    "class MsgWrapper(ctypes.Structure):\n",
    "    _fields_ = [(\"msgOut\", ctypes.c_char_p), (\"msgIn\", ctypes.c_char_p)]\n",
    "amsg = MsgWrapper(\"Goodbye\", \"Hello\")\n",
    "print(amsg.msgIn)\n",
    "print(amsg.msgOut)"
   ]
  },
  {
   "cell_type": "code",
   "execution_count": 2,
   "metadata": {
    "collapsed": false
   },
   "outputs": [
    {
     "name": "stdout",
     "output_type": "stream",
     "text": [
      "Hello\n",
      "No Seriously, Bye\n",
      "\n"
     ]
    }
   ],
   "source": [
    "helloCpp.helloStrRefFromStruct(amsg)\n",
    "print(amsg.msgIn)\n",
    "print(amsg.msgOut)"
   ]
  },
  {
   "cell_type": "code",
   "execution_count": 17,
   "metadata": {
    "collapsed": false
   },
   "outputs": [
    {
     "name": "stdout",
     "output_type": "stream",
     "text": [
      "18\n"
     ]
    }
   ],
   "source": [
    "import ctypes\n",
    "helloCpp = ctypes.CDLL('./bin/libHello.so')\n",
    "print(helloCpp.missing_answer(24))"
   ]
  },
  {
   "cell_type": "markdown",
   "metadata": {},
   "source": [
    "###Pitfalls with ctypes\n",
    "----\n",
    " - Endian specification\n",
    " - C++ name mangling\n",
    " - memory leaks (allocation in c/c++ without deallocation). These can easily happen across the interface if you're not passing by reference (with byref).\n",
    " - pointer problems "
   ]
  },
  {
   "cell_type": "markdown",
   "metadata": {
    "collapsed": true
   },
   "source": [
    "What about more complicated input and output? C-types only have structs and unions, but not classes. Therefore, we can't pass around objects from a C++ library. Enter pyObject......"
   ]
  },
  {
   "cell_type": "markdown",
   "metadata": {
    "collapsed": true
   },
   "source": [
    "##Topic 2: pyObject,  Python in modules C/C++ "
   ]
  },
  {
   "cell_type": "markdown",
   "metadata": {
    "collapsed": true
   },
   "source": [
    "A pyObject is a Python object in C.  Also, *everything* in Python is really a pyObject. Using it, we get inerfaces that can do anything python can do (though the wrapping of complicated Python objects requires equally complicated code). Strangely, everything I've seen uses pyObjects to make modules, rather than some lightweight interface like ctypes. \n",
    " - https://docs.python.org/2/extending/extending.html\n",
    " - https://docs.python.org/3/extending/extending.html\n",
    " - http://intermediate-and-advanced-software-carpentry.readthedocs.org/en/latest/c++-wrapping.html\n",
    " - (my favorite, includes numpy headers, deploying with setup.py, etc) http://dan.iel.fm/posts/python-c-extensions/\n",
    " \n",
    "To start, what do you need in a module containing :\n",
    "  1. Function: The function which takes and possibly returns a pyObject\n",
    "  1. Method Table: A static definition of the function signature, how it is called, it's name in python, in C/C++\n",
    "  1. Initialization: An initialization call for the function (which I belive registers the module and this function as a function of the module."
   ]
  },
  {
   "cell_type": "code",
   "execution_count": 19,
   "metadata": {
    "collapsed": false
   },
   "outputs": [
    {
     "name": "stdout",
     "output_type": "stream",
     "text": [
      "Overwriting code/Simple.cpp\n"
     ]
    }
   ],
   "source": [
    "%%file code/Simple.cpp\n",
    "#include <python2.7/Python.h>  //Contains the spec for the Python API, pyObject, etc.\n",
    "\n",
    "//Function 1\n",
    "static PyObject * answer_to_everything(PyObject *self, PyObject *args)\n",
    "{\n",
    "    return PyLong_FromLong(42); // convert to Python object of a type\n",
    "}\n",
    "\n",
    "//Function 2\n",
    "static PyObject * missing_from_answer_to_everything(PyObject *self, PyObject *args)\n",
    "{\n",
    "    int sts;\n",
    "    if (!PyArg_ParseTuple(args, \"i\", &sts)) //\"((ii)(ii))(ii)\", is f((0, 0), (400, 300)), (10, 10))\n",
    "        return NULL;                        //\"s|si\", is f('wer','d', 10) or f('cmd')\n",
    "    sts = 42 - sts;\n",
    "    PyObject * ret = PyLong_FromLong(sts); // convert to Python object of a type\n",
    "    return ret;\n",
    "}\n",
    "\n",
    "// Static that maps C names to python and outlines the variables\n",
    "static PyMethodDef SimpleMethods[] = {\n",
    "    {\"what_is_the_answer\",  answer_to_everything, METH_VARARGS,\n",
    "     \"Gets The Answer.\"}, \n",
    "    {\"missing_answer\",  missing_from_answer_to_everything, METH_VARARGS,\n",
    "     \"Finds what you're missing.\"},\n",
    "    {NULL, NULL, 0, NULL}        /* Sentinel */\n",
    "};\n",
    "\n",
    "\n",
    "\n",
    "// Registration of the functions and generation of the module\n",
    "PyMODINIT_FUNC\n",
    "initSimple(void)  // MUST be named \"initFoo\" for a library with name of \"Foo\"\n",
    "{\n",
    "    (void) Py_InitModule(\"Simple\", SimpleMethods);\n",
    "}"
   ]
  },
  {
   "cell_type": "markdown",
   "metadata": {},
   "source": [
    "When compiling this, you have to explicitly link in the python library. Otherwise, the objects will compile, but the functions for things like (PyArg_ParseTuple won't be defined).\n",
    "Also, note that the PyMODINIT_FUNC makes the init an \"extern C\" function without mangling."
   ]
  },
  {
   "cell_type": "code",
   "execution_count": 20,
   "metadata": {
    "collapsed": false
   },
   "outputs": [
    {
     "name": "stdout",
     "output_type": "stream",
     "text": [
      "000000000000086c T _fini\r\n",
      "0000000000000658 T _init\r\n",
      "0000000000000843 T initSimple\r\n"
     ]
    }
   ],
   "source": [
    "! rm bin/Simple.so Simple.so\n",
    "!g++ -c -std=c++11 -fPIC code/Simple.cpp -o code/Simple.o \n",
    "!g++ -o bin/Simple.so -shared code/Simple.o -L/usr/lib -lpython2.7\n",
    "!nm -D bin/Simple.so |grep 'T '\n",
    "!ln -s ./bin/Simple.so Simple.so"
   ]
  },
  {
   "cell_type": "code",
   "execution_count": 4,
   "metadata": {
    "collapsed": false
   },
   "outputs": [
    {
     "name": "stdout",
     "output_type": "stream",
     "text": [
      "42\n",
      "19\n"
     ]
    }
   ],
   "source": [
    "import Simple\n",
    "print(Simple.what_is_the_answer(234234))\n",
    "print(Simple.missing_answer(23))\n"
   ]
  },
  {
   "cell_type": "markdown",
   "metadata": {},
   "source": [
    "If we want to be clever, we could pass a function into C/C++. "
   ]
  },
  {
   "cell_type": "code",
   "execution_count": 2,
   "metadata": {
    "collapsed": false
   },
   "outputs": [
    {
     "name": "stdout",
     "output_type": "stream",
     "text": [
      "Overwriting code/SimpleFcn.cpp\n"
     ]
    }
   ],
   "source": [
    "%%file code/SimpleFcn.cpp\n",
    "#include <python2.7/Python.h>  //Contains the spec for the Python API, pyObject, etc.\n",
    "\n",
    "// First we need to accept and set Python function as the callback\n",
    "// Note, this set function is right from the Python Documentation\n",
    "static PyObject *my_callback = NULL;\n",
    "static PyObject * my_set_callback(PyObject *dummy, PyObject *args)\n",
    "{\n",
    "    PyObject *result = NULL;\n",
    "    PyObject *temp;\n",
    "\n",
    "    if (PyArg_ParseTuple(args, \"O:set_callback\", &temp)) {\n",
    "        if (!PyCallable_Check(temp)) {\n",
    "            PyErr_SetString(PyExc_TypeError, \"parameter must be callable\");\n",
    "            return NULL;\n",
    "        }\n",
    "        Py_XINCREF(temp);         /* Add a reference to new callback */\n",
    "        Py_XDECREF(my_callback);  /* Dispose of previous callback */\n",
    "        my_callback = temp;       /* Remember new callback */\n",
    "        /* Boilerplate to return \"None\" */\n",
    "        Py_INCREF(Py_None);\n",
    "        result = Py_None;\n",
    "    }\n",
    "    return result;\n",
    "}\n",
    "\n",
    "\n",
    "//Now we call the funciton\n",
    "static PyObject * simple_callback(PyObject *self, PyObject *args)\n",
    "{\n",
    "    return PyObject_CallObject(my_callback, args);\n",
    "}\n",
    "\n",
    "//Calling a more pedantic fashion to highlight decrementing for garbage collection\n",
    "//Also, we could do something with the result in C/C++ if we wanted\n",
    "//Note, modified from  Python Documetation\n",
    "static PyObject * pedantic_callback(PyObject *self, PyObject *args)\n",
    "{\n",
    "    double val_in;\n",
    "    if (!PyArg_ParseTuple(args, \"d\", &val_in)) \n",
    "        return NULL;  \n",
    "    //val_in = val_in*42;\n",
    "    //return PyFloat_FromDouble(val_in);\n",
    "    \n",
    "    PyObject *arglist;\n",
    "    PyObject *result;\n",
    "    arglist = Py_BuildValue(\"(d)\", val_in);\n",
    "    //return arglist; //Actually breaks from Python and returns (foo,) rather than (foo)\n",
    "    result = PyObject_CallObject(my_callback, arglist);\n",
    "    Py_DECREF(arglist); // Note decref to release args. It was only needed for the fcn call.\n",
    "    //return arglist; // Would return ((<NULL>,),)\n",
    "    return result;\n",
    "    \n",
    "}\n",
    "\n",
    "// Static that maps C names to python and outlines the variables\n",
    "static PyMethodDef SimpleMethods[] = {\n",
    "    {\"set_fcn_callback\",  my_set_callback, METH_VARARGS,\n",
    "     \"Sets_a_callback.\"},\n",
    "    {\"simple_callback\",  simple_callback, METH_VARARGS,\n",
    "     \"calls back with passthrough args.\"},\n",
    "    {\"pedantic_callback\",  pedantic_callback, METH_VARARGS,\n",
    "     \"calls back with explicit int args.\"},\n",
    "    {NULL, NULL, 0, NULL}        /* Sentinel */\n",
    "};\n",
    "\n",
    "// Registration of the functions and generation of the module\n",
    "PyMODINIT_FUNC\n",
    "initSimpleFcn(void)  // MUST be named \"initFoo\" for a library with name of \"Foo\"\n",
    "{\n",
    "    (void) Py_InitModule(\"SimpleFcn\", SimpleMethods);\n",
    "}"
   ]
  },
  {
   "cell_type": "code",
   "execution_count": null,
   "metadata": {
    "collapsed": true
   },
   "outputs": [],
   "source": [
    "%%file code/setup.py\n",
    "\n",
    "from distutils.core import setup, Extension\n",
    "\n",
    "setup(\n",
    "    ext_modules=[Extension(\"SimpleFcn\", [\"SimpleFcn.cpp\"])],\n",
    ")\n"
   ]
  },
  {
   "cell_type": "markdown",
   "metadata": {},
   "source": [
    "Go build this in conda's python via ```python setup.py build_ext --inplace```"
   ]
  },
  {
   "cell_type": "code",
   "execution_count": 3,
   "metadata": {
    "collapsed": false
   },
   "outputs": [
    {
     "name": "stdout",
     "output_type": "stream",
     "text": [
      "0000000000000b98 T _fini\r\n",
      "00000000000007e8 T _init\r\n",
      "0000000000000b6c T initSimpleFcn\r\n"
     ]
    }
   ],
   "source": [
    "! rm bin/SimpleFcn.so SimpleFcn.so\n",
    "!g++ -c -std=c++11 -fPIC code/SimpleFcn.cpp -o code/SimpleFcn.o \n",
    "!g++ -o bin/SimpleFcn.so -shared code/SimpleFcn.o -L/usr/lib -lpython2.7\n",
    "!nm -D bin/SimpleFcn.so |grep 'T '\n",
    "!ln -s ./bin/SimpleFcn.so SimpleFcn.so"
   ]
  },
  {
   "cell_type": "code",
   "execution_count": null,
   "metadata": {
    "collapsed": false
   },
   "outputs": [],
   "source": [
    "import SimpleFcn\n",
    "def what_is_the_answer_with_inflation(rate):\n",
    "    #%debug\n",
    "    #import rpdb2; rpdb2.start_embedded_debugger('12345')\n",
    "    return 42*rate\n",
    "print(what_is_the_answer_with_inflation(1.02))   \n",
    "SimpleFcn.set_fcn_callback(what_is_the_answer_with_inflation)\n",
    "print(SimpleFcn.simple_callback(1.02))\n",
    "print(SimpleFcn.simple_callback(1.07))\n",
    "print(SimpleFcn.pedantic_callback(1.02))\n",
    "print(SimpleFcn.pedantic_callback(\"1.07\"))\n"
   ]
  },
  {
   "cell_type": "markdown",
   "metadata": {},
   "source": [
    "###Pitfalls with pyObject\n",
    "----\n",
    " - The *first* line of the C/C++ file should be '''#include < python2.7/Python.h\\> ''' because it may alter how other headers are loaded (such as iostream). \n",
    "   - Note, most tutorials will have you just write '''< Python.h\\>''', which won't find the file\n",
    "   - This is available in Ubuntu via python-dev  \n",
    "   - When linking, you need to include the python library libpython<ver>. In this case, it's libpython2.7.so.\n",
    " - Reference counting needs to be done correctly to prevent memory leaks when variables are generated on one side and destroyed on another. If the same variable is passed back/forth it\n",
    " - You can run into strange errors when you're not converting to the right Python type (e.g., long when int needed, etc).\n",
    "   -This is all documented in the c-api documentation."
   ]
  },
  {
   "cell_type": "markdown",
   "metadata": {},
   "source": [
    "##Topic 3: Boost Python,  Seamless Python and Boost Integration\n",
    "\n",
    "First, the example from boost (boost_1_58_0/libs/python/doc/index.html).\n",
    " - Note, I needed to put these libraries on the path \"export LD_LIBRARY_PATH=$LD_LIBRARY_PATH:/usr/local/boost/1.58/lib\n",
    "\"\n",
    " - If you notice, this the easiest implementation so far. "
   ]
  },
  {
   "cell_type": "code",
   "execution_count": 2,
   "metadata": {
    "collapsed": false
   },
   "outputs": [
    {
     "name": "stdout",
     "output_type": "stream",
     "text": [
      "Overwriting code/hello_ext.cpp\n"
     ]
    }
   ],
   "source": [
    "%%file code/hello_ext.cpp\n",
    "#include <boost/python.hpp>\n",
    "\n",
    "char const* greet()\n",
    "{\n",
    "   return \"hello, world\";\n",
    "}\n",
    "\n",
    "BOOST_PYTHON_MODULE(hello_ext) //Will define the module init name via macros (see objects below)\n",
    "{\n",
    "    using namespace boost::python;\n",
    "    def(\"greet\", greet);\n",
    "}\n"
   ]
  },
  {
   "cell_type": "code",
   "execution_count": 3,
   "metadata": {
    "collapsed": false
   },
   "outputs": [
    {
     "name": "stdout",
     "output_type": "stream",
     "text": [
      "0000000000005dc8 T _fini\n",
      "0000000000004948 T _init\n",
      "0000000000005002 T inithello_ext\n",
      "000000000000501e T _Z21init_module_hello_extv\n",
      "0000000000004ff5 T _Z5greetv\n",
      "\tlinux-vdso.so.1 =>  (0x00007fffcaf72000)\n",
      "\tlibboost_python.so.1.58.0 => /usr/local/boost/1.58/lib/libboost_python.so.1.58.0 (0x00007fd8c2299000)\n",
      "\tlibstdc++.so.6 => /usr/lib/x86_64-linux-gnu/libstdc++.so.6 (0x00007fd8c1f7f000)\n",
      "\tlibgcc_s.so.1 => /lib/x86_64-linux-gnu/libgcc_s.so.1 (0x00007fd8c1d68000)\n",
      "\tlibc.so.6 => /lib/x86_64-linux-gnu/libc.so.6 (0x00007fd8c19a2000)\n",
      "\tlibm.so.6 => /lib/x86_64-linux-gnu/libm.so.6 (0x00007fd8c169c000)\n",
      "\t/lib64/ld-linux-x86-64.so.2 (0x00007fd8c26f1000)\n"
     ]
    }
   ],
   "source": [
    "!rm bin/hello_ext.so hello_ext.so\n",
    "!g++ -c -std=c++11 -fPIC code/hello_ext.cpp -o code/hello_ext.o -I/home/ashaver/anaconda/include/python2.7 -I/usr/local/boost/1.58/include\n",
    "!g++ -o bin/hello_ext.so -shared code/hello_ext.o /usr/local/boost/1.58/lib/libboost_python.so\n",
    "!nm -D bin/hello_ext.so |grep 'T '\n",
    "!ln -s ./bin/hello_ext.so hello_ext.so\n",
    "!ldd hello_ext.so\n"
   ]
  },
  {
   "cell_type": "code",
   "execution_count": 1,
   "metadata": {
    "collapsed": false
   },
   "outputs": [
    {
     "name": "stdout",
     "output_type": "stream",
     "text": [
      "hello, world\n"
     ]
    }
   ],
   "source": [
    "# Must have python on the path.\n",
    "import hello_ext\n",
    "print hello_ext.greet()"
   ]
  },
  {
   "cell_type": "markdown",
   "metadata": {
    "collapsed": true
   },
   "source": [
    "Let's pass in a variable and a function, just like with ctypes and pyObject types. We're going to use the pattern on BOOST_PYTHON_FUNCTION_OVERLOADS (boost_1_58_0/libs/python/doc/tutorial/doc/html/python/functions.html)"
   ]
  },
  {
   "cell_type": "code",
   "execution_count": 1,
   "metadata": {
    "collapsed": false
   },
   "outputs": [
    {
     "name": "stdout",
     "output_type": "stream",
     "text": [
      "Overwriting code/boost42.cpp\n"
     ]
    }
   ],
   "source": [
    "%%file code/boost42.cpp\n",
    "#include <boost/python.hpp>\n",
    "        \n",
    "int missing_answer(int a) {\n",
    "    return (42-a);\n",
    "}\n",
    "\n",
    "BOOST_PYTHON_MODULE(boost42) //Will define the module init name via macros (see objects below)\n",
    "{\n",
    "    using namespace boost::python;\n",
    "    def(\"missing_answer\", missing_answer);\n",
    "}\n",
    "\n"
   ]
  },
  {
   "cell_type": "code",
   "execution_count": 14,
   "metadata": {
    "collapsed": false
   },
   "outputs": [
    {
     "name": "stdout",
     "output_type": "stream",
     "text": [
      "rm: cannot remove ‘bin/boost42.so’: No such file or directory\n",
      "0000000000006c20 T _fini\n",
      "00000000000053b0 T _init\n",
      "0000000000005b76 T initboost42\n",
      "0000000000005b65 T _Z14missing_answeri\n",
      "0000000000005b92 T _Z19init_module_boost42v\n",
      "\tlinux-vdso.so.1 =>  (0x00007fff627fc000)\n",
      "\tlibboost_python.so.1.58.0 => /usr/local/boost/1.58/lib/libboost_python.so.1.58.0 (0x00007fe4f8026000)\n",
      "\tlibstdc++.so.6 => /usr/lib/x86_64-linux-gnu/libstdc++.so.6 (0x00007fe4f7d0c000)\n",
      "\tlibgcc_s.so.1 => /lib/x86_64-linux-gnu/libgcc_s.so.1 (0x00007fe4f7af5000)\n",
      "\tlibc.so.6 => /lib/x86_64-linux-gnu/libc.so.6 (0x00007fe4f772f000)\n",
      "\tlibm.so.6 => /lib/x86_64-linux-gnu/libm.so.6 (0x00007fe4f7429000)\n",
      "\t/lib64/ld-linux-x86-64.so.2 (0x00007fe4f8480000)\n"
     ]
    }
   ],
   "source": [
    "!rm bin/boost42.so boost42.so\n",
    "!g++ -c -std=c++11 -fPIC code/boost42.cpp -o code/boost42.o -I/home/ashaver/anaconda/include/python2.7 -I/usr/local/boost/1.58/include\n",
    "!g++ -o bin/boost42.so -shared code/boost42.o /usr/local/boost/1.58/lib/libboost_python.so\n",
    "!nm -D bin/boost42.so |grep 'T '\n",
    "!ln -s ./bin/boost42.so boost42.so\n",
    "!ldd boost42.so"
   ]
  },
  {
   "cell_type": "markdown",
   "metadata": {},
   "source": [
    "We can call python from boost in various ways. This is called \"embedding\" in Boost lingo.\n",
    " - object eval(str expression, object globals = object(), object locals = object())\n",
    " - object exec(str code, object globals = object(), object locals = object())\n",
    " - object exec_file(str filename, object globals = object(), object locals = object())\n",
    " - or...import a module and work within its namespace"
   ]
  },
  {
   "cell_type": "code",
   "execution_count": 3,
   "metadata": {
    "collapsed": false
   },
   "outputs": [
    {
     "name": "stdout",
     "output_type": "stream",
     "text": [
      "Overwriting code/boostUsingPython.cpp\n"
     ]
    }
   ],
   "source": [
    "%%file code/boostUsingPython.cpp\n",
    "#include <boost/python.hpp>\n",
    "#include <iostream>\n",
    "using namespace boost::python;\n",
    "        \n",
    "int main() {\n",
    "    Py_Initialize();\n",
    "    object random_module = import(\"random\");\n",
    "    object rand_namespace = random_module.attr(\"__dict__\");\n",
    "    object ignored = exec(\"result = gauss(2,5)\", rand_namespace);\n",
    "    double val = extract<double>(rand_namespace[\"result\"]);\n",
    "    std::cout << val <<'\\n';\n",
    "    return 0;\n",
    "};"
   ]
  },
  {
   "cell_type": "code",
   "execution_count": 5,
   "metadata": {
    "collapsed": false
   },
   "outputs": [
    {
     "name": "stdout",
     "output_type": "stream",
     "text": [
      "1.28748\n",
      "5.99511\n",
      "2.04232\n",
      "3.06392\n",
      "2.48043\n"
     ]
    }
   ],
   "source": [
    "!g++ -c -std=c++11 -fPIC code/boostUsingPython.cpp -o code/boostUsingPython.o -I/home/ashaver/anaconda/include/python2.7 -I/usr/local/boost/1.58/include\n",
    "!g++ -o bin/boostUsingPython code/boostUsingPython.o /usr/local/boost/1.58/lib/libboost_python.so -lpython2.7\n",
    "!bin/boostUsingPython\n",
    "!bin/boostUsingPython\n",
    "!bin/boostUsingPython\n",
    "!bin/boostUsingPython\n",
    "!bin/boostUsingPython\n"
   ]
  },
  {
   "cell_type": "markdown",
   "metadata": {},
   "source": [
    "###Pitfalls with Boost Python\n",
    "----\n",
    " - Compiling boost, not having it on the path at runtime (which is easy to catch)\n",
    " - Not extracting the correct type\n",
    " - Something goes wrong in the macros, which you would have to read the C-header compiled code (before the object file is made)\n",
    " - Not putting the #include <boost/python.hpp> at the top\n",
    " - Forgetting to link in the boost python library "
   ]
  },
  {
   "cell_type": "markdown",
   "metadata": {},
   "source": [
    "## Topics 1-3 Wrap up\n",
    "We compare the speed of the three interfaces below.\n",
    "    - All three interface types are comperably quick (unless your bottleneck is actually the interface).\n",
    "    - Boost has the smallest code, thought takes the longest to compile\n",
    "    - The pyObject interface is the fastest, for whatever reason.\n",
    "    - cTypes will sometimes let you work with native libraires, iff they take simple types.\n",
    "I personally prefer boost, as it takes care of the references via smart pointers, extends well to complicated things, meshes will with C/C++ overloading conventions, etc."
   ]
  },
  {
   "cell_type": "code",
   "execution_count": 8,
   "metadata": {
    "collapsed": false
   },
   "outputs": [
    {
     "name": "stdout",
     "output_type": "stream",
     "text": [
      "18\n",
      "The slowest run took 24.46 times longer than the fastest. This could mean that an intermediate result is being cached \n",
      "1000000 loops, best of 3: 283 ns per loop\n",
      "CPU times: user 8 µs, sys: 0 ns, total: 8 µs\n",
      "Wall time: 16 µs\n",
      "18\n",
      "The slowest run took 24.20 times longer than the fastest. This could mean that an intermediate result is being cached \n",
      "10000000 loops, best of 3: 167 ns per loop\n",
      "CPU times: user 0 ns, sys: 0 ns, total: 0 ns\n",
      "Wall time: 12.9 µs\n",
      "18\n",
      "The slowest run took 31.60 times longer than the fastest. This could mean that an intermediate result is being cached \n",
      "1000000 loops, best of 3: 219 ns per loop\n",
      "CPU times: user 0 ns, sys: 0 ns, total: 0 ns\n",
      "Wall time: 16.9 µs\n"
     ]
    },
    {
     "data": {
      "text/plain": [
       "18"
      ]
     },
     "execution_count": 8,
     "metadata": {},
     "output_type": "execute_result"
    }
   ],
   "source": [
    "import ctypes\n",
    "helloCpp = ctypes.CDLL('./bin/libHello.so')\n",
    "print(helloCpp.missing_answer(24)) \n",
    "%timeit helloCpp.missing_answer(24)\n",
    "%time helloCpp.missing_answer(24)\n",
    "\n",
    "import Simple\n",
    "print(Simple.missing_answer(24))\n",
    "%timeit Simple.missing_answer(24)\n",
    "%time Simple.missing_answer(24)\n",
    "\n",
    "import boost42\n",
    "print(boost42.missing_answer(24))\n",
    "%timeit boost42.missing_answer(24)\n",
    "%time boost42.missing_answer(24)"
   ]
  },
  {
   "cell_type": "markdown",
   "metadata": {},
   "source": [
    "##Topic 4: Zato.io, using an ESB to integrate Python\n",
    "\n",
    "Installation/download is different for each platform:\n",
    "- https://zato.io/downloads.html\n",
    "- https://zato.io/downloads-2.0-ubuntu.html\n",
    "\n",
    "My install instrutions (curl didn't work, substituted wget and cat). \n",
    "\n",
    "---\n",
    "\n",
    "- sudo apt-get install apt-transport-https\n",
    "- sudo apt-get install python-software-properties software-properties-common\n",
    "- wget https://zato.io/repo/zato-0CBD7F72.pgp.asc\n",
    "- cat zato-0CBD7F72.pgp.asc | sudo apt-key add -\n",
    "- sudo apt-add-repository https://zato.io/repo/stable/2.0/ubuntu\n",
    "- sudo apt-get update\n",
    "- sudo apt-get -y install zato\n",
    "- reboot, as the install made a user 'zato ESB'\n",
    "---\n",
    "  "
   ]
  },
  {
   "cell_type": "markdown",
   "metadata": {
    "collapsed": true
   },
   "source": [
    "Tutorial (From Zato)\n",
    " - Option 1, using Docker (https://zato.io/docs/2.0/admin/guide/install-docker.html)\n",
    " - Option 2\n",
    "  - Getting redis (http://redis.io/)\n",
    "    - wget http://download.redis.io/releases/redis-3.0.2.tar.gz\n",
    "    - tar -xzvf redis-3.0.2.tar.gz\n",
    "    - cd redis-3.0.2\n",
    "    - make \n",
    "    - make test\n",
    "    - sudo make install\n",
    "    - cd utils\n",
    "    - sudo ./install_server.sh\n",
    "   \n",
    "    ```\n",
    "    Success!\n",
    "    Starting Redis server...\n",
    "    Installation successful! \n",
    "    ```\n",
    "  - cd /usr/local/bin\n",
    "  - sudo ln -s /opt/zato/2.0.5/bin/zato zato # Was missing line in the tutorial...zato wasn't in bin.\n",
    "  - sudo su zato -\n",
    "  - cd ~\n",
    "  - mkdir -p env/qs-1\n",
    "  - /opt/zato/2.0.5/bin/zato quickstart create ~/env/qs-1 sqlite localhost 6379 --kvdb_password '' --verbose\n",
    "  - This output is **important** as it contains log-in info for administration!\n",
    " ```\n",
    " [1/8] Certificate authority created\n",
    "[2/8] ODB schema created\n",
    "[3/8] ODB initial data created\n",
    "[4/8] server1 created\n",
    "[5/8] server2 created\n",
    "[6/8] Load-balancer created\n",
    "Superuser created successfully.\n",
    "[7/8] Web admin created\n",
    "[8/8] Management scripts created\n",
    "Quickstart cluster quickstart-578017 created\n",
    "Web admin user:[admin], password:[ibes-fiar-esim-moye]\n",
    "Start the cluster by issuing the /opt/zato/env/qs-1/zato-qs-start.sh command\n",
    "Visit https://zato.io/support for more information and support options\n",
    "```\n",
    "  - /opt/zato/env/qs-1/zato-qs-start.sh\n",
    "  ```\n",
    "Starting the Zato cluster quickstart-578017\n",
    "Running sanity checks\n",
    "[1/6] Redis connection OK\n",
    "[2/6] SQL ODB connection OK\n",
    "[3/6] Load-balancer started\n",
    "[4/6] server1 started\n",
    "[5/6] server2 started\n",
    "[6/6] Web admin started\n",
    "Zato cluster quickstart-578017 started\n",
    "Visit https://zato.io/support for more information and support options\n",
    "```\n",
    "  - zato check-config /opt/zato/env/qs-1/server1\n",
    "  - zato check-config /opt/zato/env/qs-1/server2\n",
    "  - curl localhost:11223/zato/ping ; echo\n",
    "  "
   ]
  },
  {
   "cell_type": "code",
   "execution_count": 2,
   "metadata": {
    "collapsed": false
   },
   "outputs": [
    {
     "name": "stdout",
     "output_type": "stream",
     "text": [
      "Writing zato_tutorial/my_service.py\n"
     ]
    }
   ],
   "source": [
    "%%file zato_tutorial/my_service.py\n",
    "\n",
    "from zato.server.service import Service\n",
    "\n",
    "class GetClientDetails(Service):\n",
    "    def handle(self): # The only method that *has* to be defined. This is the event-triggered entry point.\n",
    "        self.log_input()"
   ]
  },
  {
   "cell_type": "code",
   "execution_count": 1,
   "metadata": {
    "collapsed": false
   },
   "outputs": [
    {
     "name": "stdout",
     "output_type": "stream",
     "text": [
      "{\n",
      " \"firstName\": \"Sean\", \n",
      " \"lastName\": \"O'Brien\"\n",
      "}\n",
      "{\n",
      " \"DATE\": \"2013-05-14T10:42:14.401555\", \n",
      " \"AMOUNT\": \"357\"\n",
      "}\n"
     ]
    }
   ],
   "source": [
    "!curl http://tutorial.zato.io/get-customer\n",
    "!curl http://tutorial.zato.io/get-last-payment"
   ]
  },
  {
   "cell_type": "code",
   "execution_count": 5,
   "metadata": {
    "collapsed": false
   },
   "outputs": [
    {
     "name": "stdout",
     "output_type": "stream",
     "text": [
      "Overwriting zato_tutorial/my_service.py\n"
     ]
    }
   ],
   "source": [
    "%%file zato_tutorial/my_service.py\n",
    "from zato.server.service import Service\n",
    "\n",
    "class GetClientDetails(Service):\n",
    "    def handle(self): # The only method that *has* to be defined. This is the event-triggered entry point.\n",
    "        self.logger.info('Request: {}'.format(self.request.payload))\n",
    "        self.logger.info('Request type: {}'.format(type(self.request.payload)))\n",
    "\n",
    "        # Fetch connection to CRM\n",
    "        crm = self.outgoing.plain_http.get('CRM')\n",
    "\n",
    "        # Fetch connection to Payments\n",
    "        payments = self.outgoing.plain_http.get('Payments')\n",
    "\n",
    "        # Grab the customer info ..\n",
    "        response = crm.conn.send(self.cid, self.request.payload)\n",
    "        cust = response.data\n",
    "\n",
    "        # .. and last payment's details\n",
    "        response = payments.conn.send(self.cid, self.request.payload)\n",
    "        last_payment = response.data\n",
    "\n",
    "        self.logger.info('Customer details: {}'.format(cust))\n",
    "        self.logger.info('Last payment: {}'.format(last_payment))\n",
    "\n",
    "        response = {}\n",
    "        response['first_name'] = cust['firstName']\n",
    "        response['last_name'] = cust['lastName']\n",
    "        response['last_payment_date'] = last_payment['DATE']\n",
    "        response['last_payment_amount'] = last_payment['AMOUNT']\n",
    "\n",
    "        self.logger.info('Response: {}'.format(response))\n",
    "        #import rpdb2; rpdb2.start_embedded_debugger('12345') # doesnt' work....\n",
    "        \n",
    "        # And return response to the caller\n",
    "        self.response.payload = response"
   ]
  },
  {
   "cell_type": "code",
   "execution_count": 6,
   "metadata": {
    "collapsed": false
   },
   "outputs": [
    {
     "name": "stdout",
     "output_type": "stream",
     "text": [
      "/bin/cp: /bin/cp: cannot execute binary file\r\n"
     ]
    }
   ],
   "source": [
    "!sudo su zato cp zato_tutorial/my_service.py /opt/zato/env/qs-1/server2/pickup-dir/"
   ]
  },
  {
   "cell_type": "code",
   "execution_count": null,
   "metadata": {
    "collapsed": true
   },
   "outputs": [],
   "source": [
    "!curl localhost:11223/tutorial/first-service -d '{\"cust_id\":123, \"cust_type\":\"A\"}'\n",
    "    "
   ]
  },
  {
   "cell_type": "markdown",
   "metadata": {},
   "source": [
    "Go read and work through https://zato.io/docs/tutorial/02.html\n",
    "Imho, worth it to get an introduction to zmq"
   ]
  },
  {
   "cell_type": "code",
   "execution_count": null,
   "metadata": {
    "collapsed": true
   },
   "outputs": [],
   "source": [
    "!ls /opt/zato/2.0.5/bin/"
   ]
  },
  {
   "cell_type": "markdown",
   "metadata": {},
   "source": [
    "We're going to install our package Simple from earlier. \n",
    " - cp simplePkg .\n",
    " - /opt/zato/2.0.5/bin/python setup.py build_ext install"
   ]
  },
  {
   "cell_type": "code",
   "execution_count": 5,
   "metadata": {
    "collapsed": false
   },
   "outputs": [
    {
     "name": "stdout",
     "output_type": "stream",
     "text": [
      "Overwriting zato_tutorial/my_answer.py\n"
     ]
    }
   ],
   "source": [
    "%%file zato_tutorial/my_answer.py\n",
    "\n",
    "from zato.server.service import Service\n",
    "import Simple\n",
    "\n",
    "class GetClientAnswer(Service):\n",
    "    def handle(self): # The only method that *has* to be defined. This is the event-triggered entry point.\n",
    "        self.logger.info('Request Answer: {}'.format(self.request.payload))\n",
    "\n",
    "       \n",
    "        response = {}\n",
    "        q = self.request.payload['question']\n",
    "        response['question'] = q\n",
    "        response['answer'] = Simple.missing_answer(q)\n",
    "\n",
    "        self.logger.info('Response: {}'.format(response))\n",
    "       \n",
    "        \n",
    "        # And return response to the caller\n",
    "        self.response.payload = response"
   ]
  },
  {
   "cell_type": "markdown",
   "metadata": {},
   "source": [
    "Copy to the hot-load. Then add the channel for the service. Check the logs."
   ]
  },
  {
   "cell_type": "code",
   "execution_count": 3,
   "metadata": {
    "collapsed": false
   },
   "outputs": [
    {
     "name": "stdout",
     "output_type": "stream",
     "text": [
      "{\"answer\": 19, \"question\": 23}{\"answer\": 21, \"question\": 21}{\"answer\": -22342299, \"question\": 22342341}CPU times: user 23 µs, sys: 1 µs, total: 24 µs\n",
      "Wall time: 62 µs\n",
      "{\"answer\": 19, \"question\": 23}CPU times: user 2.68 ms, sys: 54 µs, total: 2.74 ms\n",
      "Wall time: 115 ms\n"
     ]
    }
   ],
   "source": [
    "!curl localhost:11223/talk/answer -d '{\"question\":23}'\n",
    "!curl localhost:11223/talk/answer -d '{\"question\":21}'\n",
    "!curl localhost:11223/talk/answer -d '{\"question\":22342341}'\n"
   ]
  },
  {
   "cell_type": "markdown",
   "metadata": {},
   "source": []
  },
  {
   "cell_type": "code",
   "execution_count": 4,
   "metadata": {
    "collapsed": false
   },
   "outputs": [
    {
     "name": "stdout",
     "output_type": "stream",
     "text": [
      "CPU times: user 0 ns, sys: 0 ns, total: 0 ns\n",
      "Wall time: 14.1 µs\n",
      "{\"answer\": 19, \"question\": 23}CPU times: user 3.6 ms, sys: 106 µs, total: 3.71 ms\n",
      "Wall time: 116 ms\n"
     ]
    }
   ],
   "source": [
    "import Simple\n",
    "%time Simple.missing_answer(24)\n",
    "%time !curl localhost:11223/talk/answer -d '{\"question\":23}'"
   ]
  },
  {
   "cell_type": "code",
   "execution_count": null,
   "metadata": {
    "collapsed": true
   },
   "outputs": [],
   "source": []
  }
 ],
 "metadata": {
  "kernelspec": {
   "display_name": "Python 2",
   "language": "python",
   "name": "python2"
  },
  "language_info": {
   "codemirror_mode": {
    "name": "ipython",
    "version": 2
   },
   "file_extension": ".py",
   "mimetype": "text/x-python",
   "name": "python",
   "nbconvert_exporter": "python",
   "pygments_lexer": "ipython2",
   "version": "2.7.10"
  }
 },
 "nbformat": 4,
 "nbformat_minor": 0
}
