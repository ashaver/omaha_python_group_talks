{
 "cells": [
  {
   "cell_type": "markdown",
   "metadata": {
    "slideshow": {
     "slide_type": "slide"
    }
   },
   "source": [
    "## Integrating Python Code into Non-Python codebases  \n",
    "    aka., How to inflict Python on your friends and enemies.\n",
    "    aka., Hey supposedly this problem doesn't exist in .NET\n",
    "Adam Shaver, adam.shaver@gmail.com, July 15th, 2015\n",
    "\n",
    "#### Overview and Summary\n",
    "This notebook covers three ways to integrate Python with C/C++ and a final method that allows integration to other code via a Service Oriented Architechture. The C/C++ integration section covers C-Types, PyObject, and Boost Python, whereas the SOA introduces Zato.io. Each section is orthogonal and is meant to stand alone.\n",
    "\n",
    "\n",
    "#### ToolChain for the notebook\n",
    "- Clean Ubuntu 12.04 Desktop LTS (GCC 4.8.2, Python 2.7.6)\n",
    "  - sudo apt-get install -y build-essential python-dev libbz2-dev\n",
    "- Boost 1.58.0\n",
    " - Compiled from source, just good practice to make sure everything works on the system. As root\n",
    "   - mkdir -p /usr/local/boost/1.58\n",
    "   - boostrap.sh –prefix=/usr/local/boost/1.58\n",
    "   - b2.sh -j<n> install\n",
    "- Anaconda\n",
    "- WinPDB 1.4.8 \n",
    " - conda install wxpython\n",
    " - python setup.py install -f\n",
    "- Zato.io (see the topic for install info)\n",
    " \n",
    "#### Motivation\n",
    "- Using Python for prototyping\n",
    "- Using Python as middleware/glue between legacy code\n",
    "- There are things that each language does well (C++, Fortran, Python) \n",
    "- Code Obfuscation\n",
    "- Unit tests framework in one language, code in another\n",
    "- If you're here, you probably have a reason\n",
    "\n",
    "#### Avenues of Integration\n",
    "- Topic 1: Ctypes : Python --> C/C++ \n",
    "- Topic 2: pyObject : Python <--> C/C++\n",
    "- Topic 3: The Boost Python C++ Library: C/C++ <--> Python\n",
    "- Topic 4: ESB (Zato.io) Python <--> [Anything]\n",
    "- Addendum: Checking for a leaky C/C++ interface with Valgrind\n",
    "\n",
    "*Note, there are plenty more.* Also, it's assumed if you employ item 4 from above, you can do pretty much anything."
   ]
  },
  {
   "cell_type": "code",
   "execution_count": 1,
   "metadata": {
    "collapsed": true
   },
   "outputs": [],
   "source": [
    "from __future__ import print_function"
   ]
  },
  {
   "cell_type": "markdown",
   "metadata": {},
   "source": [
    "## Topic 1: Ctypes, Python --> C/C++, using simple types from the C Language\n",
    "Ctypes are defined mappings between C and Python.\n",
    "- https://docs.python.org/2/library/ctypes.html\n",
    "- https://docs.python.org/3/library/ctypes.html\n",
    "- https://wakari.io/nb/url///wakari.io/static/notebooks/Lecture_6A_Fortran_and_C.ipynb\n",
    "\n",
    "\n",
    "They serve to allow passing data to/from C/C++ functions that expect C-like data. Note, if the library expects some more complicated data structure/class you might be out of luck."
   ]
  },
  {
   "cell_type": "code",
   "execution_count": 2,
   "metadata": {
    "collapsed": false
   },
   "outputs": [
    {
     "name": "stdout",
     "output_type": "stream",
     "text": [
      "libcurl.so.4\n"
     ]
    }
   ],
   "source": [
    "import ctypes\n",
    "curl_loc = ctypes.util.find_library('curl')\n",
    "print(curl_loc)"
   ]
  },
  {
   "cell_type": "code",
   "execution_count": 3,
   "metadata": {
    "collapsed": false,
    "scrolled": true
   },
   "outputs": [
    {
     "name": "stdout",
     "output_type": "stream",
     "text": [
      "/home/ashaver/anaconda/lib/libcurl.a\n",
      "/home/ashaver/anaconda/lib/libcurl.la\n",
      "/home/ashaver/anaconda/lib/libcurl.so\n",
      "/home/ashaver/anaconda/lib/libcurl.so.4\n",
      "/home/ashaver/anaconda/lib/libcurl.so.4.3.0\n",
      "/home/ashaver/anaconda/lib/pkgconfig/libcurl.pc\n",
      "/home/ashaver/anaconda/pkgs/curl-7.38.0-0/lib/libcurl.a\n",
      "/home/ashaver/anaconda/pkgs/curl-7.38.0-0/lib/libcurl.la\n",
      "/home/ashaver/anaconda/pkgs/curl-7.38.0-0/lib/libcurl.so\n",
      "/home/ashaver/anaconda/pkgs/curl-7.38.0-0/lib/libcurl.so.4\n",
      "/home/ashaver/anaconda/pkgs/curl-7.38.0-0/lib/libcurl.so.4.3.0\n",
      "/home/ashaver/anaconda/pkgs/curl-7.38.0-0/lib/pkgconfig/libcurl.pc\n",
      "/usr/lib/x86_64-linux-gnu/libcurl-gnutls.so.3\n",
      "/usr/lib/x86_64-linux-gnu/libcurl-gnutls.so.4\n",
      "/usr/lib/x86_64-linux-gnu/libcurl-gnutls.so.4.3.0\n",
      "/usr/lib/x86_64-linux-gnu/libcurl.so.3\n",
      "/usr/lib/x86_64-linux-gnu/libcurl.so.4\n",
      "/usr/lib/x86_64-linux-gnu/libcurl.so.4.3.0\n",
      "/usr/share/doc/libcurl3\n",
      "/usr/share/doc/libcurl3-gnutls\n",
      "/usr/share/doc/libcurl3/NEWS.Debian.gz\n",
      "/usr/share/doc/libcurl3/changelog.Debian.gz\n",
      "/usr/share/doc/libcurl3/copyright\n",
      "/usr/share/doc/libcurl3-gnutls/NEWS.Debian.gz\n",
      "/usr/share/doc/libcurl3-gnutls/changelog.Debian.gz\n",
      "/usr/share/doc/libcurl3-gnutls/copyright\n",
      "/usr/share/lintian/overrides/libcurl3\n",
      "/usr/share/lintian/overrides/libcurl3-gnutls\n",
      "/var/cache/apt/archives/libcurl3-gnutls_7.35.0-1ubuntu2.5_amd64.deb\n",
      "/var/cache/apt/archives/libcurl3_7.35.0-1ubuntu2.5_amd64.deb\n",
      "/var/lib/dpkg/info/libcurl3-gnutls:amd64.list\n",
      "/var/lib/dpkg/info/libcurl3-gnutls:amd64.md5sums\n",
      "/var/lib/dpkg/info/libcurl3-gnutls:amd64.postinst\n",
      "/var/lib/dpkg/info/libcurl3-gnutls:amd64.postrm\n",
      "/var/lib/dpkg/info/libcurl3-gnutls:amd64.shlibs\n",
      "/var/lib/dpkg/info/libcurl3-gnutls:amd64.symbols\n",
      "/var/lib/dpkg/info/libcurl3:amd64.list\n",
      "/var/lib/dpkg/info/libcurl3:amd64.md5sums\n",
      "/var/lib/dpkg/info/libcurl3:amd64.postinst\n",
      "/var/lib/dpkg/info/libcurl3:amd64.postrm\n",
      "/var/lib/dpkg/info/libcurl3:amd64.shlibs\n",
      "/var/lib/dpkg/info/libcurl3:amd64.symbols\n"
     ]
    }
   ],
   "source": [
    "!locate libcurl"
   ]
  },
  {
   "cell_type": "markdown",
   "metadata": {},
   "source": [
    "Examine all the objects. Then the exported objects. Note, if you write C++ code you wil need to prevent name mangling with the directive ``` extern \"C\" ``` "
   ]
  },
  {
   "cell_type": "code",
   "execution_count": 4,
   "metadata": {
    "collapsed": false,
    "scrolled": true
   },
   "outputs": [
    {
     "name": "stdout",
     "output_type": "stream",
     "text": [
      "                 U accept\r\n",
      "                 U access\r\n",
      "                 U ASN1_INTEGER_get\r\n",
      "                 U ASN1_STRING_data\r\n",
      "                 U ASN1_STRING_length\r\n",
      "                 U ASN1_STRING_print\r\n",
      "                 U ASN1_STRING_to_UTF8\r\n",
      "                 U ASN1_STRING_type\r\n",
      "                 U ber_free\r\n",
      "                 U ber_memfree\r\n",
      "                 U ber_sockbuf_add_io\r\n",
      "                 U bind\r\n",
      "                 U BIO_ctrl\r\n",
      "                 U BIO_free\r\n",
      "                 U BIO_new\r\n",
      "                 U BIO_s_mem\r\n",
      "                 U BN_bn2bin\r\n",
      "                 U BN_num_bits\r\n",
      "                 U calloc\r\n",
      "                 U clock_gettime\r\n",
      "                 U close\r\n",
      "                 U connect\r\n",
      "                 U CRYPTO_cleanup_all_ex_data\r\n",
      "                 U CRYPTO_free\r\n",
      "                 U CRYPTO_malloc\r\n",
      "                 U __ctype_b_loc\r\n",
      "                 U __ctype_tolower_loc\r\n",
      "000000000002a860 T curl_easy_cleanup\r\n",
      "000000000002a900 T curl_easy_duphandle\r\n",
      "0000000000023ab0 T curl_easy_escape\r\n",
      "000000000002a8c0 T curl_easy_getinfo\r\n",
      "000000000002a550 T curl_easy_init\r\n",
      "000000000002acc0 T curl_easy_pause\r\n",
      "000000000002a630 T curl_easy_perform\r\n",
      "000000000002ae30 T curl_easy_recv\r\n",
      "000000000002aaf0 T curl_easy_reset\r\n",
      "000000000002aea0 T curl_easy_send\r\n",
      "000000000002a590 T curl_easy_setopt\r\n",
      "00000000000359c0 T curl_easy_strerror\r\n",
      "0000000000023da0 T curl_easy_unescape\r\n",
      "0000000000023c00 T curl_escape\r\n",
      "000000000000c710 T curl_formadd\r\n",
      "000000000000d4e0 T curl_formfree\r\n",
      "000000000000db40 T curl_formget\r\n",
      "0000000000023e00 T curl_free\r\n",
      "00000000000362c0 T curl_getdate\r\n",
      "0000000000023a70 T curl_getenv\r\n",
      "000000000002a4f0 T curl_global_cleanup\r\n",
      "000000000002a370 T curl_global_init\r\n",
      "000000000002a430 T curl_global_init_mem\r\n",
      "0000000000266ce0 B curl_jmpenv\r\n",
      "00000000000253d0 T curl_maprintf\r\n",
      "0000000000025740 T curl_mfprintf\r\n",
      "0000000000025690 T curl_mprintf\r\n",
      "0000000000023f80 T curl_msnprintf\r\n",
      "00000000000255e0 T curl_msprintf\r\n",
      "0000000000031bf0 T curl_multi_add_handle\r\n",
      "0000000000031f10 T curl_multi_assign\r\n",
      "0000000000031450 T curl_multi_cleanup\r\n",
      "0000000000030fd0 T curl_multi_fdset\r\n",
      "0000000000031660 T curl_multi_info_read\r\n",
      "0000000000030f90 T curl_multi_init\r\n",
      "0000000000033070 T curl_multi_perform\r\n",
      "0000000000031d30 T curl_multi_remove_handle\r\n",
      "0000000000031740 T curl_multi_setopt\r\n",
      "0000000000033450 T curl_multi_socket\r\n",
      "00000000000334a0 T curl_multi_socket_action\r\n",
      "00000000000334f0 T curl_multi_socket_all\r\n",
      "0000000000035ef0 T curl_multi_strerror\r\n",
      "0000000000031980 T curl_multi_timeout\r\n",
      "0000000000031130 T curl_multi_wait\r\n",
      "0000000000025520 T curl_mvaprintf\r\n",
      "0000000000025830 T curl_mvfprintf\r\n",
      "0000000000025810 T curl_mvprintf\r\n",
      "0000000000025370 T curl_mvsnprintf\r\n",
      "00000000000257e0 T curl_mvsprintf\r\n",
      "0000000000000000 A CURL_OPENSSL_3\r\n",
      "00000000000341a0 T curl_share_cleanup\r\n",
      "0000000000033ea0 T curl_share_init\r\n",
      "0000000000033ed0 T curl_share_setopt\r\n",
      "0000000000035fb0 T curl_share_strerror\r\n",
      "000000000003b600 T curl_slist_append\r\n",
      "000000000003b660 T curl_slist_free_all\r\n",
      "000000000002a1c0 T curl_strequal\r\n",
      "000000000002a1e0 T curl_strnequal\r\n",
      "0000000000023df0 T curl_unescape\r\n",
      "0000000000023910 T curl_version\r\n",
      "0000000000023a10 T curl_version_info\r\n",
      "                 w __cxa_finalize\r\n",
      "                 U d2i_PKCS12_fp\r\n",
      "                 U DES_ecb_encrypt\r\n",
      "                 U DES_set_key\r\n",
      "                 U DES_set_odd_parity\r\n",
      "                 U dup2\r\n",
      "                 U ENGINE_by_id\r\n",
      "                 U ENGINE_cleanup\r\n",
      "                 U ENGINE_ctrl\r\n",
      "                 U ENGINE_ctrl_cmd\r\n",
      "                 U ENGINE_finish\r\n",
      "                 U ENGINE_free\r\n",
      "                 U ENGINE_get_first\r\n",
      "                 U ENGINE_get_id\r\n",
      "                 U ENGINE_get_next\r\n",
      "                 U ENGINE_init\r\n",
      "                 U ENGINE_load_builtin_engines\r\n",
      "                 U ENGINE_load_private_key\r\n",
      "                 U ENGINE_set_default\r\n",
      "                 U ERR_clear_error\r\n",
      "                 U ERR_error_string\r\n",
      "                 U ERR_error_string_n\r\n",
      "                 U ERR_free_strings\r\n",
      "                 U ERR_get_error\r\n",
      "                 U __errno_location\r\n",
      "                 U ERR_peek_error\r\n",
      "                 U ERR_remove_thread_state\r\n",
      "                 U EVP_cleanup\r\n",
      "                 U EVP_PKEY_copy_parameters\r\n",
      "                 U EVP_PKEY_free\r\n",
      "                 U execl\r\n",
      "                 U exit\r\n",
      "                 U fclose\r\n",
      "                 U fcntl\r\n",
      "                 U __fdelt_chk\r\n",
      "                 U fflush\r\n",
      "                 U fgets\r\n",
      "                 U fileno\r\n",
      "                 U fopen\r\n",
      "                 U fork\r\n",
      "                 U fputc\r\n",
      "                 U fread\r\n",
      "                 U free\r\n",
      "                 U freeaddrinfo\r\n",
      "                 U freeifaddrs\r\n",
      "                 U fseek\r\n",
      "                 U fwrite\r\n",
      "                 U __fxstat\r\n",
      "                 U GENERAL_NAMES_free\r\n",
      "                 U getaddrinfo\r\n",
      "                 U getenv\r\n",
      "                 U geteuid\r\n",
      "                 U gethostname\r\n",
      "                 U getifaddrs\r\n",
      "                 U getpeername\r\n",
      "                 U getpwuid\r\n",
      "                 U getsockname\r\n",
      "                 U getsockopt\r\n",
      "                 U gettimeofday\r\n",
      "                 w __gmon_start__\r\n",
      "                 U gmtime_r\r\n",
      "                 U GSS_C_NT_HOSTBASED_SERVICE\r\n",
      "                 U gss_delete_sec_context\r\n",
      "                 U gss_display_name\r\n",
      "                 U gss_display_status\r\n",
      "                 U gss_import_name\r\n",
      "                 U gss_init_sec_context\r\n",
      "                 U gss_inquire_context\r\n",
      "                 U gss_release_buffer\r\n",
      "                 U gss_release_name\r\n",
      "                 U gss_seal\r\n",
      "                 U gss_unseal\r\n",
      "                 U gss_unwrap\r\n",
      "                 U gss_wrap\r\n",
      "0000000000000000 A HIDDEN\r\n",
      "                 U i2t_ASN1_OBJECT\r\n",
      "                 U idna_strerror\r\n",
      "                 U idna_to_ascii_lz\r\n",
      "                 U idna_to_unicode_lzlz\r\n",
      "                 U idn_free\r\n",
      "                 U inet_ntop\r\n",
      "                 U inet_pton\r\n",
      "                 U inflate\r\n",
      "                 U inflateEnd\r\n",
      "                 U inflateInit_\r\n",
      "                 U inflateInit2_\r\n",
      "                 U __isoc99_sscanf\r\n",
      "                 w _ITM_deregisterTMCloneTable\r\n",
      "                 w _ITM_registerTMCloneTable\r\n",
      "                 w _Jv_RegisterClasses\r\n",
      "                 U kill\r\n",
      "                 U ldap_abandon_ext\r\n",
      "                 U ldap_err2string\r\n",
      "                 U ldap_first_message\r\n",
      "                 U ldap_free_urldesc\r\n",
      "                 U ldap_get_attribute_ber\r\n",
      "                 U ldap_get_dn_ber\r\n",
      "                 U ldap_get_option\r\n",
      "                 U ldap_init_fd\r\n",
      "                 U ldap_memfree\r\n",
      "                 U ldap_msgfree\r\n",
      "                 U ldap_msgtype\r\n",
      "                 U ldap_next_message\r\n",
      "                 U ldap_parse_result\r\n",
      "                 U ldap_pvt_url_scheme2proto\r\n",
      "                 U ldap_result\r\n",
      "                 U ldap_sasl_bind\r\n",
      "                 U ldap_search_ext\r\n",
      "                 U ldap_set_option\r\n",
      "                 U ldap_unbind_ext\r\n",
      "                 U ldap_url_parse\r\n",
      "                 U listen\r\n",
      "                 U lseek\r\n",
      "                 U malloc\r\n",
      "                 U MD4_Final\r\n",
      "                 U MD4_Init\r\n",
      "                 U MD4_Update\r\n",
      "                 U MD5_Final\r\n",
      "                 U MD5_Init\r\n",
      "                 U MD5_Update\r\n",
      "                 U memchr\r\n",
      "                 U memcmp\r\n",
      "                 U memcpy\r\n",
      "                 U __memcpy_chk\r\n",
      "                 U memmove\r\n",
      "                 U memset\r\n",
      "                 U open\r\n",
      "                 U OPENSSL_add_all_algorithms_noconf\r\n",
      "                 U PEM_read_X509\r\n",
      "                 U PEM_write_bio_X509\r\n",
      "                 U perror\r\n",
      "                 U PKCS12_free\r\n",
      "                 U PKCS12_parse\r\n",
      "                 U PKCS12_PBE_add\r\n",
      "                 U poll\r\n",
      "                 U __poll_chk\r\n",
      "                 U pthread_create\r\n",
      "                 U pthread_detach\r\n",
      "                 U pthread_join\r\n",
      "                 U pthread_mutex_destroy\r\n",
      "                 U pthread_mutex_init\r\n",
      "                 U pthread_mutex_lock\r\n",
      "                 U pthread_mutex_unlock\r\n",
      "                 U qsort\r\n",
      "                 U RAND_add\r\n",
      "                 U RAND_bytes\r\n",
      "                 U RAND_egd\r\n",
      "                 U RAND_file_name\r\n",
      "                 U RAND_load_file\r\n",
      "                 U RAND_status\r\n",
      "                 U __rawmemchr\r\n",
      "                 U read\r\n",
      "                 U realloc\r\n",
      "                 U recv\r\n",
      "                 U recvfrom\r\n",
      "                 U RTMP_Alloc\r\n",
      "                 U RTMP_Close\r\n",
      "                 U RTMP_Connect1\r\n",
      "                 U RTMP_ConnectStream\r\n",
      "                 U RTMP_Free\r\n",
      "                 U RTMP_Init\r\n",
      "                 U RTMP_Read\r\n",
      "                 U RTMP_SetBufferMS\r\n",
      "                 U RTMP_SetupURL\r\n",
      "                 U RTMP_Write\r\n",
      "                 U send\r\n",
      "                 U sendto\r\n",
      "                 U setsockopt\r\n",
      "                 U sigaction\r\n",
      "                 U sk_num\r\n",
      "                 U sk_pop\r\n",
      "                 U sk_pop_free\r\n",
      "                 U sk_value\r\n",
      "                 U socket\r\n",
      "                 U socketpair\r\n",
      "                 U __sprintf_chk\r\n",
      "                 U SSL_CIPHER_get_name\r\n",
      "                 U SSL_connect\r\n",
      "                 U SSL_ctrl\r\n",
      "                 U SSL_CTX_add_client_CA\r\n",
      "                 U SSL_CTX_callback_ctrl\r\n",
      "                 U SSL_CTX_check_private_key\r\n",
      "                 U SSL_CTX_ctrl\r\n",
      "                 U SSL_CTX_free\r\n",
      "                 U SSL_CTX_get_cert_store\r\n",
      "                 U SSL_CTX_load_verify_locations\r\n",
      "                 U SSL_CTX_new\r\n",
      "                 U SSL_CTX_set_cipher_list\r\n",
      "                 U SSL_CTX_set_default_passwd_cb\r\n",
      "                 U SSL_CTX_set_default_passwd_cb_userdata\r\n",
      "                 U SSL_CTX_set_srp_password\r\n",
      "                 U SSL_CTX_set_srp_username\r\n",
      "                 U SSL_CTX_set_verify\r\n",
      "                 U SSL_CTX_use_certificate\r\n",
      "                 U SSL_CTX_use_certificate_chain_file\r\n",
      "                 U SSL_CTX_use_certificate_file\r\n",
      "                 U SSL_CTX_use_PrivateKey\r\n",
      "                 U SSL_CTX_use_PrivateKey_file\r\n",
      "                 U SSLeay\r\n",
      "                 U SSL_free\r\n",
      "                 U SSL_get1_session\r\n",
      "                 U SSL_get_certificate\r\n",
      "                 U SSL_get_current_cipher\r\n",
      "                 U SSL_get_error\r\n",
      "                 U SSL_get_peer_cert_chain\r\n",
      "                 U SSL_get_peer_certificate\r\n",
      "                 U SSL_get_privatekey\r\n",
      "                 U SSL_get_shutdown\r\n",
      "                 U SSL_get_verify_result\r\n",
      "                 U SSL_library_init\r\n",
      "                 U SSL_load_error_strings\r\n",
      "                 U SSL_new\r\n",
      "                 U SSL_peek\r\n",
      "                 U SSL_pending\r\n",
      "                 U SSL_read\r\n",
      "                 U SSL_SESSION_free\r\n",
      "                 U SSL_set_connect_state\r\n",
      "                 U SSL_set_fd\r\n",
      "                 U SSL_set_session\r\n",
      "                 U SSL_shutdown\r\n",
      "                 U SSLv23_client_method\r\n",
      "                 U SSLv3_client_method\r\n",
      "                 U SSL_write\r\n",
      "                 U __stack_chk_fail\r\n",
      "                 U stderr\r\n",
      "                 U stdin\r\n",
      "                 U stdout\r\n",
      "                 U strcasecmp\r\n",
      "                 U strchr\r\n",
      "                 U strcmp\r\n",
      "                 U strcpy\r\n",
      "                 U __strcpy_chk\r\n",
      "                 U strdup\r\n",
      "                 U stringprep_check_version\r\n",
      "                 U stringprep_locale_charset\r\n",
      "                 U strlen\r\n",
      "                 U strncasecmp\r\n",
      "                 U strncmp\r\n",
      "                 U strncpy\r\n",
      "                 U strrchr\r\n",
      "                 U strstr\r\n",
      "                 U __strtok_r\r\n",
      "                 U strtol\r\n",
      "                 U strtoul\r\n",
      "                 U time\r\n",
      "                 U tld_check_lz\r\n",
      "                 U tld_strerror\r\n",
      "                 U UI_create_method\r\n",
      "                 U UI_destroy_method\r\n",
      "                 U UI_get0_user_data\r\n",
      "                 U UI_get_input_flags\r\n",
      "                 U UI_get_string_type\r\n",
      "                 U UI_method_get_closer\r\n",
      "                 U UI_method_get_opener\r\n",
      "                 U UI_method_get_reader\r\n",
      "                 U UI_method_get_writer\r\n",
      "                 U UI_method_set_closer\r\n",
      "                 U UI_method_set_opener\r\n",
      "                 U UI_method_set_reader\r\n",
      "                 U UI_method_set_writer\r\n",
      "                 U UI_OpenSSL\r\n",
      "                 U UI_set_result\r\n",
      "                 U __vsnprintf_chk\r\n",
      "                 U waitpid\r\n",
      "                 U write\r\n",
      "                 U X509_check_issued\r\n",
      "                 U X509_EXTENSION_get_critical\r\n",
      "                 U X509_EXTENSION_get_object\r\n",
      "                 U X509_free\r\n",
      "                 U X509_get_ext_d2i\r\n",
      "                 U X509_get_issuer_name\r\n",
      "                 U X509_get_pubkey\r\n",
      "                 U X509_get_serialNumber\r\n",
      "                 U X509_get_subject_name\r\n",
      "                 U X509_load_crl_file\r\n",
      "                 U X509_LOOKUP_file\r\n",
      "                 U X509_NAME_ENTRY_get_data\r\n",
      "                 U X509_NAME_get_entry\r\n",
      "                 U X509_NAME_get_index_by_NID\r\n",
      "                 U X509_NAME_print_ex\r\n",
      "                 U X509_STORE_add_lookup\r\n",
      "                 U X509_STORE_CTX_get_current_cert\r\n",
      "                 U X509_STORE_set_flags\r\n",
      "                 U X509V3_EXT_print\r\n",
      "                 U X509_verify_cert_error_string\r\n",
      "                 U __xpg_basename\r\n",
      "                 U __xpg_strerror_r\r\n",
      "                 U __xstat\r\n",
      "                 U zlibVersion\r\n"
     ]
    }
   ],
   "source": [
    "!nm -D /usr/lib/x86_64-linux-gnu/libcurl.so.4 "
   ]
  },
  {
   "cell_type": "code",
   "execution_count": 5,
   "metadata": {
    "collapsed": false,
    "scrolled": false
   },
   "outputs": [
    {
     "name": "stdout",
     "output_type": "stream",
     "text": [
      "000000000002a860 T curl_easy_cleanup\r\n",
      "000000000002a900 T curl_easy_duphandle\r\n",
      "0000000000023ab0 T curl_easy_escape\r\n",
      "000000000002a8c0 T curl_easy_getinfo\r\n",
      "000000000002a550 T curl_easy_init\r\n",
      "000000000002acc0 T curl_easy_pause\r\n",
      "000000000002a630 T curl_easy_perform\r\n",
      "000000000002ae30 T curl_easy_recv\r\n",
      "000000000002aaf0 T curl_easy_reset\r\n",
      "000000000002aea0 T curl_easy_send\r\n",
      "000000000002a590 T curl_easy_setopt\r\n",
      "00000000000359c0 T curl_easy_strerror\r\n",
      "0000000000023da0 T curl_easy_unescape\r\n",
      "0000000000023c00 T curl_escape\r\n",
      "000000000000c710 T curl_formadd\r\n",
      "000000000000d4e0 T curl_formfree\r\n",
      "000000000000db40 T curl_formget\r\n",
      "0000000000023e00 T curl_free\r\n",
      "00000000000362c0 T curl_getdate\r\n",
      "0000000000023a70 T curl_getenv\r\n",
      "000000000002a4f0 T curl_global_cleanup\r\n",
      "000000000002a370 T curl_global_init\r\n",
      "000000000002a430 T curl_global_init_mem\r\n",
      "00000000000253d0 T curl_maprintf\r\n",
      "0000000000025740 T curl_mfprintf\r\n",
      "0000000000025690 T curl_mprintf\r\n",
      "0000000000023f80 T curl_msnprintf\r\n",
      "00000000000255e0 T curl_msprintf\r\n",
      "0000000000031bf0 T curl_multi_add_handle\r\n",
      "0000000000031f10 T curl_multi_assign\r\n",
      "0000000000031450 T curl_multi_cleanup\r\n",
      "0000000000030fd0 T curl_multi_fdset\r\n",
      "0000000000031660 T curl_multi_info_read\r\n",
      "0000000000030f90 T curl_multi_init\r\n",
      "0000000000033070 T curl_multi_perform\r\n",
      "0000000000031d30 T curl_multi_remove_handle\r\n",
      "0000000000031740 T curl_multi_setopt\r\n",
      "0000000000033450 T curl_multi_socket\r\n",
      "00000000000334a0 T curl_multi_socket_action\r\n",
      "00000000000334f0 T curl_multi_socket_all\r\n",
      "0000000000035ef0 T curl_multi_strerror\r\n",
      "0000000000031980 T curl_multi_timeout\r\n",
      "0000000000031130 T curl_multi_wait\r\n",
      "0000000000025520 T curl_mvaprintf\r\n",
      "0000000000025830 T curl_mvfprintf\r\n",
      "0000000000025810 T curl_mvprintf\r\n",
      "0000000000025370 T curl_mvsnprintf\r\n",
      "00000000000257e0 T curl_mvsprintf\r\n",
      "00000000000341a0 T curl_share_cleanup\r\n",
      "0000000000033ea0 T curl_share_init\r\n",
      "0000000000033ed0 T curl_share_setopt\r\n",
      "0000000000035fb0 T curl_share_strerror\r\n",
      "000000000003b600 T curl_slist_append\r\n",
      "000000000003b660 T curl_slist_free_all\r\n",
      "000000000002a1c0 T curl_strequal\r\n",
      "000000000002a1e0 T curl_strnequal\r\n",
      "0000000000023df0 T curl_unescape\r\n",
      "0000000000023910 T curl_version\r\n",
      "0000000000023a10 T curl_version_info\r\n"
     ]
    }
   ],
   "source": [
    "!nm -D /usr/lib/x86_64-linux-gnu/libcurl.so.4 |grep \"T \""
   ]
  },
  {
   "cell_type": "markdown",
   "metadata": {},
   "source": [
    "---\n",
    "We can load libraries in 4 ways using ctypes (CDLL, OleDLL, WinDLL, PyDLL). Items 2,3 are Windows only. You can use this method if the function signature is well defined, documented (e.g., can be formed with ctypes)."
   ]
  },
  {
   "cell_type": "code",
   "execution_count": 6,
   "metadata": {
    "collapsed": false
   },
   "outputs": [
    {
     "name": "stdout",
     "output_type": "stream",
     "text": [
      "1241254656\n"
     ]
    },
    {
     "data": {
      "text/plain": [
       "48"
      ]
     },
     "execution_count": 6,
     "metadata": {},
     "output_type": "execute_result"
    }
   ],
   "source": [
    "_curl = ctypes.CDLL(curl_loc)\n",
    "_curl_version_info = _curl.curl_version_info\n",
    "print(_curl_version_info())\n",
    "easy_handle = _curl.curl_easy_init()\n",
    "\n",
    "# This magic number came from a header typdef enum\n",
    "_curl.curl_easy_setopt(easy_handle, 0x100000+1 , \"http://example.org\") "
   ]
  },
  {
   "cell_type": "code",
   "execution_count": 14,
   "metadata": {
    "collapsed": false
   },
   "outputs": [
    {
     "name": "stdout",
     "output_type": "stream",
     "text": [
      "Overwriting code/hello.cpp\n"
     ]
    }
   ],
   "source": [
    "%%file code/hello.cpp\n",
    "#include <iostream>\n",
    "#include <string.h>\n",
    "using namespace std;\n",
    "extern \"C\" {\n",
    "    int main () {\n",
    "        cout << \"Hello Main2\\n\";\n",
    "        return 42;\n",
    "    }\n",
    "    \n",
    "    string helloStr() {\n",
    "        return \"Hello Str\\n\";\n",
    "    }\n",
    "    \n",
    "    const char* helloStrPtr() {\n",
    "        char* p = new char[19];\n",
    "        strcpy(p,\"Hello Str Pointer\\n\");\n",
    "        return p;\n",
    "    }\n",
    "    \n",
    "    void helloStrRef(char* p) {\n",
    "        strcpy(p,\"Hello Str Ref!\\n\");\n",
    "    }\n",
    "    \n",
    "    struct MsgWrapper {\n",
    "        char * msgIn;\n",
    "        char * msgOut;\n",
    "    };\n",
    "    \n",
    "    void helloStrRefFromStruct(MsgWrapper s) {\n",
    "        strcpy(s.msgOut, \"Aloha\\n\");\n",
    "    }\n",
    "    \n",
    "    int missing_answer(int  i) {\n",
    "        i = (42-i);\n",
    "        return i;\n",
    "    }\n",
    "    \n",
    "     \n",
    "}"
   ]
  },
  {
   "cell_type": "markdown",
   "metadata": {
    "collapsed": true
   },
   "source": [
    "Compile to a shared library. Note, if you are on Windows you'll need to declare an export symbol or use an export library. In Linux, because all dynamic libraries share a heap, all the symbols are exported. "
   ]
  },
  {
   "cell_type": "code",
   "execution_count": 15,
   "metadata": {
    "collapsed": false
   },
   "outputs": [
    {
     "name": "stdout",
     "output_type": "stream",
     "text": [
      "Hello Main2\r\n"
     ]
    }
   ],
   "source": [
    "! rm bin/hello bin/libHello.so\n",
    "!g++ -c -std=c++11 -fPIC code/hello.cpp -o code/hello.o\n",
    "!g++ -o bin/libHello.so -shared code/hello.o\n",
    "!g++ -o bin/hello code/hello.o\n",
    "!bin/hello"
   ]
  },
  {
   "cell_type": "code",
   "execution_count": 13,
   "metadata": {
    "collapsed": false
   },
   "outputs": [
    {
     "name": "stdout",
     "output_type": "stream",
     "text": [
      "0000000000000d28 T _fini\r\n",
      "00000000000009d8 T _init\r\n",
      "0000000000000b95 T main\r\n",
      "0000000000000c19 T _Z11helloStrPtrv\r\n",
      "0000000000000c5e T _Z11helloStrRefPc\r\n",
      "0000000000000cb2 T _Z14missing_answeri\r\n",
      "0000000000000c87 T _Z21helloStrRefFromStruct10MsgWrapper\r\n",
      "0000000000000bb6 T _Z8helloStrv\r\n"
     ]
    }
   ],
   "source": [
    "!nm -D bin/libHello.so |grep 'T '"
   ]
  },
  {
   "cell_type": "markdown",
   "metadata": {},
   "source": [
    "###Executing a function. \n",
    "(1) As an aside, I routinely import ctypes in each cell and reload the library, because if anything goes wrong, the kernel crashes (and the dynamic loaded library is lost). (2) Also, I explicitly didn't import * from cTypes so you can see which functions are from the module."
   ]
  },
  {
   "cell_type": "code",
   "execution_count": 19,
   "metadata": {
    "collapsed": false
   },
   "outputs": [
    {
     "name": "stdout",
     "output_type": "stream",
     "text": [
      "42\n",
      "1347556240\n"
     ]
    }
   ],
   "source": [
    "import ctypes\n",
    "_hello = ctypes.CDLL('./bin/libHello.so')\n",
    "print(_hello.main()) # Note this prints the return code, not hello\n",
    "print(_hello.helloStr()) # Note this doesn't wactually pass back a string, but the pointer to a string.\n",
    "\n",
    "\n"
   ]
  },
  {
   "cell_type": "markdown",
   "metadata": {},
   "source": [
    "#### Relevant nugget about ctypes\n",
    " - Python coding convention says that libraries in C/C++ that mask the same library in python should be brought into the namespace as _foo, instead of foo\n",
    " - There is no good way to remove libraries from the namespace (e.g., del) once they've been loaded by ctypes.CDLL"
   ]
  },
  {
   "cell_type": "markdown",
   "metadata": {},
   "source": [
    "Executing a function and catching the result. Note, it is pointer to a string, so we will have to dereference it to get the string value. "
   ]
  },
  {
   "cell_type": "code",
   "execution_count": 20,
   "metadata": {
    "collapsed": false
   },
   "outputs": [
    {
     "name": "stdout",
     "output_type": "stream",
     "text": [
      "36753856\n",
      "Hello Str Pointer\n",
      "\n"
     ]
    }
   ],
   "source": [
    "import ctypes\n",
    "_hello = ctypes.CDLL('./bin/libHello.so')\n",
    "a_str_ptr = _hello.helloStrPtr() # Returns a pointer to a string (char* or c_char_p)\n",
    "print(a_str_ptr)\n",
    "#print(a_str_ptr.value) Fails to deref as python doesn't have it cast as a cType.c_char_p.\n",
    "print(ctypes.c_char_p(a_str_ptr).value) # Dereferences it to get the char"
   ]
  },
  {
   "cell_type": "markdown",
   "metadata": {},
   "source": [
    "We can also pass a reference to a string into the code."
   ]
  },
  {
   "cell_type": "code",
   "execution_count": 21,
   "metadata": {
    "collapsed": false
   },
   "outputs": [
    {
     "name": "stdout",
     "output_type": "stream",
     "text": [
      "<ctypes.c_char_Array_46 object at 0x7f5f50562200>\n",
      "Hello Str Ref!\n",
      "\n"
     ]
    }
   ],
   "source": [
    "import ctypes\n",
    "_hello = ctypes.CDLL('./bin/libHello.so')\n",
    "a_str_ptr2 = ctypes.create_string_buffer('\\000' * 45)\n",
    "_hello.helloStrRef(ctypes.byref(a_str_ptr2)) # passes in the pointer \n",
    "print(a_str_ptr2)\n",
    "print(a_str_ptr2.value) "
   ]
  },
  {
   "cell_type": "markdown",
   "metadata": {},
   "source": [
    "We can even generate structs and such to pass the data back and forth"
   ]
  },
  {
   "cell_type": "code",
   "execution_count": 22,
   "metadata": {
    "collapsed": false,
    "scrolled": true
   },
   "outputs": [
    {
     "name": "stdout",
     "output_type": "stream",
     "text": [
      "Hello\n",
      "Goodbye\n"
     ]
    }
   ],
   "source": [
    "import ctypes\n",
    "_hello = ctypes.CDLL('./bin/libHello.so')\n",
    "class MsgWrapper(ctypes.Structure):\n",
    "    _fields_ = [(\"msgOut\", ctypes.c_char_p), (\"msgIn\", ctypes.c_char_p)]\n",
    "amsg = MsgWrapper(\"Goodbye\", \"Hello\")\n",
    "print(amsg.msgIn)\n",
    "print(amsg.msgOut)\n"
   ]
  },
  {
   "cell_type": "code",
   "execution_count": 23,
   "metadata": {
    "collapsed": false
   },
   "outputs": [
    {
     "name": "stdout",
     "output_type": "stream",
     "text": [
      "Aloha\n",
      "\n",
      "Goodbye\n"
     ]
    }
   ],
   "source": [
    "_hello.helloStrRefFromStruct(amsg)\n",
    "print(amsg.msgIn)\n",
    "print(amsg.msgOut)"
   ]
  },
  {
   "cell_type": "code",
   "execution_count": 24,
   "metadata": {
    "collapsed": false
   },
   "outputs": [
    {
     "name": "stdout",
     "output_type": "stream",
     "text": [
      "18\n"
     ]
    }
   ],
   "source": [
    "import ctypes\n",
    "_helloCpp = ctypes.CDLL('./bin/libHello.so')\n",
    "print(_helloCpp.missing_answer(24))"
   ]
  },
  {
   "cell_type": "markdown",
   "metadata": {},
   "source": [
    "###Pitfalls with ctypes\n",
    "----\n",
    " - Endian specification\n",
    " - C++ name mangling (fixed with Extern C)\n",
    " - memory leaks (allocation in c/c++ without deallocation). These can easily happen across the interface if you're not passing by reference (with byref).\n",
    " - pointer problems (out of scope, dereference, etc). This will generally just crash the kernel."
   ]
  },
  {
   "cell_type": "markdown",
   "metadata": {
    "collapsed": true
   },
   "source": [
    "What about more complicated input and output? C-types only have structs and unions, but not classes. Therefore, we can't pass around objects from a C++ library. Enter pyObject......"
   ]
  },
  {
   "cell_type": "markdown",
   "metadata": {
    "collapsed": true
   },
   "source": [
    "---\n",
    "##Topic 2: pyObject,  Python in modules C/C++ "
   ]
  },
  {
   "cell_type": "markdown",
   "metadata": {
    "collapsed": true
   },
   "source": [
    "A pyObject is a Python object in C.  Also, *everything* in Python is really a pyObject. Using it, we get inerfaces that can do anything python can do (though the wrapping of complicated Python objects requires equally complicated code). Strangely, everything I've seen uses pyObjects to make modules, rather than some lightweight interface like ctypes. \n",
    " - https://docs.python.org/2/extending/extending.html\n",
    " - https://docs.python.org/3/extending/extending.html\n",
    " - http://intermediate-and-advanced-software-carpentry.readthedocs.org/en/latest/c++-wrapping.html\n",
    " - (my favorite, includes numpy headers, deploying with setup.py, etc) http://dan.iel.fm/posts/python-c-extensions/\n",
    " \n",
    "To start, what you need in a module in c++\n",
    "  1. Function: The function which takes and possibly returns a pyObject\n",
    "  1. Method Table: A static definition of the function signature, how it is called, it's name in python, in C/C++\n",
    "  1. Initialization: An initialization call for the function (which I belive registers the module and this function as a function of the module."
   ]
  },
  {
   "cell_type": "code",
   "execution_count": 25,
   "metadata": {
    "collapsed": false
   },
   "outputs": [
    {
     "name": "stdout",
     "output_type": "stream",
     "text": [
      "Writing code/Simple.cpp\n"
     ]
    }
   ],
   "source": [
    "%%file code/Simple.cpp\n",
    "#include <python2.7/Python.h>  //Contains the spec for the Python API, pyObject, etc.\n",
    "\n",
    "//Function 1\n",
    "static PyObject * answer_to_everything(PyObject *self, PyObject *args)\n",
    "{\n",
    "    return PyLong_FromLong(42); // convert to Python object of a type\n",
    "}\n",
    "\n",
    "//Function 2\n",
    "static PyObject * missing_from_answer_to_everything(PyObject *self, PyObject *args)\n",
    "{\n",
    "    int sts;\n",
    "    if (!PyArg_ParseTuple(args, \"i\", &sts)) //\"((ii)(ii))(ii)\", is f((0, 0), (400, 300)), (10, 10))\n",
    "        return NULL;                        //\"s|si\", is f('wer','d', 10) or f('cmd')\n",
    "    sts = 42 - sts;\n",
    "    PyObject * ret = PyLong_FromLong(sts); // convert to Python object of a type\n",
    "    return ret;\n",
    "}\n",
    "\n",
    "// Static that maps C names to python and outlines the variables\n",
    "static PyMethodDef SimpleMethods[] = {\n",
    "    {\"what_is_the_answer\",  answer_to_everything, METH_VARARGS,\n",
    "     \"Gets The Answer.\"}, \n",
    "    {\"missing_answer\",  missing_from_answer_to_everything, METH_VARARGS,\n",
    "     \"Finds what you're missing.\"},\n",
    "    {NULL, NULL, 0, NULL}        /* Sentinel */ //Apparently required for table termination....\n",
    "};\n",
    "\n",
    "\n",
    "\n",
    "// Registration of the functions and generation of the module\n",
    "PyMODINIT_FUNC\n",
    "initSimple(void)  // MUST be named \"initFoo\" for a library with name of \"Foo\"\n",
    "{\n",
    "    (void) Py_InitModule(\"Simple\", SimpleMethods);\n",
    "}"
   ]
  },
  {
   "cell_type": "markdown",
   "metadata": {},
   "source": [
    "When compiling this, you have to explicitly link in the python library. Otherwise, the objects will compile, but the functions for things like (PyArg_ParseTuple won't be defined).\n",
    "Also, note that the PyMODINIT_FUNC makes the init an \"extern C\" function without mangling."
   ]
  },
  {
   "cell_type": "code",
   "execution_count": 26,
   "metadata": {
    "collapsed": false
   },
   "outputs": [
    {
     "name": "stdout",
     "output_type": "stream",
     "text": [
      "rm: cannot remove ‘bin/Simple.so’: No such file or directory\n",
      "rm: cannot remove ‘Simple.so’: No such file or directory\n",
      "000000000000086c T _fini\n",
      "0000000000000658 T _init\n",
      "0000000000000843 T initSimple\n"
     ]
    }
   ],
   "source": [
    "! rm bin/Simple.so Simple.so\n",
    "!g++ -c -std=c++11 -fPIC code/Simple.cpp -o code/Simple.o \n",
    "!g++ -o bin/Simple.so -shared code/Simple.o -L/usr/lib -lpython2.7\n",
    "!nm -D bin/Simple.so |grep 'T '\n",
    "!ln -s ./bin/Simple.so Simple.so"
   ]
  },
  {
   "cell_type": "code",
   "execution_count": 30,
   "metadata": {
    "collapsed": false
   },
   "outputs": [
    {
     "name": "stdout",
     "output_type": "stream",
     "text": [
      "42\n",
      "23\n"
     ]
    }
   ],
   "source": [
    "import Simple as _Simple\n",
    "print(_Simple.what_is_the_answer(234234))\n",
    "print(_Simple.missing_answer(19))\n"
   ]
  },
  {
   "cell_type": "markdown",
   "metadata": {},
   "source": [
    "### Passing Functions into C++ from Python\n",
    "The PyObject framework allows one to pass any Python object back and forth. Because everything in Python is an object, we can pretty much do anything. Here we pass in a simple function, and execute it (see simple function). When someone does this, typically it's to modify the Python data with C++ (see pedantic function)."
   ]
  },
  {
   "cell_type": "code",
   "execution_count": 33,
   "metadata": {
    "collapsed": false
   },
   "outputs": [
    {
     "name": "stdout",
     "output_type": "stream",
     "text": [
      "Writing code/SimpleFcn.cpp\n"
     ]
    }
   ],
   "source": [
    "%%file code/SimpleFcn.cpp\n",
    "#include <python2.7/Python.h>  //Contains the spec for the Python API, pyObject, etc.\n",
    "\n",
    "// First we need to accept and set Python function as the callback\n",
    "// Note, this set function was taken right from the Python Documentation\n",
    "static PyObject *my_callback = NULL;\n",
    "static PyObject * my_set_callback(PyObject *dummy, PyObject *args)\n",
    "{\n",
    "    PyObject *result = NULL;\n",
    "    PyObject *temp;\n",
    "\n",
    "    if (PyArg_ParseTuple(args, \"O:set_callback\", &temp)) {\n",
    "        if (!PyCallable_Check(temp)) {\n",
    "            PyErr_SetString(PyExc_TypeError, \"parameter must be callable\");\n",
    "            return NULL;\n",
    "        }\n",
    "        Py_XINCREF(temp);         /* Add a reference to new callback */\n",
    "        Py_XDECREF(my_callback);  /* Dispose of previous callback */\n",
    "        my_callback = temp;       /* Remember new callback */\n",
    "        /* Boilerplate to return \"None\" */\n",
    "        Py_INCREF(Py_None);\n",
    "        result = Py_None;\n",
    "    }\n",
    "    return result;\n",
    "}\n",
    "\n",
    "\n",
    "//Now we call the funciton\n",
    "static PyObject * simple_callback(PyObject *self, PyObject *args)\n",
    "{\n",
    "    return PyObject_CallObject(my_callback, args);\n",
    "}\n",
    "\n",
    "//Calling a more pedantic fashion to highlight decrementing for garbage collection\n",
    "//Also, we could do something with the result in C/C++ if we wanted\n",
    "//Note, modified from  Python Documetation\n",
    "static PyObject * pedantic_callback(PyObject *self, PyObject *args)\n",
    "{\n",
    "    double val_in;\n",
    "    if (!PyArg_ParseTuple(args, \"d\", &val_in)) \n",
    "        return NULL;  \n",
    "    val_in = val_in*42;\n",
    "    \n",
    "    PyObject *arglist;\n",
    "    PyObject *result;\n",
    "    arglist = Py_BuildValue(\"(d)\", val_in); //Note \"tuplization\"\n",
    "    //return arglist; //Actually breaks from Python and returns (foo,) rather than (foo)\n",
    "    result = PyObject_CallObject(my_callback, arglist);\n",
    "    Py_DECREF(arglist); // Note decref to release args. It was only needed for the fcn call.\n",
    "    //return arglist; // Would return ((<NULL>,),)\n",
    "    return result;\n",
    "    \n",
    "}\n",
    "\n",
    "// Static that maps C names to python and outlines the variables\n",
    "static PyMethodDef SimpleMethods[] = {\n",
    "    {\"set_fcn_callback\",  my_set_callback, METH_VARARGS,\n",
    "     \"Sets_a_callback.\"},\n",
    "    {\"simple_callback\",  simple_callback, METH_VARARGS,\n",
    "     \"calls back with passthrough args.\"},\n",
    "    {\"pedantic_callback\",  pedantic_callback, METH_VARARGS,\n",
    "     \"calls back with explicit int args.\"},\n",
    "    {NULL, NULL, 0, NULL}        /* Sentinel */\n",
    "};\n",
    "\n",
    "// Registration of the functions and generation of the module\n",
    "PyMODINIT_FUNC\n",
    "initSimpleFcn(void)  // MUST be named \"initFoo\" for a library with name of \"Foo\"\n",
    "{\n",
    "    (void) Py_InitModule(\"SimpleFcn\", SimpleMethods);\n",
    "}"
   ]
  },
  {
   "cell_type": "markdown",
   "metadata": {},
   "source": [
    "We can make this in to an installable module without much effort."
   ]
  },
  {
   "cell_type": "code",
   "execution_count": 31,
   "metadata": {
    "collapsed": false
   },
   "outputs": [
    {
     "name": "stdout",
     "output_type": "stream",
     "text": [
      "Writing code/setup.py\n"
     ]
    }
   ],
   "source": [
    "%%file code/setup.py\n",
    "\n",
    "from distutils.core import setup, Extension\n",
    "\n",
    "setup(\n",
    "    ext_modules=[Extension(\"SimpleFcn\", [\"SimpleFcn.cpp\"])],\n",
    ")\n"
   ]
  },
  {
   "cell_type": "markdown",
   "metadata": {},
   "source": [
    "Go build this in conda's python via ```python setup.py build_ext --inplace```"
   ]
  },
  {
   "cell_type": "code",
   "execution_count": 34,
   "metadata": {
    "collapsed": false
   },
   "outputs": [
    {
     "name": "stdout",
     "output_type": "stream",
     "text": [
      "rm: cannot remove ‘bin/SimpleFcn.so’: No such file or directory\n",
      "0000000000000bb0 T _fini\n",
      "00000000000007e8 T _init\n",
      "0000000000000b85 T initSimpleFcn\n"
     ]
    }
   ],
   "source": [
    "! rm bin/SimpleFcn.so SimpleFcn.so\n",
    "!g++ -c -std=c++11 -fPIC code/SimpleFcn.cpp -o code/SimpleFcn.o \n",
    "!g++ -o bin/SimpleFcn.so -shared code/SimpleFcn.o -L/usr/lib -lpython2.7\n",
    "!nm -D bin/SimpleFcn.so |grep 'T '\n",
    "!ln -s ./bin/SimpleFcn.so SimpleFcn.so"
   ]
  },
  {
   "cell_type": "markdown",
   "metadata": {},
   "source": [
    "We can run this function. It also allows us a chance to look at the call stack from C++ up through the notebook"
   ]
  },
  {
   "cell_type": "code",
   "execution_count": 1,
   "metadata": {
    "collapsed": false
   },
   "outputs": [
    {
     "name": "stdout",
     "output_type": "stream",
     "text": [
      "42.84\n",
      "42.84\n",
      "1.071.071.071.071.071.071.071.071.071.071.071.071.071.071.071.071.071.071.071.071.071.071.071.071.071.071.071.071.071.071.071.071.071.071.071.071.071.071.071.071.071.07\n"
     ]
    }
   ],
   "source": [
    "import SimpleFcn\n",
    "del SimpleFcn\n",
    "import SimpleFcn\n",
    "def what_is_the_answer_with_inflation(rate):\n",
    "    #%%debug\n",
    "    #import rpdb2; rpdb2.start_embedded_debugger('12345')\n",
    "    return 42*rate\n",
    "print(what_is_the_answer_with_inflation(1.02))   \n",
    "SimpleFcn.set_fcn_callback(what_is_the_answer_with_inflation)\n",
    "print(SimpleFcn.simple_callback(1.02))\n",
    "\n",
    "# Python instances 42 joined strings of \"1.07\"\n",
    "print(SimpleFcn.simple_callback(\"1.07\"))"
   ]
  },
  {
   "cell_type": "code",
   "execution_count": 5,
   "metadata": {
    "collapsed": false
   },
   "outputs": [
    {
     "name": "stdout",
     "output_type": "stream",
     "text": [
      "1799.28\n",
      "1887.48\n"
     ]
    }
   ],
   "source": [
    "print(SimpleFcn.pedantic_callback(1.02))\n",
    "\n",
    "# Will break because we're trying to extract a float\n",
    "print(SimpleFcn.pedantic_callback(1.07))"
   ]
  },
  {
   "cell_type": "markdown",
   "metadata": {},
   "source": [
    "###Pitfalls with pyObject\n",
    " - The *first* line of the C/C++ file should be '''#include < python2.7/Python.h\\> ''' because it may alter how other headers are loaded (such as iostream). \n",
    "   - Note, most tutorials will have you just write '''< Python.h\\>''', which will not find the file (at least for Unbuntu)\n",
    "   - The Python headers are available in Ubuntu via python-dev  \n",
    "   - When linking, you need to include the python library libpython<ver>. In this case, it's libpython2.7.so.\n",
    " - Reference counting needs to be done correctly to prevent memory leaks when variables are generated on one side and destroyed on another. If the same variable is passed back/forth as a carrier, then the possibility of leads is reduced (see the struct message example).\n",
    " - You can run into strange errors when you're not converting to the right Python type (e.g., long when int needed, etc).\n",
    "   - This is all documented in the c-api documentation."
   ]
  },
  {
   "cell_type": "markdown",
   "metadata": {},
   "source": [
    "---\n",
    "##Topic 3: Boost Python,  \"Seamless\" Python and Boost Integration\n",
    "\n",
    "First, let's examine the example from boost (boost_1_58_0/libs/python/doc/index.html).\n",
    " - Note, in order for this to run, I needed to put these libraries on the path before starting the notebook: \"export LD_LIBRARY_PATH=$LD_LIBRARY_PATH:/usr/local/boost/1.58/lib\n",
    "\"\n",
    " - If you notice, this the easiest implementation so far (nearly everything is hidden by BOOST_PYTHON_MODULE)"
   ]
  },
  {
   "cell_type": "code",
   "execution_count": null,
   "metadata": {
    "collapsed": false
   },
   "outputs": [],
   "source": [
    "# Will allow compiling, but will still fail at runtime.\n",
    "import os\n",
    "print os.environ['LD_LIBRARY_PATH']\n",
    "os.environ['LD_LIBRARY_PATH']='/usr/local/boost/1.58/lib'"
   ]
  },
  {
   "cell_type": "code",
   "execution_count": 6,
   "metadata": {
    "collapsed": false
   },
   "outputs": [
    {
     "name": "stdout",
     "output_type": "stream",
     "text": [
      "Writing code/hello_ext.cpp\n"
     ]
    }
   ],
   "source": [
    "%%file code/hello_ext.cpp\n",
    "#include <boost/python.hpp>\n",
    "\n",
    "const char * greet()\n",
    "{\n",
    "   return \"hello, world\";\n",
    "}\n",
    "\n",
    "BOOST_PYTHON_MODULE(hello_ext) //Will define the module init name via macros (see objects below)\n",
    "{\n",
    "    using namespace boost::python;\n",
    "    def(\"greet\", greet);\n",
    "}\n"
   ]
  },
  {
   "cell_type": "code",
   "execution_count": 7,
   "metadata": {
    "collapsed": false
   },
   "outputs": [
    {
     "name": "stdout",
     "output_type": "stream",
     "text": [
      "rm: cannot remove ‘bin/hello_ext.so’: No such file or directory\n",
      "rm: cannot remove ‘hello_ext.so’: No such file or directory\n",
      "0000000000005dc8 T _fini\n",
      "0000000000004948 T _init\n",
      "0000000000005002 T inithello_ext\n",
      "000000000000501e T _Z21init_module_hello_extv\n",
      "0000000000004ff5 T _Z5greetv\n",
      "\tlinux-vdso.so.1 =>  (0x00007fff70ffc000)\n",
      "\tlibboost_python.so.1.58.0 => /usr/local/boost/1.58/lib/libboost_python.so.1.58.0 (0x00007f31241cb000)\n",
      "\tlibstdc++.so.6 => /usr/lib/x86_64-linux-gnu/libstdc++.so.6 (0x00007f3123eaf000)\n",
      "\tlibgcc_s.so.1 => /lib/x86_64-linux-gnu/libgcc_s.so.1 (0x00007f3123c98000)\n",
      "\tlibc.so.6 => /lib/x86_64-linux-gnu/libc.so.6 (0x00007f31238d2000)\n",
      "\tlibm.so.6 => /lib/x86_64-linux-gnu/libm.so.6 (0x00007f31235cc000)\n",
      "\t/lib64/ld-linux-x86-64.so.2 (0x00007f3124623000)\n"
     ]
    }
   ],
   "source": [
    "!rm bin/hello_ext.so hello_ext.so\n",
    "!g++ -c -std=c++11 -fPIC code/hello_ext.cpp -o code/hello_ext.o -I/home/ashaver/anaconda/include/python2.7 -I/usr/local/boost/1.58/include\n",
    "!g++ -o bin/hello_ext.so -shared code/hello_ext.o /usr/local/boost/1.58/lib/libboost_python.so\n",
    "!nm -D bin/hello_ext.so |grep 'T '\n",
    "!ln -s ./bin/hello_ext.so hello_ext.so\n",
    "!ldd hello_ext.so\n"
   ]
  },
  {
   "cell_type": "code",
   "execution_count": 8,
   "metadata": {
    "collapsed": false
   },
   "outputs": [
    {
     "name": "stdout",
     "output_type": "stream",
     "text": [
      "hello, world\n"
     ]
    }
   ],
   "source": [
    "# Must have python on the path.\n",
    "import hello_ext\n",
    "print hello_ext.greet()"
   ]
  },
  {
   "cell_type": "code",
   "execution_count": 9,
   "metadata": {
    "collapsed": false
   },
   "outputs": [
    {
     "name": "stdout",
     "output_type": "stream",
     "text": [
      "Writing code/boost42.cpp\n"
     ]
    }
   ],
   "source": [
    "%%file code/boost42.cpp\n",
    "#include <boost/python.hpp>\n",
    "        \n",
    "int missing_answer(int a) {\n",
    "    return (42-a);\n",
    "}\n",
    "\n",
    "BOOST_PYTHON_MODULE(boost42) //Will define the module init name via macros (see objects below)\n",
    "{\n",
    "    using namespace boost::python;\n",
    "    def(\"missing_answer\", missing_answer);\n",
    "}\n",
    "\n"
   ]
  },
  {
   "cell_type": "code",
   "execution_count": 10,
   "metadata": {
    "collapsed": false
   },
   "outputs": [
    {
     "name": "stdout",
     "output_type": "stream",
     "text": [
      "rm: cannot remove ‘bin/boost42.so’: No such file or directory\n",
      "rm: cannot remove ‘boost42.so’: No such file or directory\n",
      "0000000000006c20 T _fini\n",
      "00000000000053b0 T _init\n",
      "0000000000005b76 T initboost42\n",
      "0000000000005b65 T _Z14missing_answeri\n",
      "0000000000005b92 T _Z19init_module_boost42v\n",
      "\tlinux-vdso.so.1 =>  (0x00007fff87ffc000)\n",
      "\tlibboost_python.so.1.58.0 => /usr/local/boost/1.58/lib/libboost_python.so.1.58.0 (0x00007f555a4f0000)\n",
      "\tlibstdc++.so.6 => /usr/lib/x86_64-linux-gnu/libstdc++.so.6 (0x00007f555a1d4000)\n",
      "\tlibgcc_s.so.1 => /lib/x86_64-linux-gnu/libgcc_s.so.1 (0x00007f5559fbd000)\n",
      "\tlibc.so.6 => /lib/x86_64-linux-gnu/libc.so.6 (0x00007f5559bf7000)\n",
      "\tlibm.so.6 => /lib/x86_64-linux-gnu/libm.so.6 (0x00007f55598f1000)\n",
      "\t/lib64/ld-linux-x86-64.so.2 (0x00007f555a94a000)\n"
     ]
    }
   ],
   "source": [
    "!rm bin/boost42.so boost42.so\n",
    "!g++ -c -std=c++11 -fPIC code/boost42.cpp -o code/boost42.o -I/home/ashaver/anaconda/include/python2.7 -I/usr/local/boost/1.58/include\n",
    "!g++ -o bin/boost42.so -shared code/boost42.o /usr/local/boost/1.58/lib/libboost_python.so\n",
    "!nm -D bin/boost42.so |grep 'T '\n",
    "!ln -s ./bin/boost42.so boost42.so\n",
    "!ldd boost42.so"
   ]
  },
  {
   "cell_type": "code",
   "execution_count": 11,
   "metadata": {
    "collapsed": false
   },
   "outputs": [
    {
     "name": "stdout",
     "output_type": "stream",
     "text": [
      "19\n"
     ]
    }
   ],
   "source": [
    "# Must have python on the path.\n",
    "import boost42\n",
    "print boost42.missing_answer(23)"
   ]
  },
  {
   "cell_type": "markdown",
   "metadata": {},
   "source": [
    "We can call python from boost in various ways. You can pass in fuctions just like with C++. Additionally, you can have c++ call/evaluate python directly. If you're reading the Boost documentation they call this \"embedding\". \n",
    "\n",
    " - object eval(str expression, object globals = object(), object locals = object())\n",
    " - object exec(str code, object globals = object(), object locals = object())\n",
    " - object exec_file(str filename, object globals = object(), object locals = object())\n",
    " - or...import a module and work within its namespace"
   ]
  },
  {
   "cell_type": "code",
   "execution_count": 12,
   "metadata": {
    "collapsed": false
   },
   "outputs": [
    {
     "name": "stdout",
     "output_type": "stream",
     "text": [
      "Writing code/boostUsingPython.cpp\n"
     ]
    }
   ],
   "source": [
    "%%file code/boostUsingPython.cpp\n",
    "#include <boost/python.hpp>\n",
    "#include <iostream>\n",
    "using namespace boost::python;\n",
    "        \n",
    "int main() {\n",
    "    Py_Initialize();\n",
    "    object random_module = import(\"random\");\n",
    "    object rand_namespace = random_module.attr(\"__dict__\");\n",
    "    object ignored = exec(\"result = gauss(2,5)\", rand_namespace);\n",
    "    double val = extract<double>(rand_namespace[\"result\"]);\n",
    "    std::cout << val <<'\\n';\n",
    "    return 0;\n",
    "};"
   ]
  },
  {
   "cell_type": "code",
   "execution_count": 13,
   "metadata": {
    "collapsed": false
   },
   "outputs": [
    {
     "name": "stdout",
     "output_type": "stream",
     "text": [
      "5.56215\n",
      "9.46684\n",
      "5.11751\n",
      "1.28348\n",
      "0.42816\n"
     ]
    }
   ],
   "source": [
    "!g++ -c -std=c++11 -fPIC code/boostUsingPython.cpp -o code/boostUsingPython.o -I/home/ashaver/anaconda/include/python2.7 -I/usr/local/boost/1.58/include\n",
    "!g++ -o bin/boostUsingPython code/boostUsingPython.o /usr/local/boost/1.58/lib/libboost_python.so -lpython2.7\n",
    "!bin/boostUsingPython\n",
    "!bin/boostUsingPython\n",
    "!bin/boostUsingPython\n",
    "!bin/boostUsingPython\n",
    "!bin/boostUsingPython\n"
   ]
  },
  {
   "cell_type": "markdown",
   "metadata": {},
   "source": [
    "###Pitfalls with Boost Python\n",
    "----\n",
    " - Compiling boost, not having libraries on the path at runtime (which is easy to catch)\n",
    " - Not extracting the correct type\n",
    " - If something goes wrong in the macros, you would have to read the C-header compiled code (before the object file is made)\n",
    " - Not putting the #include < boost/python.hpp > at the top as it drives other headers\n",
    " - Forgetting to link in the boost python library \n",
    " - Also memory leaks (though boost employs smart pointers to do reference counting of the everything generated via Boost). Also, you can smart-pointer wrap any new() declarations with Boost's smart pointers, if you want."
   ]
  },
  {
   "cell_type": "code",
   "execution_count": 14,
   "metadata": {
    "collapsed": false
   },
   "outputs": [
    {
     "name": "stdout",
     "output_type": "stream",
     "text": [
      "18\n",
      "The slowest run took 29.85 times longer than the fastest. This could mean that an intermediate result is being cached \n",
      "1000000 loops, best of 3: 272 ns per loop\n",
      "CPU times: user 0 ns, sys: 0 ns, total: 0 ns\n",
      "Wall time: 15 µs\n",
      "18\n",
      "The slowest run took 23.83 times longer than the fastest. This could mean that an intermediate result is being cached \n",
      "10000000 loops, best of 3: 170 ns per loop\n",
      "CPU times: user 7 µs, sys: 1 µs, total: 8 µs\n",
      "Wall time: 13.1 µs\n",
      "18\n",
      "The slowest run took 23.18 times longer than the fastest. This could mean that an intermediate result is being cached \n",
      "1000000 loops, best of 3: 216 ns per loop\n",
      "CPU times: user 7 µs, sys: 0 ns, total: 7 µs\n",
      "Wall time: 13.8 µs\n"
     ]
    },
    {
     "data": {
      "text/plain": [
       "18"
      ]
     },
     "execution_count": 14,
     "metadata": {},
     "output_type": "execute_result"
    }
   ],
   "source": [
    "import ctypes\n",
    "helloCpp = ctypes.CDLL('./bin/libHello.so')\n",
    "print(helloCpp.missing_answer(24)) \n",
    "%timeit helloCpp.missing_answer(24)\n",
    "%time helloCpp.missing_answer(24)\n",
    "\n",
    "import Simple\n",
    "print(Simple.missing_answer(24))\n",
    "%timeit Simple.missing_answer(24)\n",
    "%time Simple.missing_answer(24)\n",
    "\n",
    "import boost42\n",
    "print(boost42.missing_answer(24))\n",
    "%timeit boost42.missing_answer(24)\n",
    "%time boost42.missing_answer(24)"
   ]
  },
  {
   "cell_type": "markdown",
   "metadata": {},
   "source": [
    "---\n",
    "##Topic 4: Zato.io, using an ESB to integrate Python\n",
    "\n",
    "Installation/download is different for each platform:\n",
    "- https://zato.io/downloads.html\n",
    "- https://zato.io/downloads-2.0-ubuntu.html\n",
    "- http://www.linuxjournal.com/content/zato%E2%80%94agile-esb-soa-rest-and-cloud-integrations-python\n",
    "- https://zato.io/docs/2.0/index.html\n",
    "\n",
    "My install instrutions (curl didn't work, substituted wget and cat). \n",
    "\n",
    "---\n",
    "\n",
    "- sudo apt-get install apt-transport-https\n",
    "- sudo apt-get install python-software-properties software-properties-common\n",
    "- wget https://zato.io/repo/zato-0CBD7F72.pgp.asc\n",
    "- cat zato-0CBD7F72.pgp.asc | sudo apt-key add -\n",
    "- sudo apt-add-repository https://zato.io/repo/stable/2.0/ubuntu\n",
    "- sudo apt-get update\n",
    "- sudo apt-get -y install zato\n",
    "- reboot, as the install made a user 'zato ESB'\n",
    "---\n",
    "  "
   ]
  },
  {
   "cell_type": "markdown",
   "metadata": {
    "collapsed": true
   },
   "source": [
    "####Tutorial (From Zato)\n",
    " - Option 1, using Docker (https://zato.io/docs/2.0/admin/guide/install-docker.html)\n",
    " - Option 2\n",
    "  - Getting redis (http://redis.io/)\n",
    "    - wget http://download.redis.io/releases/redis-3.0.2.tar.gz\n",
    "    - tar -xzvf redis-3.0.2.tar.gz\n",
    "    - cd redis-3.0.2\n",
    "    - make \n",
    "    - make test\n",
    "    - sudo make install\n",
    "    - cd utils\n",
    "    - sudo ./install_server.sh\n",
    "   \n",
    "    ```\n",
    "    Success!\n",
    "    Starting Redis server...\n",
    "    Installation successful! \n",
    "    ```\n",
    "  - cd /usr/local/bin\n",
    "  - sudo ln -s /opt/zato/2.0.5/bin/zato zato # Was missing line in the tutorial...zato wasn't in bin.\n",
    "  - sudo su zato \n",
    "  - cd ~\n",
    "  - mkdir -p env/qs-1\n",
    "  - /opt/zato/2.0.5/bin/zato quickstart create ~/env/qs-1 sqlite localhost 6379 --kvdb_password '' --verbose\n",
    "  - This output is **important** as it contains log-in info for administration!\n",
    " ```\n",
    " [1/8] Certificate authority created\n",
    "[2/8] ODB schema created\n",
    "[3/8] ODB initial data created\n",
    "[4/8] server1 created\n",
    "[5/8] server2 created\n",
    "[6/8] Load-balancer created\n",
    "Superuser created successfully.\n",
    "[7/8] Web admin created\n",
    "[8/8] Management scripts created\n",
    "Quickstart cluster quickstart-150282 created\n",
    "Web admin user:[admin], password:[suri-rona-esar-eruk]\n",
    "Start the cluster by issuing the /opt/zato/env/qs-1/zato-qs-start.sh command\n",
    "Visit https://zato.io/support for more information and support options\n",
    "```\n",
    "  - /opt/zato/env/qs-1/zato-qs-start.sh\n",
    "  ```\n",
    "Starting the Zato cluster quickstart-578017\n",
    "Running sanity checks\n",
    "[1/6] Redis connection OK\n",
    "[2/6] SQL ODB connection OK\n",
    "[3/6] Load-balancer started\n",
    "[4/6] server1 started\n",
    "[5/6] server2 started\n",
    "[6/6] Web admin started\n",
    "Zato cluster quickstart-578017 started\n",
    "Visit https://zato.io/support for more information and support options\n",
    "```\n",
    "  - zato check-config /opt/zato/env/qs-1/server1\n",
    "  - zato check-config /opt/zato/env/qs-1/server2\n",
    "  - curl localhost:11223/zato/ping ; echo\n",
    "  "
   ]
  },
  {
   "cell_type": "code",
   "execution_count": 15,
   "metadata": {
    "collapsed": false
   },
   "outputs": [
    {
     "name": "stdout",
     "output_type": "stream",
     "text": [
      "Overwriting zato_tutorial/my_service.py\n"
     ]
    }
   ],
   "source": [
    "%%file zato_tutorial/my_service.py\n",
    "\n",
    "from zato.server.service import Service\n",
    "\n",
    "class GetClientDetails(Service):\n",
    "    def handle(self): # The only method that *has* to be defined. This is the event-triggered entry point.\n",
    "        self.log_input()"
   ]
  },
  {
   "cell_type": "code",
   "execution_count": 17,
   "metadata": {
    "collapsed": false
   },
   "outputs": [],
   "source": [
    "!curl localhost:11223/tutorial/first-service -d '{\"cust_id\":123, \"cust_type\":\"A\"}'\n",
    "    "
   ]
  },
  {
   "cell_type": "markdown",
   "metadata": {},
   "source": [
    "Go read and work through https://zato.io/docs/tutorial/02.html\n",
    "\n",
    "IMHO, worth it for\n",
    "  - explanation of outgoing messages and external servers. (They do a CRM example).\n",
    "  - introduction to using Simple IO to insert a lightweight interface layer between differing fields of incoming/outgoing messages\n",
    "  - an introduction to zmq, a really lightweight messaging protocol. \n",
    "  - gunicorn (a python port of ruby's unicorn for the reactor web-pattern \"green unicorn\")\n",
    "\n",
    "For now, we'll look at other modifications to Zato through packages.:"
   ]
  },
  {
   "cell_type": "code",
   "execution_count": 18,
   "metadata": {
    "collapsed": false
   },
   "outputs": [
    {
     "name": "stdout",
     "output_type": "stream",
     "text": [
      "activate\t  glance\t   nova\t\t\t  pyrsa-keygen\r\n",
      "activate.csh\t  gunicorn\t   ntlm_example_extended  pyrsa-priv2pub\r\n",
      "activate.fish\t  gunicorn_django  ntlm_example_simple\t  pyrsa-sign\r\n",
      "activate_this.py  gunicorn_paster  pep8\t\t\t  pyrsa-verify\r\n",
      "alembic\t\t  ipython\t   pip\t\t\t  python\r\n",
      "behave\t\t  jsondiff\t   pip2\t\t\t  python2\r\n",
      "buildout\t  jsonpatch\t   pip2.7\t\t  python2.7\r\n",
      "coverage\t  jsonpointer\t   py\t\t\t  raven\r\n",
      "coverage2\t  keyczart\t   pybabel\t\t  retools-worker\r\n",
      "coverage-2.7\t  keyring\t   pyflakes\t\t  rpdb2\r\n",
      "cygdb\t\t  keystone\t   pygmentize\t\t  watchmedo\r\n",
      "cython\t\t  mllp_send\t   pyprof2calltree\t  winpdb\r\n",
      "easy_install\t  ndg_httpclient   pyrsa-decrypt\t  zato\r\n",
      "easy_install-2.7  newrelic-admin   pyrsa-decrypt-bigfile\r\n",
      "f2py\t\t  nosetests\t   pyrsa-encrypt\r\n",
      "flake8\t\t  nosetests-2.7    pyrsa-encrypt-bigfile\r\n"
     ]
    }
   ],
   "source": [
    "!ls /opt/zato/2.0.5/bin/"
   ]
  },
  {
   "cell_type": "markdown",
   "metadata": {},
   "source": [
    "We're going to install our package Simple from earlier. \n",
    " - cp simplePkg .\n",
    " - /opt/zato/2.0.5/bin/python setup.py build_ext install\n",
    " \n",
    "This is similar to installing packages into the environment for Anaconda. Note, here we've used something from Topic 2 (PyObjects) inside the ESB."
   ]
  },
  {
   "cell_type": "code",
   "execution_count": 19,
   "metadata": {
    "collapsed": false
   },
   "outputs": [
    {
     "name": "stdout",
     "output_type": "stream",
     "text": [
      "Overwriting zato_tutorial/my_answer.py\n"
     ]
    }
   ],
   "source": [
    "%%file zato_tutorial/my_answer.py\n",
    "\n",
    "from zato.server.service import Service\n",
    "import Simple # original line\n",
    "\n",
    "class GetClientAnswer(Service):\n",
    "    def handle(self): # The only method that *has* to be defined. This is the event-triggered entry point.\n",
    "        self.logger.info('Request Answer: {}'.format(self.request.payload))\n",
    "\n",
    "       \n",
    "        response = {}\n",
    "        q = self.request.payload['question']\n",
    "        response['question'] = q\n",
    "        response['answer'] = Simple.missing_answer(q) # Original Line\n",
    "\n",
    "        self.logger.info('Response: {}'.format(response))\n",
    "       \n",
    "        \n",
    "        # And return response to the caller\n",
    "        self.response.payload = response"
   ]
  },
  {
   "cell_type": "markdown",
   "metadata": {},
   "source": [
    "Copy to the hot-load. Then add the channel for the service. Check the logs."
   ]
  },
  {
   "cell_type": "code",
   "execution_count": 21,
   "metadata": {
    "collapsed": false
   },
   "outputs": [
    {
     "name": "stdout",
     "output_type": "stream",
     "text": [
      "{\"answer\": 19, \"question\": 23}{\"answer\": 21, \"question\": 21}{\"answer\": -22342299, \"question\": 22342341}"
     ]
    }
   ],
   "source": [
    "!curl localhost:11223/talk/answer -d '{\"question\":23}'\n",
    "!curl localhost:11223/talk/answer -d '{\"question\":21}'\n",
    "!curl localhost:11223/talk/answer -d '{\"question\":22342341}'\n"
   ]
  },
  {
   "cell_type": "code",
   "execution_count": 22,
   "metadata": {
    "collapsed": false
   },
   "outputs": [
    {
     "name": "stdout",
     "output_type": "stream",
     "text": [
      "CPU times: user 11 µs, sys: 0 ns, total: 11 µs\n",
      "Wall time: 22.9 µs\n",
      "{\"answer\": 19, \"question\": 23}CPU times: user 58 µs, sys: 4.07 ms, total: 4.13 ms\n",
      "Wall time: 118 ms\n"
     ]
    }
   ],
   "source": [
    "import Simple\n",
    "%time Simple.missing_answer(24)\n",
    "%time !curl localhost:11223/talk/answer -d '{\"question\":23}'"
   ]
  },
  {
   "cell_type": "markdown",
   "metadata": {},
   "source": [
    "# Let's  address something that might happen in the real world...\n",
    "The company buys an expensive peice of software. They buy only one copy. You would like to use python to allow everyone to use it. In this specific case, it's a Linear-Programming Solver, Coin (which is free, so your company probably paid too much).\n",
    "\n",
    "Go install CyLP (the python front end for several COIN-OR packages)\n",
    " - http://mpy.github.io/CyLPdoc/\n",
    " - https://projects.coin-or.org/CyLP\n",
    " - https://pypi.python.org/pypi/cylp/0.7.2\n",
    "\n",
    "Note, to install these in zato, I had to use zato's pip to install numpy, scipy (as well as I had to use apt-get to install libblas-dev, libatlas-dev, and liblapack-dev so scipy could be compiled).\n",
    "\n",
    "Then we write the solver interface, zato_tutorial/mips_simplex_solver.py and hot-deploy it.\n",
    "\n",
    "Then we encode a TSP problem as a Linear Program for the simplex solver (https://en.wikipedia.org/wiki/Travelling_salesman_problem). Consider some $N\\times N$ matrix $A$ representing travel costs between nodes( e.g., the cost of travel between node $i$ and node $j$ is $A(i,j)$. The goal is to find another $N\\times N$ zero-one matrix of arcs between the nodes such that each node is visited exactly once and the minimum cost for the loop is found. In order to enforce the loop constraint, we need to introduce another variable $U$.\n",
    "\n",
    "\\begin{align}\n",
    "&A \\in \\mathbb{R}^2 \\\\\n",
    "&X \\in \\mathbb{Z}^2\\\\\n",
    "&X = \\textrm{argmin} (AX), \\;\\; \\textrm{s.t.}\\\\\n",
    "&\\sum_{i\\in N} {X_{ij}} = 1, \\;\\; \\forall j\\\\\n",
    "&\\sum_{j\\in N} {X_{ij}} = 1,\\;\\; \\forall i\\\\\n",
    "&X_{ij} \\in \\{0,1\\}, \\;\\; \\forall i,j\\\\\n",
    "&U \\in \\mathbb{R}\\\\\n",
    "& U_i - U_j + N*x_{ij} <= (N-1) , \\;\\; 1 \\leq i \\neq j \\leq N \\\\\n",
    "\\end{align}\n",
    "\n",
    "It should be noted that this formulation introduces $5N$ constraints and $N$ additional variables into an otherwise simple minimization.\n",
    "\n",
    "**Also, as an aside,  there are (likely) bugs in Coin.**\n"
   ]
  },
  {
   "cell_type": "code",
   "execution_count": 23,
   "metadata": {
    "collapsed": false
   },
   "outputs": [
    {
     "name": "stdout",
     "output_type": "stream",
     "text": [
      "[[ 0.  0.  0.  1.  0.]\n",
      " [ 1.  0.  0.  0.  0.]\n",
      " [ 0.  0.  0.  0.  1.]\n",
      " [ 0.  1.  0.  0.  0.]\n",
      " [ 0.  0.  1.  0.  0.]]\n"
     ]
    }
   ],
   "source": [
    "import numpy as np\n",
    "from cylp.cy.CyClpSimplex import CyClpSimplex\n",
    "from cylp.py.modeling import CyLPModel, CyLPArray\n",
    "#import warnings\n",
    "#warnings.filterwarnings(\"ignore\")\n",
    "\n",
    "# Build a cost matrix\n",
    "N = 5\n",
    "\n",
    "np.random.seed(seed=0)\n",
    "A = np.random.rand(N,N)\n",
    "A += np.transpose(A)\n",
    "np.fill_diagonal(A, 0)\n",
    "A_col = CyLPArray(np.reshape(A, N**2))\n",
    "\n",
    "#model = CyLPModel()\n",
    "s = CyLPModel()\n",
    "x = s.addVariable('x', N**2, isInt=True)\n",
    "u = s.addVariable('u', N)\n",
    "\n",
    "# Network Bounds\n",
    "for i in range(N):\n",
    "\n",
    "    \n",
    "    # One edge from i\n",
    "    #ix = np.array(range(N))+i*N\n",
    "    ix = np.ravel_multi_index((i, range(N)), dims=(N, N))\n",
    "    #print ix\n",
    "    s += x[ix.tolist()].sum() == 1\n",
    "    \n",
    "    # One edge to i\n",
    "    #ix = np.array(range(0, N**2, N)) + i\n",
    "    ix = np.ravel_multi_index((range(N),i), dims=(N, N))\n",
    "    #print ix\n",
    "    s += x[ix.tolist()].sum() == 1\n",
    "    \n",
    "    s += 0 <= x <= 1 # MIP\n",
    "\n",
    "# Don't allow routes to self  \n",
    "s += CyLPArray(np.reshape(np.eye(N), N**2))*x == 0\n",
    "\n",
    "# Force there to be a single cycle\n",
    "np.ravel_multi_index\n",
    "for i in range(N):\n",
    "    for j in range(N):\n",
    "        if i == j:\n",
    "            continue\n",
    "        ix = np.ravel_multi_index((i, j), dims=(N, N))\n",
    "        #print ix, i, j\n",
    "        s += u[i] - u[j] + N*x[[ix]] <= (N-1)\n",
    "\n",
    "# Set the objective function\n",
    "s.objective = A_col*x\n",
    "\n",
    "s2 = CyClpSimplex(s)\n",
    "s2.initialPrimalSolve()\n",
    "print np.reshape(np.round(s2.primalVariableSolution['x']),(N,N))\n",
    "#s2.primal()\n",
    "#print np.reshape(np.round(s2.primalVariableSolution['x']),(N,N))"
   ]
  },
  {
   "cell_type": "code",
   "execution_count": 24,
   "metadata": {
    "collapsed": false
   },
   "outputs": [
    {
     "name": "stdout",
     "output_type": "stream",
     "text": [
      "['CLP_addConstraint', 'CLP_addVariable', 'CLP_deleteConstraints', 'CLP_deleteVariables', 'CLP_dualConstraintSolution', 'CLP_getVarStatus', 'CLP_setVarStatus', 'Hessian', '__class__', '__delattr__', '__doc__', '__format__', '__getattribute__', '__hash__', '__iadd__', '__init__', '__new__', '__pyx_vtable__', '__reduce__', '__reduce_ex__', '__repr__', '__setattr__', '__sizeof__', '__str__', '__subclasshook__', '_extractStartFinish', 'addConstraint', 'addConstraints', 'addVariable', 'addVariables', 'argWeightedMax', 'automaticScaling', 'basicVariables', 'basisInverse', 'checkVar', 'coefMatrix', 'constraintScale', 'constraints', 'constraintsLower', 'constraintsUpper', 'copyInIntegerInformation', 'cost', 'dual', 'dualConstraintSolution', 'dualTolerance', 'dualVariableSolution', 'dualWithPresolve', 'evaluateAt', 'extractCyLPModel', 'filterVars', 'flagged', 'freeOrSuperBasicVarInds', 'getACol', 'getBInvACol', 'getBInvCol', 'getBasisStatus', 'getCbcModel', 'getCoinInfinity', 'getComplementarityList', 'getConstraintStatus', 'getPivotVariable', 'getReducedCosts', 'getRightHandSide', 'getStatusArray', 'getStatusCode', 'getStatusString', 'getUseCustomPrimal', 'getVarByName', 'getVarNameByIndex', 'getVariableNames', 'getVariableStatus', 'gradientAt', 'infeasibilityCost', 'initialDualSolve', 'initialPrimalSolve', 'initialSolve', 'integerInformation', 'isInteger', 'isPivotAcceptable', 'iteration', 'largestDualError', 'loadFromCyLPModel', 'loadProblem', 'loadProblemFromCyCoinModel', 'loadQuadraticObjective', 'logLevel', 'lower', 'matrix', 'maxNumIteration', 'nCols', 'nConstraints', 'nRows', 'nVariables', 'notBasicOrFixedOrFlaggedVarInds', 'numberPrimalInfeasibilities', 'objective', 'objectiveCoefficients', 'objectiveOffset', 'objectiveValue', 'optimizationDirection', 'partialPricing', 'pivotRow', 'postSolve', 'preSolve', 'primal', 'primalConstraintSolution', 'primalTolerance', 'primalVariableSolution', 'primalVariableSolutionAll', 'primalWithPresolve', 'readLp', 'readMps', 'reducedCosts', 'removeConstraint', 'removeVariable', 'replaceMatrix', 'resize', 'rhs', 'scaling', 'sequenceIn', 'setBasisStatus', 'setColumnLower', 'setColumnLowerArray', 'setColumnLowerFirstElements', 'setColumnLowerSubset', 'setColumnUpper', 'setColumnUpperArray', 'setColumnUpperFirstElements', 'setColumnUpperSubset', 'setComplement', 'setComplementarityList', 'setConstraintName', 'setConstraintStatus', 'setDualPivotMethod', 'setFlagged', 'setInteger', 'setObjectiveArray', 'setObjectiveCoefficient', 'setPerturbation', 'setPivotMethod', 'setPivotRow', 'setPrimalColumnPivotAlgorithmToPE', 'setPrimalColumnPivotAlgorithmToWolfe', 'setRowLower', 'setRowLowerArray', 'setRowUpper', 'setRowUpperArray', 'setSequenceIn', 'setVariableName', 'setVariableStatus', 'solution', 'status', 'tableau', 'transposeTimes', 'transposeTimesSubset', 'transposeTimesSubsetAll', 'updateColumnFT', 'updateColumnTranspose', 'upper', 'useCustomPrimal', 'varIsAtLowerBound', 'varIsAtUpperBound', 'varIsBasic', 'varIsFixed', 'varIsFlagged', 'varIsFree', 'varIsSuperBasic', 'varNotAtLowerBound', 'varNotAtUpperBound', 'varNotBasic', 'varNotFixed', 'varNotFlagged', 'varNotFree', 'varNotSuperBasic', 'variableNames', 'variableScale', 'variables', 'variablesLower', 'variablesUpper', 'vectorTimesB_1', 'writeLp', 'writeMps']\n"
     ]
    }
   ],
   "source": [
    "print(dir(s2))"
   ]
  },
  {
   "cell_type": "code",
   "execution_count": 25,
   "metadata": {
    "collapsed": false
   },
   "outputs": [
    {
     "name": "stdout",
     "output_type": "stream",
     "text": [
      "True\n",
      "solution\n",
      "4.18512813236\n",
      "True\n",
      "[[ 0.  0.  1.  0.  0.]\n",
      " [ 1.  0.  0.  0.  0.]\n",
      " [ 0.  0.  0.  1.  0.]\n",
      " [ 0.  0.  0.  0.  1.]\n",
      " [ 0.  1.  0.  0.  0.]]\n"
     ]
    }
   ],
   "source": [
    "cbc_model = s2.getCbcModel()\n",
    "rsp = cbc_model.branchAndBound()\n",
    "print cbc_model.isRelaxationOptimal()\n",
    "print rsp\n",
    "print s2.objectiveValue\n",
    "print cbc_model.isRelaxationOptimal()\n",
    "\n",
    "# Solve using primal Simplex\n",
    "sol_x = cbc_model.primalVariableSolution['x']\n",
    "print np.reshape(sol_x, (N,N))"
   ]
  },
  {
   "cell_type": "code",
   "execution_count": 26,
   "metadata": {
    "collapsed": false
   },
   "outputs": [
    {
     "name": "stdout",
     "output_type": "stream",
     "text": [
      "Overwriting zato_tutorial/mips_simplex_solver.py\n"
     ]
    }
   ],
   "source": [
    "%%file zato_tutorial/mips_simplex_solver.py\n",
    "\n",
    "from zato.server.service import Service\n",
    "import numpy as np\n",
    "from cylp.cy.CyClpSimplex import CyClpSimplex\n",
    "import tempfile\n",
    "\n",
    "class GetClientAnswer(Service):\n",
    "    def handle(self): # The only method that *has* to be defined. This is the event-triggered entry point.\n",
    "        self.logger.info('Request MIPS Solution: {}'.format(self.request.payload))       \n",
    "        response = {}\n",
    "        q = self.request.payload['MIPS']\n",
    "        N = self.request.payload['N']\n",
    "        response['MIPS'] = q\n",
    "        \n",
    "        tmp_mps = tempfile.NamedTemporaryFile(suffix='.mps')\n",
    "        tmp_mps.write(q)\n",
    "        tmp_mps.seek(0)\n",
    "            \n",
    "        s3 = CyClpSimplex()\n",
    "        s3.readMps(tmp_mps.name)\n",
    "        tmp_mps.close()\n",
    "        s3.initialPrimalSolve()\n",
    "        s3.primal()\n",
    "        \n",
    "        #cbc_model = s3.getCbcModel()\n",
    "        #rsp = cbc_model.branchAndBound()\n",
    "        \n",
    "        response['sol'] = np.reshape(np.round(s3.primalVariableSolution[:N**2]),(N,N))\n",
    "        #response['sol'] = np.reshape(np.round(cbc_model.primalVariableSolution[:N**2]),(N,N))\n",
    "        response['cost'] = s3.objectiveValue\n",
    "        #response['optimal'] = cbc_model.isRelaxationOptimal()\n",
    "\n",
    "        self.logger.info('Response: {}'.format(response))       \n",
    "        \n",
    "        # And return response to the caller\n",
    "        self.response.payload = response\n",
    "\n"
   ]
  },
  {
   "cell_type": "code",
   "execution_count": 27,
   "metadata": {
    "collapsed": false,
    "scrolled": true
   },
   "outputs": [
    {
     "name": "stdout",
     "output_type": "stream",
     "text": [
      "3\n",
      "[[ 0.  0.  1.]\n",
      " [ 1.  0.  0.]\n",
      " [ 0.  1.  0.]]\n",
      "1.8742433951\n",
      "4\n",
      "[[ 0.  1.  0.  0.]\n",
      " [ 0.  0.  0.  0.]\n",
      " [ 0.  0.  0.  1.]\n",
      " [ 0.  0.  0.  0.]]\n",
      "1.2177793262\n",
      "5\n",
      "[[ 0.  0.  0.  1.  0.]\n",
      " [ 1.  0.  0.  0.  0.]\n",
      " [ 0.  0.  0.  0.  1.]\n",
      " [ 0.  1.  0.  0.  0.]\n",
      " [ 0.  0.  1.  0.  0.]]\n",
      "1.79123689916\n",
      "6\n",
      "[[ 0.  1.  0.  0.  0.  0.]\n",
      " [ 1.  0.  0.  0.  0.  0.]\n",
      " [ 0.  0.  0.  0.  1.  0.]\n",
      " [ 0.  0.  0.  0.  0.  1.]\n",
      " [ 0.  0.  1.  0.  0.  0.]\n",
      " [ 0.  0.  0.  1.  0.  0.]]\n",
      "2.3971030481\n",
      "7\n",
      "[[ 0.  0.  1.  0.  0.  0.  0.]\n",
      " [ 0.  0.  0.  1.  0.  0.  0.]\n",
      " [ 1.  0.  0.  0.  0.  0.  0.]\n",
      " [ 0.  1.  0.  0.  0.  0.  0.]\n",
      " [ 0.  0.  0.  0.  0.  0.  0.]\n",
      " [ 0.  0.  0.  0.  0.  0.  1.]\n",
      " [ 0.  0.  0.  0.  0.  1.  0.]]\n",
      "2.05538190587\n",
      "8\n",
      "1.012482175\n",
      "9\n",
      "1.37236464227\n",
      "10\n",
      "1.23638193374\n",
      "11\n",
      "1.54910728856\n",
      "12\n",
      "1.70905181357\n",
      "13\n",
      "1.66732352782\n",
      "14\n",
      "2.28832644523\n",
      "15\n",
      "1.32043225261\n",
      "16\n",
      "1.70724739263\n",
      "17\n",
      "1.55025332406\n",
      "18\n",
      "1.23949528171\n",
      "19\n",
      "1.81966286631\n",
      "20\n",
      "1.18935748655\n",
      "21\n",
      "1.2993247367\n",
      "22\n",
      "1.62633778227\n",
      "23\n",
      "1.76076553868\n",
      "24\n",
      "1.17861980641\n"
     ]
    }
   ],
   "source": [
    "import numpy as np\n",
    "from cylp.cy.CyClpSimplex import CyClpSimplex\n",
    "from cylp.py.modeling import CyLPModel, CyLPArray\n",
    "import tempfile\n",
    "import requests\n",
    "import json\n",
    "import time\n",
    "\n",
    "#import warnings\n",
    "#warnings.filterwarnings(\"ignore\")\n",
    "\n",
    "def buildTsp(N):\n",
    "    # Build a cost matrix\n",
    "    np.random.seed(seed=0)\n",
    "    A = np.random.rand(N,N)\n",
    "    A[np.triu_indices(N)] = 0\n",
    "    A += np.transpose(A)\n",
    "    np.fill_diagonal(A, 0)\n",
    "    A_col = CyLPArray(np.reshape(A, N**2))\n",
    "\n",
    "    #model = CyLPModel()\n",
    "    s = CyLPModel()\n",
    "    x = s.addVariable('x', N**2, isInt=True)\n",
    "    u = s.addVariable('u', N, isInt=True)\n",
    "\n",
    "    # Network Bounds\n",
    "    for i in range(N):\n",
    "\n",
    "\n",
    "        # One edge from i\n",
    "        ix = np.array(range(N))+i*N\n",
    "        #print ix\n",
    "        s += x[ix.tolist()].sum() == 1\n",
    "\n",
    "        # One edge to i\n",
    "        ix = np.array(range(0, N**2, N)) + i\n",
    "        #print ix\n",
    "        s += x[ix.tolist()].sum() == 1\n",
    "\n",
    "        s += 0 <= x <= 1 # MIP\n",
    "\n",
    "    # Don't allow routes to self  \n",
    "    s += CyLPArray(np.reshape(np.eye(N), N**2))*x == 0\n",
    "\n",
    "    # Force there to be a single cycle\n",
    "    np.ravel_multi_index\n",
    "    for i in range(N):\n",
    "        for j in range(N):\n",
    "            if i == j:\n",
    "                continue\n",
    "            s += u[i] - u[j] + N*x[(i*N)+j] <= (N-1)\n",
    "\n",
    "\n",
    "    # Set the objective function\n",
    "    s.objective = A_col*x\n",
    "\n",
    "    s2 = CyClpSimplex(s)\n",
    "    tmp_mps = tempfile.NamedTemporaryFile(suffix='.mps')\n",
    "    s2.writeMps(tmp_mps.name)\n",
    "    tmp_mps.seek(0)\n",
    "    return tmp_mps\n",
    "\n",
    "def getAnswer(mps, N):\n",
    "    payload = {'MIPS': ''.join(mps.read()), 'N': N}\n",
    "    url = 'http://127.0.0.1:11223/solve/mips'\n",
    "    #print payload\n",
    "    r = requests.post(url, json=payload, timeout=60)\n",
    "    return r.text\n",
    "\n",
    "def probAndSolve(N):\n",
    "    prob = buildTsp(n)\n",
    "    sol_rsp = getAnswer(prob,n)\n",
    "    #print sol_rsp\n",
    "    sol = json.loads(sol_rsp)\n",
    "    return sol\n",
    "    \n",
    "timeRange = range(3,25)\n",
    "times = []\n",
    "for n in timeRange:\n",
    "    #%%timeit -n5 {probAndSolve(n)}\n",
    "    tstart = time.clock()\n",
    "    print n\n",
    "    sol = probAndSolve(n)\n",
    "    tend = time.clock()\n",
    "    times.append(tend-tstart)\n",
    "    if n < 8:\n",
    "        print np.reshape(sol['sol'],(n,n))\n",
    "    print sol['cost']\n",
    "\n",
    "#print times\n"
   ]
  },
  {
   "cell_type": "code",
   "execution_count": null,
   "metadata": {
    "collapsed": false
   },
   "outputs": [],
   "source": [
    "import matplotlib.pyplot as plt\n",
    "#print len(timeRange)\n",
    "#print len(times)\n",
    "#print times\n",
    "plt.plot(timeRange, times)\n",
    "plt.ylabel('Wall Time (s)')\n",
    "plt.xlabel('Prob Size (N)')\n",
    "plt.show()"
   ]
  },
  {
   "cell_type": "markdown",
   "metadata": {},
   "source": [
    "###Potential issues with Zato\n",
    "----\n",
    " - All servers must run on the same cluster, accessible via the file system. (Note, it does have the capacity to connect to OpenStack or Amazon's S3. Other solutions might involve using an ESB drive a set of ESBs.)\n",
    " - So far, I've not been able to interactively debug. That being said any error shows up in the logs, post-mortem, and in the response message.\n",
    " - Zato natively integrates with python and (the set of things that integrate with python). Though it provides an easy, modern way to add in other packages through other protocols.\n",
    "                                                                             "
   ]
  },
  {
   "cell_type": "markdown",
   "metadata": {},
   "source": [
    "-----\n",
    "##Addendum: Checking for memory leaks in C-Types/PyObject with Valdgrind\n",
    "Valgrind is an Open Source, Free C++ tool that can check for memory leaks, help debug code, and perform profiling. I personally use it to find problems that might not show up the unit tests or integration tests.This sections uses it to investigate one of the crufty PyObject examples I coded earlier. To follow along, you'll need the additional things, Valgrind, Python Source, and Python dependencies:\n",
    "\n",
    " - sudo apt-get install -y valgrind\n",
    " - sudo apt-get build-dep python2.7\n",
    " - apt-get source python2.7\n",
    " \n",
    "Note, this last command downloads the source for Python in a local folder (in my case python2.7-2.7.6). This source needs to be compiled Python with debug flags and Valgrind (took about 2 minutes on a Core i7). Note, the below will put python in my /home/ashaver/valpython (which you probably don't want). First go read the information on python and Valgrind\n",
    " - http://svn.python.org/projects/python/trunk/Misc/README.valgrind\n",
    "  - Ucomment Py_USING_MEMORY_DEBUGGER in Objects/obmalloc.c\n",
    "  - Note, the top of that c-file has other things that we need to define in the configure command.\n",
    "  - Uncomment the suppression in  Misc/valgrind-python.supp for PyObject_Free and PyObject_Realloc\n",
    " - build\n",
    "  - ./configure --prefix=/home/ashaver/valpython --without-pymalloc --with-pydebug --with-valgrind\n",
    "  - make -j4\n",
    "  - make install\n",
    "\n",
    "Now we have a python interpreter that works with Valgrind. So, we can go back and recompile an example, but with debugging and Valgrind. "
   ]
  },
  {
   "cell_type": "code",
   "execution_count": 3,
   "metadata": {
    "collapsed": false
   },
   "outputs": [
    {
     "name": "stdout",
     "output_type": "stream",
     "text": [
      "Python 2.7.6\n",
      "==3971== Memcheck, a memory error detector\n",
      "==3971== Copyright (C) 2002-2013, and GNU GPL'd, by Julian Seward et al.\n",
      "==3971== Using Valgrind-3.10.0.SVN and LibVEX; rerun with -h for copyright info\n",
      "==3971== Command: /home/ashaver/valpython/bin/python2.7 --version\n",
      "==3971== \n",
      "Python 2.7.6\n",
      "==3971== \n",
      "==3971== HEAP SUMMARY:\n",
      "==3971==     in use at exit: 0 bytes in 0 blocks\n",
      "==3971==   total heap usage: 0 allocs, 0 frees, 0 bytes allocated\n",
      "==3971== \n",
      "==3971== All heap blocks were freed -- no leaks are possible\n",
      "==3971== \n",
      "==3971== For counts of detected and suppressed errors, rerun with: -v\n",
      "==3971== ERROR SUMMARY: 0 errors from 0 contexts (suppressed: 0 from 0)\n"
     ]
    }
   ],
   "source": [
    "!/home/ashaver/valpython/bin/python2.7 --version\n",
    "!valgrind --tool=memcheck --leak-check=yes /home/ashaver/valpython/bin/python2.7 --version"
   ]
  },
  {
   "cell_type": "code",
   "execution_count": 4,
   "metadata": {
    "collapsed": false
   },
   "outputs": [
    {
     "name": "stdout",
     "output_type": "stream",
     "text": [
      "Writing code/hello_world.py\n"
     ]
    }
   ],
   "source": [
    "%%file code/hello_world.py\n",
    "print \"Hello World\""
   ]
  },
  {
   "cell_type": "code",
   "execution_count": 5,
   "metadata": {
    "collapsed": false
   },
   "outputs": [
    {
     "name": "stdout",
     "output_type": "stream",
     "text": [
      "==3973== Memcheck, a memory error detector\n",
      "==3973== Copyright (C) 2002-2013, and GNU GPL'd, by Julian Seward et al.\n",
      "==3973== Using Valgrind-3.10.0.SVN and LibVEX; rerun with -h for copyright info\n",
      "==3973== Command: /home/ashaver/valpython/bin/python2.7 code/hello_world.py\n",
      "==3973== \n",
      "Hello World\n",
      "[18300 refs]\n",
      "==3973== \n",
      "==3973== HEAP SUMMARY:\n",
      "==3973==     in use at exit: 953,884 bytes in 5,300 blocks\n",
      "==3973==   total heap usage: 23,099 allocs, 17,799 frees, 4,604,692 bytes allocated\n",
      "==3973== \n",
      "==3973== LEAK SUMMARY:\n",
      "==3973==    definitely lost: 0 bytes in 0 blocks\n",
      "==3973==    indirectly lost: 0 bytes in 0 blocks\n",
      "==3973==      possibly lost: 291,902 bytes in 940 blocks\n",
      "==3973==    still reachable: 661,982 bytes in 4,360 blocks\n",
      "==3973==         suppressed: 0 bytes in 0 blocks\n",
      "==3973== Rerun with --leak-check=full to see details of leaked memory\n",
      "==3973== \n",
      "==3973== For counts of detected and suppressed errors, rerun with: -v\n",
      "==3973== ERROR SUMMARY: 0 errors from 0 contexts (suppressed: 0 from 0)\n"
     ]
    }
   ],
   "source": [
    "!valgrind /home/ashaver/valpython/bin/python2.7 code/hello_world.py"
   ]
  },
  {
   "cell_type": "code",
   "execution_count": 15,
   "metadata": {
    "collapsed": false
   },
   "outputs": [
    {
     "name": "stdout",
     "output_type": "stream",
     "text": [
      "Overwriting code/hello.cpp\n"
     ]
    }
   ],
   "source": [
    "%%file code/hello.cpp\n",
    "#include <iostream>\n",
    "#include <string.h>\n",
    "using namespace std;\n",
    "extern \"C\" {\n",
    "    int main () {\n",
    "        cout << \"Hello Main2\\n\";\n",
    "        return 42;\n",
    "    }\n",
    "    \n",
    "    struct MsgWrapper {\n",
    "        char * msgIn;\n",
    "        char * msgOut;\n",
    "    };\n",
    "    \n",
    "    void helloStrRefFromStruct(MsgWrapper s) {\n",
    "        //strcpy(s.msgIn, \"Aloha234\\n\");\n",
    "        strcpy(s.msgIn, \"Alohsadfgadfgaa\\n\");\n",
    "    }  \n",
    "     \n",
    "    int missing_answer(int  i) {\n",
    "        //non-leaky\n",
    "        /*\n",
    "        i = (42-i);\n",
    "        return i;\n",
    "        */\n",
    "        \n",
    "        //leaky\n",
    "        ///*\n",
    "        int * j = new int (42- i);\n",
    "        return *j;\n",
    "        //*/\n",
    "    }\n",
    "}"
   ]
  },
  {
   "cell_type": "code",
   "execution_count": 16,
   "metadata": {
    "collapsed": false
   },
   "outputs": [
    {
     "name": "stdout",
     "output_type": "stream",
     "text": [
      "==4031== Memcheck, a memory error detector\n",
      "==4031== Copyright (C) 2002-2013, and GNU GPL'd, by Julian Seward et al.\n",
      "==4031== Using Valgrind-3.10.0.SVN and LibVEX; rerun with -h for copyright info\n",
      "==4031== Command: bin/hello\n",
      "==4031== \n",
      "Hello Main2\n",
      "==4031== \n",
      "==4031== HEAP SUMMARY:\n",
      "==4031==     in use at exit: 0 bytes in 0 blocks\n",
      "==4031==   total heap usage: 0 allocs, 0 frees, 0 bytes allocated\n",
      "==4031== \n",
      "==4031== All heap blocks were freed -- no leaks are possible\n",
      "==4031== \n",
      "==4031== For counts of detected and suppressed errors, rerun with: -v\n",
      "==4031== ERROR SUMMARY: 0 errors from 0 contexts (suppressed: 0 from 0)\n"
     ]
    }
   ],
   "source": [
    "! rm bin/hello bin/libHello.so libHello.so\n",
    "!g++ -c -g -std=c++11 -fPIC code/hello.cpp -o code/hello.o\n",
    "!g++ -g -o bin/libHello.so -shared code/hello.o\n",
    "!g++ -o bin/hello code/hello.o\n",
    "!ln -s bin/libHello.so libHello.so\n",
    "!valgrind --tool=memcheck --leak-check=yes bin/hello\n"
   ]
  },
  {
   "cell_type": "code",
   "execution_count": 2,
   "metadata": {
    "collapsed": false
   },
   "outputs": [
    {
     "name": "stdout",
     "output_type": "stream",
     "text": [
      "Overwriting ./hello_wrapper.py\n"
     ]
    }
   ],
   "source": [
    "%%file ./hello_wrapper.py\n",
    "import ctypes\n",
    "helloCpp = ctypes.CDLL('/home/ashaver/omaha_python_group_talks/07_15_2015_Integrating_Python_Adam_Shaver/libHello.so')\n",
    "class MsgWrapper(ctypes.Structure):\n",
    "    _fields_ = [(\"msgOut\", ctypes.c_char_p), (\"msgIn\", ctypes.c_char_p)]\n",
    "amsg = MsgWrapper(\"Goodbye\", \"Hello\")\n",
    "print(amsg.msgIn)\n",
    "print(amsg.msgOut)\n",
    "helloCpp.helloStrRefFromStruct(amsg)\n",
    "print(amsg.msgIn)\n",
    "print(amsg.msgOut)\n",
    "print(helloCpp.missing_answer(24))"
   ]
  },
  {
   "cell_type": "code",
   "execution_count": 3,
   "metadata": {
    "collapsed": false,
    "scrolled": true
   },
   "outputs": [
    {
     "name": "stdout",
     "output_type": "stream",
     "text": [
      "==4045== Memcheck, a memory error detector\n",
      "==4045== Copyright (C) 2002-2013, and GNU GPL'd, by Julian Seward et al.\n",
      "==4045== Using Valgrind-3.10.0.SVN and LibVEX; rerun with -h for copyright info\n",
      "==4045== Command: /home/ashaver/valpython/bin/python2.7 hello_wrapper.py\n",
      "==4045== \n",
      "Hello\n",
      "Goodbye\n",
      "==4045== Invalid write of size 8\n",
      "==4045==    at 0x6E4B967: helloStrRefFromStruct (hello.cpp:17)\n",
      "==4045==    by 0x6A340CB: ffi_call_unix64 (unix64.S:76)\n",
      "==4045==    by 0x6A33AFB: ffi_call (ffi64.c:522)\n",
      "==4045==    by 0x6A2291E: _call_function_pointer (callproc.c:836)\n",
      "==4045==    by 0x6A23547: _ctypes_callproc (callproc.c:1183)\n",
      "==4045==    by 0x6A1C045: PyCFuncPtr_call (_ctypes.c:3929)\n",
      "==4045==    by 0x420D37: PyObject_Call (abstract.c:2529)\n",
      "==4045==    by 0x4D4FE9: do_call (ceval.c:4239)\n",
      "==4045==    by 0x4D439A: call_function (ceval.c:4044)\n",
      "==4045==    by 0x4CF108: PyEval_EvalFrameEx (ceval.c:2666)\n",
      "==4045==    by 0x4D1994: PyEval_EvalCodeEx (ceval.c:3253)\n",
      "==4045==    by 0x4C7B5E: PyEval_EvalCode (ceval.c:667)\n",
      "==4045==  Address 0x6122bbc is 0 bytes after a block of size 60 alloc'd\n",
      "==4045==    at 0x4C2AB80: malloc (in /usr/lib/valgrind/vgpreload_memcheck-amd64-linux.so)\n",
      "==4045==    by 0x46DAAF: PyString_FromStringAndSize (stringobject.c:88)\n",
      "==4045==    by 0x5887C2: parsestr (ast.c:3516)\n",
      "==4045==    by 0x58884D: parsestrplus (ast.c:3534)\n",
      "==4045==    by 0x581D58: ast_for_atom (ast.c:1377)\n",
      "==4045==    by 0x583564: ast_for_power (ast.c:1790)\n",
      "==4045==    by 0x583CDE: ast_for_expr (ast.c:1968)\n",
      "==4045==    by 0x583F64: ast_for_call (ast.c:2041)\n",
      "==4045==    by 0x582E08: ast_for_trailer (ast.c:1663)\n",
      "==4045==    by 0x5835E3: ast_for_power (ast.c:1799)\n",
      "==4045==    by 0x583CDE: ast_for_expr (ast.c:1968)\n",
      "==4045==    by 0x584414: ast_for_testlist (ast.c:2131)\n",
      "==4045== \n",
      "==4045== Invalid write of size 1\n",
      "==4045==    at 0x6E4B96B: helloStrRefFromStruct (hello.cpp:17)\n",
      "==4045==    by 0x6A340CB: ffi_call_unix64 (unix64.S:76)\n",
      "==4045==    by 0x6A33AFB: ffi_call (ffi64.c:522)\n",
      "==4045==    by 0x6A2291E: _call_function_pointer (callproc.c:836)\n",
      "==4045==    by 0x6A23547: _ctypes_callproc (callproc.c:1183)\n",
      "==4045==    by 0x6A1C045: PyCFuncPtr_call (_ctypes.c:3929)\n",
      "==4045==    by 0x420D37: PyObject_Call (abstract.c:2529)\n",
      "==4045==    by 0x4D4FE9: do_call (ceval.c:4239)\n",
      "==4045==    by 0x4D439A: call_function (ceval.c:4044)\n",
      "==4045==    by 0x4CF108: PyEval_EvalFrameEx (ceval.c:2666)\n",
      "==4045==    by 0x4D1994: PyEval_EvalCodeEx (ceval.c:3253)\n",
      "==4045==    by 0x4C7B5E: PyEval_EvalCode (ceval.c:667)\n",
      "==4045==  Address 0x6122bc4 is 8 bytes after a block of size 60 alloc'd\n",
      "==4045==    at 0x4C2AB80: malloc (in /usr/lib/valgrind/vgpreload_memcheck-amd64-linux.so)\n",
      "==4045==    by 0x46DAAF: PyString_FromStringAndSize (stringobject.c:88)\n",
      "==4045==    by 0x5887C2: parsestr (ast.c:3516)\n",
      "==4045==    by 0x58884D: parsestrplus (ast.c:3534)\n",
      "==4045==    by 0x581D58: ast_for_atom (ast.c:1377)\n",
      "==4045==    by 0x583564: ast_for_power (ast.c:1790)\n",
      "==4045==    by 0x583CDE: ast_for_expr (ast.c:1968)\n",
      "==4045==    by 0x583F64: ast_for_call (ast.c:2041)\n",
      "==4045==    by 0x582E08: ast_for_trailer (ast.c:1663)\n",
      "==4045==    by 0x5835E3: ast_for_power (ast.c:1799)\n",
      "==4045==    by 0x583CDE: ast_for_expr (ast.c:1968)\n",
      "==4045==    by 0x584414: ast_for_testlist (ast.c:2131)\n",
      "==4045== \n",
      "Hello\n",
      "==4045== Invalid read of size 1\n",
      "==4045==    at 0x4C2E0F4: strlen (in /usr/lib/valgrind/vgpreload_memcheck-amd64-linux.so)\n",
      "==4045==    by 0x46DBFA: PyString_FromString (stringobject.c:121)\n",
      "==4045==    by 0x6A2B3AA: z_get (cfield.c:1380)\n",
      "==4045==    by 0x6A1902A: PyCData_get (_ctypes.c:2845)\n",
      "==4045==    by 0x6A27ADA: PyCField_get (cfield.c:228)\n",
      "==4045==    by 0x461AA5: _PyObject_GenericGetAttrWithDict (object.c:1399)\n",
      "==4045==    by 0x461F01: PyObject_GenericGetAttr (object.c:1461)\n",
      "==4045==    by 0x46136E: PyObject_GetAttr (object.c:1196)\n",
      "==4045==    by 0x4CD856: PyEval_EvalFrameEx (ceval.c:2256)\n",
      "==4045==    by 0x4D1994: PyEval_EvalCodeEx (ceval.c:3253)\n",
      "==4045==    by 0x4C7B5E: PyEval_EvalCode (ceval.c:667)\n",
      "==4045==    by 0x503F90: run_mod (pythonrun.c:1370)\n",
      "==4045==  Address 0x6122bbc is 0 bytes after a block of size 60 alloc'd\n",
      "==4045==    at 0x4C2AB80: malloc (in /usr/lib/valgrind/vgpreload_memcheck-amd64-linux.so)\n",
      "==4045==    by 0x46DAAF: PyString_FromStringAndSize (stringobject.c:88)\n",
      "==4045==    by 0x5887C2: parsestr (ast.c:3516)\n",
      "==4045==    by 0x58884D: parsestrplus (ast.c:3534)\n",
      "==4045==    by 0x581D58: ast_for_atom (ast.c:1377)\n",
      "==4045==    by 0x583564: ast_for_power (ast.c:1790)\n",
      "==4045==    by 0x583CDE: ast_for_expr (ast.c:1968)\n",
      "==4045==    by 0x583F64: ast_for_call (ast.c:2041)\n",
      "==4045==    by 0x582E08: ast_for_trailer (ast.c:1663)\n",
      "==4045==    by 0x5835E3: ast_for_power (ast.c:1799)\n",
      "==4045==    by 0x583CDE: ast_for_expr (ast.c:1968)\n",
      "==4045==    by 0x584414: ast_for_testlist (ast.c:2131)\n",
      "==4045== \n",
      "==4045== Invalid read of size 8\n",
      "==4045==    at 0x4C2F790: memcpy@@GLIBC_2.14 (in /usr/lib/valgrind/vgpreload_memcheck-amd64-linux.so)\n",
      "==4045==    by 0x46DD24: PyString_FromString (stringobject.c:149)\n",
      "==4045==    by 0x6A2B3AA: z_get (cfield.c:1380)\n",
      "==4045==    by 0x6A1902A: PyCData_get (_ctypes.c:2845)\n",
      "==4045==    by 0x6A27ADA: PyCField_get (cfield.c:228)\n",
      "==4045==    by 0x461AA5: _PyObject_GenericGetAttrWithDict (object.c:1399)\n",
      "==4045==    by 0x461F01: PyObject_GenericGetAttr (object.c:1461)\n",
      "==4045==    by 0x46136E: PyObject_GetAttr (object.c:1196)\n",
      "==4045==    by 0x4CD856: PyEval_EvalFrameEx (ceval.c:2256)\n",
      "==4045==    by 0x4D1994: PyEval_EvalCodeEx (ceval.c:3253)\n",
      "==4045==    by 0x4C7B5E: PyEval_EvalCode (ceval.c:667)\n",
      "==4045==    by 0x503F90: run_mod (pythonrun.c:1370)\n",
      "==4045==  Address 0x6122bb8 is 56 bytes inside a block of size 60 alloc'd\n",
      "==4045==    at 0x4C2AB80: malloc (in /usr/lib/valgrind/vgpreload_memcheck-amd64-linux.so)\n",
      "==4045==    by 0x46DAAF: PyString_FromStringAndSize (stringobject.c:88)\n",
      "==4045==    by 0x5887C2: parsestr (ast.c:3516)\n",
      "==4045==    by 0x58884D: parsestrplus (ast.c:3534)\n",
      "==4045==    by 0x581D58: ast_for_atom (ast.c:1377)\n",
      "==4045==    by 0x583564: ast_for_power (ast.c:1790)\n",
      "==4045==    by 0x583CDE: ast_for_expr (ast.c:1968)\n",
      "==4045==    by 0x583F64: ast_for_call (ast.c:2041)\n",
      "==4045==    by 0x582E08: ast_for_trailer (ast.c:1663)\n",
      "==4045==    by 0x5835E3: ast_for_power (ast.c:1799)\n",
      "==4045==    by 0x583CDE: ast_for_expr (ast.c:1968)\n",
      "==4045==    by 0x584414: ast_for_testlist (ast.c:2131)\n",
      "==4045== \n",
      "==4045== Invalid read of size 2\n",
      "==4045==    at 0x4C2F7E0: memcpy@@GLIBC_2.14 (in /usr/lib/valgrind/vgpreload_memcheck-amd64-linux.so)\n",
      "==4045==    by 0x46DD24: PyString_FromString (stringobject.c:149)\n",
      "==4045==    by 0x6A2B3AA: z_get (cfield.c:1380)\n",
      "==4045==    by 0x6A1902A: PyCData_get (_ctypes.c:2845)\n",
      "==4045==    by 0x6A27ADA: PyCField_get (cfield.c:228)\n",
      "==4045==    by 0x461AA5: _PyObject_GenericGetAttrWithDict (object.c:1399)\n",
      "==4045==    by 0x461F01: PyObject_GenericGetAttr (object.c:1461)\n",
      "==4045==    by 0x46136E: PyObject_GetAttr (object.c:1196)\n",
      "==4045==    by 0x4CD856: PyEval_EvalFrameEx (ceval.c:2256)\n",
      "==4045==    by 0x4D1994: PyEval_EvalCodeEx (ceval.c:3253)\n",
      "==4045==    by 0x4C7B5E: PyEval_EvalCode (ceval.c:667)\n",
      "==4045==    by 0x503F90: run_mod (pythonrun.c:1370)\n",
      "==4045==  Address 0x6122bc0 is 4 bytes after a block of size 60 alloc'd\n",
      "==4045==    at 0x4C2AB80: malloc (in /usr/lib/valgrind/vgpreload_memcheck-amd64-linux.so)\n",
      "==4045==    by 0x46DAAF: PyString_FromStringAndSize (stringobject.c:88)\n",
      "==4045==    by 0x5887C2: parsestr (ast.c:3516)\n",
      "==4045==    by 0x58884D: parsestrplus (ast.c:3534)\n",
      "==4045==    by 0x581D58: ast_for_atom (ast.c:1377)\n",
      "==4045==    by 0x583564: ast_for_power (ast.c:1790)\n",
      "==4045==    by 0x583CDE: ast_for_expr (ast.c:1968)\n",
      "==4045==    by 0x583F64: ast_for_call (ast.c:2041)\n",
      "==4045==    by 0x582E08: ast_for_trailer (ast.c:1663)\n",
      "==4045==    by 0x5835E3: ast_for_power (ast.c:1799)\n",
      "==4045==    by 0x583CDE: ast_for_expr (ast.c:1968)\n",
      "==4045==    by 0x584414: ast_for_testlist (ast.c:2131)\n",
      "==4045== \n",
      "==4045== Invalid read of size 1\n",
      "==4045==    at 0x4C2F950: memcpy@@GLIBC_2.14 (in /usr/lib/valgrind/vgpreload_memcheck-amd64-linux.so)\n",
      "==4045==    by 0x46DD24: PyString_FromString (stringobject.c:149)\n",
      "==4045==    by 0x6A2B3AA: z_get (cfield.c:1380)\n",
      "==4045==    by 0x6A1902A: PyCData_get (_ctypes.c:2845)\n",
      "==4045==    by 0x6A27ADA: PyCField_get (cfield.c:228)\n",
      "==4045==    by 0x461AA5: _PyObject_GenericGetAttrWithDict (object.c:1399)\n",
      "==4045==    by 0x461F01: PyObject_GenericGetAttr (object.c:1461)\n",
      "==4045==    by 0x46136E: PyObject_GetAttr (object.c:1196)\n",
      "==4045==    by 0x4CD856: PyEval_EvalFrameEx (ceval.c:2256)\n",
      "==4045==    by 0x4D1994: PyEval_EvalCodeEx (ceval.c:3253)\n",
      "==4045==    by 0x4C7B5E: PyEval_EvalCode (ceval.c:667)\n",
      "==4045==    by 0x503F90: run_mod (pythonrun.c:1370)\n",
      "==4045==  Address 0x6122bc4 is 8 bytes after a block of size 60 alloc'd\n",
      "==4045==    at 0x4C2AB80: malloc (in /usr/lib/valgrind/vgpreload_memcheck-amd64-linux.so)\n",
      "==4045==    by 0x46DAAF: PyString_FromStringAndSize (stringobject.c:88)\n",
      "==4045==    by 0x5887C2: parsestr (ast.c:3516)\n",
      "==4045==    by 0x58884D: parsestrplus (ast.c:3534)\n",
      "==4045==    by 0x581D58: ast_for_atom (ast.c:1377)\n",
      "==4045==    by 0x583564: ast_for_power (ast.c:1790)\n",
      "==4045==    by 0x583CDE: ast_for_expr (ast.c:1968)\n",
      "==4045==    by 0x583F64: ast_for_call (ast.c:2041)\n",
      "==4045==    by 0x582E08: ast_for_trailer (ast.c:1663)\n",
      "==4045==    by 0x5835E3: ast_for_power (ast.c:1799)\n",
      "==4045==    by 0x583CDE: ast_for_expr (ast.c:1968)\n",
      "==4045==    by 0x584414: ast_for_testlist (ast.c:2131)\n",
      "==4045== \n",
      "Alohsadfgadfgaa\n",
      "\n",
      "18\n",
      "[21262 refs]\n",
      "==4045== \n",
      "==4045== HEAP SUMMARY:\n",
      "==4045==     in use at exit: 1,155,694 bytes in 6,309 blocks\n",
      "==4045==   total heap usage: 27,633 allocs, 21,324 frees, 5,409,668 bytes allocated\n",
      "==4045== \n",
      "==4045== LEAK SUMMARY:\n",
      "==4045==    definitely lost: 4 bytes in 1 blocks\n",
      "==4045==    indirectly lost: 0 bytes in 0 blocks\n",
      "==4045==      possibly lost: 306,898 bytes in 1,069 blocks\n",
      "==4045==    still reachable: 848,792 bytes in 5,239 blocks\n",
      "==4045==         suppressed: 0 bytes in 0 blocks\n",
      "==4045== Rerun with --leak-check=full to see details of leaked memory\n",
      "==4045== \n",
      "==4045== For counts of detected and suppressed errors, rerun with: -v\n",
      "==4045== ERROR SUMMARY: 15 errors from 6 contexts (suppressed: 0 from 0)\n"
     ]
    }
   ],
   "source": [
    "!valgrind /home/ashaver/valpython/bin/python2.7 hello_wrapper.py"
   ]
  },
  {
   "cell_type": "code",
   "execution_count": null,
   "metadata": {
    "collapsed": false,
    "scrolled": true
   },
   "outputs": [],
   "source": [
    "!valgrind --leak-check=full  --suppressions=/home/ashaver/python2.7-2.7.6/Misc/valgrind-python.supp  /home/ashaver/valpython/bin/python2.7 hello_wrapper.py"
   ]
  },
  {
   "cell_type": "code",
   "execution_count": null,
   "metadata": {
    "collapsed": true,
    "scrolled": true
   },
   "outputs": [],
   "source": []
  }
 ],
 "metadata": {
  "kernelspec": {
   "display_name": "Python 2",
   "language": "python",
   "name": "python2"
  },
  "language_info": {
   "codemirror_mode": {
    "name": "ipython",
    "version": 2
   },
   "file_extension": ".py",
   "mimetype": "text/x-python",
   "name": "python",
   "nbconvert_exporter": "python",
   "pygments_lexer": "ipython2",
   "version": "2.7.10"
  }
 },
 "nbformat": 4,
 "nbformat_minor": 0
}
