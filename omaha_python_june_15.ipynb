{
 "cells": [
  {
   "cell_type": "markdown",
   "metadata": {},
   "source": [
    "* Anaconda\n",
    "  * Out of the box modules\n",
    "  * Environments\n",
    "  * Spyder\n",
    "* Juypter Project\n",
    "  * Formerly IPython Notebooks\n",
    "  * Better support for non python kernels\n",
    "  * Navigation\n",
    "  * Tips and tricks\n",
    "* Blaze\n",
    "  * Data transfer\n",
    "  * Querying\n",
    "* Pandas\n",
    "  * Series\n",
    "  * DataFrame\n",
    "  * Input functions\n",
    "  * Boolean Indexing\n",
    "  * Groupby and Pivot\n",
    "  * Merge\n",
    "  * Map and Apply\n",
    "* Bokeh\n",
    "  * Interactive data visualizations\n",
    "  * Python -> Javascript"
   ]
  }
 ],
 "metadata": {
  "kernelspec": {
   "display_name": "Python 3",
   "language": "python",
   "name": "python3"
  },
  "language_info": {
   "codemirror_mode": {
    "name": "ipython",
    "version": 3
   },
   "file_extension": ".py",
   "mimetype": "text/x-python",
   "name": "python",
   "nbconvert_exporter": "python",
   "pygments_lexer": "ipython3",
   "version": "3.4.3"
  }
 },
 "nbformat": 4,
 "nbformat_minor": 0
}
