{
 "cells": [
  {
   "cell_type": "markdown",
   "metadata": {},
   "source": [
    "* Anaconda\n",
    "  * Out of the box modules\n",
    "  * Environments\n",
    "  * Spyder\n",
    "* Jupyter Project\n",
    "  * Formerly IPython Notebooks\n",
    "  * Better support for non python kernels\n",
    "  * Navigation\n",
    "  * Tips and tricks\n",
    "* Pandas\n",
    "  * Series\n",
    "  * DataFrame\n",
    "  * Input functions\n",
    "  * Boolean Indexing\n",
    "  * Groupby and Pivot\n",
    "  * Merge\n",
    "  * Map and Apply\n",
    "* Bokeh\n",
    "  * Interactive data visualizations\n",
    "  * Python -> Javascript\n",
    "* Blaze\n",
    "  * Data transfer\n",
    "  * Querying"
   ]
  },
  {
   "cell_type": "code",
   "execution_count": null,
   "metadata": {
    "collapsed": false
   },
   "outputs": [],
   "source": [
    "import os\n",
    "from IPython.display import FileLink, display, HTML\n",
    "from IPython.lib.display import YouTubeVideo\n",
    "from IPython.core.display import Image"
   ]
  },
  {
   "cell_type": "markdown",
   "metadata": {},
   "source": [
    "# Jupyter Project"
   ]
  },
  {
   "cell_type": "markdown",
   "metadata": {},
   "source": [
    "* Markdown\n",
    "    * bullets"
   ]
  },
  {
   "cell_type": "code",
   "execution_count": null,
   "metadata": {
    "collapsed": false
   },
   "outputs": [],
   "source": [
    "#running cells (ctrl-enter and shift-enter)\n",
    "print (os.path)"
   ]
  },
  {
   "cell_type": "code",
   "execution_count": null,
   "metadata": {
    "collapsed": false
   },
   "outputs": [],
   "source": [
    "#output\n",
    "os.path "
   ]
  },
  {
   "cell_type": "code",
   "execution_count": null,
   "metadata": {
    "collapsed": false
   },
   "outputs": [],
   "source": [
    "#code completion\n",
    "HTML(\"hello.txt\")"
   ]
  },
  {
   "cell_type": "code",
   "execution_count": null,
   "metadata": {
    "collapsed": false,
    "scrolled": true
   },
   "outputs": [],
   "source": [
    "#displaying a video\n",
    "YouTubeVideo(\"dQw4w9WgXcQ\",width=600, height=400,start=43,autoplay=True)"
   ]
  },
  {
   "cell_type": "code",
   "execution_count": null,
   "metadata": {
    "collapsed": false
   },
   "outputs": [],
   "source": [
    "#displaying an image\n",
    "Image(\"rr.jpg\")"
   ]
  },
  {
   "cell_type": "code",
   "execution_count": null,
   "metadata": {
    "collapsed": false
   },
   "outputs": [],
   "source": [
    "#bash commands\n",
    "! ls"
   ]
  },
  {
   "cell_type": "code",
   "execution_count": null,
   "metadata": {
    "collapsed": false
   },
   "outputs": [],
   "source": [
    "#magic functions\n",
    "% timeit range(1000) #and so many more"
   ]
  },
  {
   "cell_type": "code",
   "execution_count": null,
   "metadata": {
    "collapsed": false
   },
   "outputs": [],
   "source": [
    "#open web pages\n",
    "url=\"https://github.com/ipython/ipython/wiki/IPython-kernels-for-other-languages\"\n",
    "HTML(url)"
   ]
  },
  {
   "cell_type": "markdown",
   "metadata": {},
   "source": [
    "### Misc Navigation"
   ]
  },
  {
   "cell_type": "markdown",
   "metadata": {},
   "source": [
    "# Pandas\n",
    "\n",
    "* Inspired by dataframes in R \n",
    "* Built on numpy\n",
    "* In memory\n",
    "* Active development\n"
   ]
  },
  {
   "cell_type": "markdown",
   "metadata": {},
   "source": [
    "### Why\n",
    "* Data scrubbing and formatting through the power of python\n",
    "* Data aggregation\n",
    "* Data visualization thru matplotlib, seaborn, bokeh, etc\n",
    "* Hooks to machine learning and other modules\n",
    "* Combined with Jupyter, allows you to build a forgiving and dynamic workflow  "
   ]
  },
  {
   "cell_type": "code",
   "execution_count": null,
   "metadata": {
    "collapsed": true
   },
   "outputs": [],
   "source": [
    "import pandas as pd"
   ]
  },
  {
   "cell_type": "code",
   "execution_count": null,
   "metadata": {
    "collapsed": true
   },
   "outputs": [],
   "source": [
    "#reading in a csv file\n",
    "df = pd.read_csv(\"bike_data_sub.csv\",parse_dates=[\"start_date\",\"end_date\"])"
   ]
  },
  {
   "cell_type": "code",
   "execution_count": null,
   "metadata": {
    "collapsed": false
   },
   "outputs": [],
   "source": [
    "#Series and DataFrames\n",
    "df.head(5)"
   ]
  },
  {
   "cell_type": "code",
   "execution_count": null,
   "metadata": {
    "collapsed": false
   },
   "outputs": [],
   "source": [
    "#rename columns post import\n",
    "d = {\"start_date\" : \"start_date_time\", \"end_date\" : \"end_date_time\"}\n",
    "df.rename(columns=d, inplace = True)\n",
    "df.head()"
   ]
  },
  {
   "cell_type": "code",
   "execution_count": null,
   "metadata": {
    "collapsed": false
   },
   "outputs": [],
   "source": [
    "#basic stats for every numeric value in your dataframe.  Whether you want it or not :-)\n",
    "df.describe()"
   ]
  },
  {
   "cell_type": "code",
   "execution_count": null,
   "metadata": {
    "collapsed": false
   },
   "outputs": [],
   "source": [
    "#even more stuff\n",
    "df.info()"
   ]
  },
  {
   "cell_type": "code",
   "execution_count": null,
   "metadata": {
    "collapsed": false
   },
   "outputs": [],
   "source": [
    "#filtering\n",
    "filter = (df['start_station'] == 'San Jose City Hall')\n",
    "df[filter].head()"
   ]
  },
  {
   "cell_type": "code",
   "execution_count": null,
   "metadata": {
    "collapsed": false
   },
   "outputs": [],
   "source": [
    "#groupby and sorting\n",
    "#df[['Bike #','Duration']].groupby('Bike #').count().sort('Duration',ascending=False).head()\n",
    "df[['bike_num','duration']].groupby('bike_num').agg({'duration':['mean','sum']}).sort([('duration','sum')]).head()"
   ]
  },
  {
   "cell_type": "code",
   "execution_count": null,
   "metadata": {
    "collapsed": false
   },
   "outputs": [],
   "source": [
    "pd.pivot_table(df,'duration','subscription_type','start_station',aggfunc=len,fill_value=0)"
   ]
  },
  {
   "cell_type": "code",
   "execution_count": null,
   "metadata": {
    "collapsed": false
   },
   "outputs": [],
   "source": [
    "dfLatLongs = pd.read_csv(\"latlongs.csv\")\n",
    "dfLatLongs.head()"
   ]
  },
  {
   "cell_type": "code",
   "execution_count": null,
   "metadata": {
    "collapsed": false
   },
   "outputs": [],
   "source": [
    "#merging\n",
    "df = pd.merge(df,dfLatLongs,left_on=\"start_terminal\",right_on=\"terminal\", how=\"left\")\n",
    "df.head()"
   ]
  },
  {
   "cell_type": "markdown",
   "metadata": {},
   "source": [
    "###Functional aspect of Pandas"
   ]
  },
  {
   "cell_type": "code",
   "execution_count": null,
   "metadata": {
    "collapsed": true
   },
   "outputs": [],
   "source": [
    "#plain old function\n",
    "def getDate(x):\n",
    "    return x.date()"
   ]
  },
  {
   "cell_type": "code",
   "execution_count": null,
   "metadata": {
    "collapsed": false
   },
   "outputs": [],
   "source": [
    "#creating a new column and updating it to the date of a datetime.  WITHOUT a for loop\n",
    "df[\"start_date\"] = df[\"start_date_time\"].apply(getDate)\n",
    "df[[\"start_date_time\",\"start_date\"]].head()"
   ]
  },
  {
   "cell_type": "code",
   "execution_count": null,
   "metadata": {
    "collapsed": false
   },
   "outputs": [],
   "source": [
    "#Return the day of the week as an integer, where Monday is 0 and Sunday is 6.\n",
    "df[\"start_dow\"] = df[\"start_date_time\"].apply(lambda x : x.weekday())\n",
    "df[[\"start_date_time\",\"start_dow\"]].head()"
   ]
  },
  {
   "cell_type": "code",
   "execution_count": null,
   "metadata": {
    "collapsed": false
   },
   "outputs": [],
   "source": [
    "#dict keys = integers representing days and values = days of the week\n",
    "d = {0 : 'Monday', 1 : 'Tuesday', 2 : 'Wednesday', 3 : 'Thursday', 4 : 'Friday',  5 : 'Saturday', 6 : 'Sunday'}\n",
    "d"
   ]
  },
  {
   "cell_type": "code",
   "execution_count": null,
   "metadata": {
    "collapsed": false
   },
   "outputs": [],
   "source": [
    "#map the values to our dataframe\n",
    "df['start_dow_name'] = df['start_dow'].map(d)\n",
    "df[[\"start_dow\",\"start_dow_name\"]].head()"
   ]
  },
  {
   "cell_type": "markdown",
   "metadata": {},
   "source": [
    "## What didn't we cover\n",
    "* Indexes\n",
    "* Time Series\n",
    "* In addition read_csv() there are many other ways to get data in (and out)\n",
    "* In addition to pivot_table() check out other reshaping methods\n",
    "* In addtion to merge check out join and concat\n",
    "* Panels (multiple related dataframes)"
   ]
  },
  {
   "cell_type": "markdown",
   "metadata": {},
   "source": [
    "## Pandas Resoures\n",
    "###Using SQL as a comparison\n",
    "http://www.gregreda.com/2013/10/26/intro-to-pandas-data-structures/\n",
    "\n",
    "http://www.gregreda.com/2013/10/26/working-with-pandas-dataframes/\n",
    "\n",
    "http://www.gregreda.com/2013/10/26/using-pandas-on-the-movielens-dataset/\n",
    "\n",
    "###Videos\n",
    "https://www.youtube.com/watch?v=MxRMXhjXZos\n",
    "\n",
    "https://www.youtube.com/watch?v=w26x-z-BdWQ\n",
    "\n",
    "https://www.youtube.com/watch?v=rEalbu8UGeo\n",
    "\n",
    "###Books\n",
    "http://www.amazon.com/Python-Data-Analysis-Wrangling-IPython/dp/1449319793/ref=sr_1_1?ie=UTF8&qid=1414785088&sr=8-1&keywords=python+for+data+analysis\n"
   ]
  },
  {
   "cell_type": "markdown",
   "metadata": {},
   "source": [
    "## Bokeh"
   ]
  },
  {
   "cell_type": "code",
   "execution_count": null,
   "metadata": {
    "collapsed": false
   },
   "outputs": [],
   "source": [
    "%matplotlib inline\n",
    "import matplotlib.pyplot as plt\n",
    "from bokeh.charts import Bar, Line, TimeSeries \n",
    "from bokeh.plotting import show, output_notebook, figure, output_file, ColumnDataSource\n",
    "from bokeh.models import Text, Rect, Triangle, Circle, HoverTool, Plot, Range1d\n",
    "output_notebook()"
   ]
  },
  {
   "cell_type": "code",
   "execution_count": null,
   "metadata": {
    "collapsed": true
   },
   "outputs": [],
   "source": [
    "#housekeeping\n",
    "d = {\"lat\" : \"start_lat\", \"long\" : \"start_long\"}\n",
    "df.rename(columns=d, inplace = True)"
   ]
  },
  {
   "cell_type": "code",
   "execution_count": null,
   "metadata": {
    "collapsed": false
   },
   "outputs": [],
   "source": [
    "dow = df[[\"start_dow_name\",\"duration\"]].groupby(\"start_dow_name\").count()"
   ]
  },
  {
   "cell_type": "code",
   "execution_count": null,
   "metadata": {
    "collapsed": false
   },
   "outputs": [],
   "source": [
    "#pandas integration with matplotlib is pretty good\n",
    "dow.plot(kind=\"bar\");"
   ]
  },
  {
   "cell_type": "code",
   "execution_count": null,
   "metadata": {
    "collapsed": false
   },
   "outputs": [],
   "source": [
    "#basic bokeh plot\n",
    "p = Bar(dow)\n",
    "show(p)"
   ]
  },
  {
   "cell_type": "code",
   "execution_count": null,
   "metadata": {
    "collapsed": false
   },
   "outputs": [],
   "source": [
    "#prepping some data by grouping and cutting\n",
    "grp = df[[\"start_terminal\",\"start_station\",\"trip_id\",\"start_long\",\"start_lat\"]].groupby([\"start_terminal\",\"start_station\",\"start_long\",\"start_lat\"]).count().reset_index()\n",
    "grp[\"cuts\"] = pd.cut(grp.trip_id,4,labels=[10,20,30,40]).astype(\"int\")\n",
    "grp.head()"
   ]
  },
  {
   "cell_type": "code",
   "execution_count": null,
   "metadata": {
    "collapsed": false
   },
   "outputs": [],
   "source": [
    "TOOLS='box_zoom,pan,box_select,crosshair,resize,reset,hover'\n",
    "\n",
    "p = figure(plot_width=800, plot_height=600, title=None, tools=TOOLS)\n",
    "\n",
    "#output_file(\"bike.html\")\n",
    "\n",
    "source = ColumnDataSource(data=dict(x=grp[\"start_long\"],y=grp[\"start_lat\"],id=grp[\"start_terminal\"],\n",
    "                                    name=grp[\"start_station\"],trips=grp[\"trip_id\"]))\n",
    "\n",
    "p.circle(grp[\"start_long\"], grp[\"start_lat\"],size=grp[\"cuts\"] + 20, color=\"blue\", source=source)\n",
    "hover = p.select(dict(type=HoverTool))\n",
    "hover.tooltips = [(\"(x,y)\", \"($x, $y)\"),(\"id\", \"@id\"),(\"name\", \"@name\"),(\"trips\", \"@trips\")]\n",
    "\n",
    "show(p)"
   ]
  },
  {
   "cell_type": "markdown",
   "metadata": {},
   "source": [
    "###bokeh gallery\n",
    "http://bokeh.pydata.org/en/latest/docs/user_guide/interaction.html\n",
    "\n",
    "http://bokeh.pydata.org/en/latest/docs/gallery.html#static-examples"
   ]
  },
  {
   "cell_type": "markdown",
   "metadata": {},
   "source": [
    "## Bokeh Resources\n",
    "\n",
    "http://bokeh.pydata.org/en/latest/\n",
    "\n",
    "https://www.youtube.com/watch?v=O5OvOLK-xqQ\n",
    "\n",
    "https://www.youtube.com/watch?v=S11GfFlQgtw\n"
   ]
  },
  {
   "cell_type": "markdown",
   "metadata": {},
   "source": [
    "## Blaze"
   ]
  },
  {
   "cell_type": "markdown",
   "metadata": {},
   "source": [
    "http://blaze.pydata.org/en/latest/_static/presentations/blaze.html#/0/4"
   ]
  },
  {
   "cell_type": "code",
   "execution_count": null,
   "metadata": {
    "collapsed": true
   },
   "outputs": [],
   "source": [
    "import blaze as bz"
   ]
  },
  {
   "cell_type": "code",
   "execution_count": null,
   "metadata": {
    "collapsed": false
   },
   "outputs": [],
   "source": [
    "#loading a csv into a postgres table using the postgres Copy command \n",
    "bz.into(\"postgresql:///bike_data::bike_trips\",\"bike_data_sub_no_headers.csv\")"
   ]
  },
  {
   "cell_type": "code",
   "execution_count": null,
   "metadata": {
    "collapsed": false
   },
   "outputs": [],
   "source": [
    "#doing a \"groupby\" using the postgres engine\n",
    "bike_db = bz.Data('postgresql:///bike_data')\n",
    "bz.by(bike_db.bike_trips.start_terminal, count=bike_db.bike_trips.trip_id.count())"
   ]
  },
  {
   "cell_type": "code",
   "execution_count": null,
   "metadata": {
    "collapsed": false
   },
   "outputs": [],
   "source": [
    "#whats happening behind the scenes\n",
    "print (bz.compute(bz.by(bike_db.bike_trips.start_terminal, \n",
    "                        count=bike_db.bike_trips.trip_id.count())))"
   ]
  },
  {
   "cell_type": "code",
   "execution_count": null,
   "metadata": {
    "collapsed": false
   },
   "outputs": [],
   "source": [
    "#and with a csv file\n",
    "bike_csv = bz.Data(\"bike_data_sub.csv\")\n",
    "bz.by(bike_csv.start_terminal, count=bike_csv.trip_id.count())"
   ]
  },
  {
   "cell_type": "code",
   "execution_count": null,
   "metadata": {
    "collapsed": false
   },
   "outputs": [],
   "source": [
    "#and with a pandas dataframe\n",
    "bdf = bz.Data(df)\n",
    "bz.by(bdf.start_terminal,count=bdf.trip_id.count())"
   ]
  },
  {
   "cell_type": "markdown",
   "metadata": {},
   "source": [
    "##Blaze Resources\n",
    "\n",
    "https://www.youtube.com/watch?v=x0svOPW6DdE\n",
    "\n",
    "http://blaze.pydata.org/en/latest/"
   ]
  }
 ],
 "metadata": {
  "kernelspec": {
   "display_name": "Python 3",
   "language": "python",
   "name": "python3"
  },
  "language_info": {
   "codemirror_mode": {
    "name": "ipython",
    "version": 3
   },
   "file_extension": ".py",
   "mimetype": "text/x-python",
   "name": "python",
   "nbconvert_exporter": "python",
   "pygments_lexer": "ipython3",
   "version": "3.4.3"
  }
 },
 "nbformat": 4,
 "nbformat_minor": 0
}
