{
 "cells": [
  {
   "cell_type": "markdown",
   "metadata": {},
   "source": [
    "#Github Repo\n",
    "https://github.com/bobhaffner/omaha_python_june_15"
   ]
  },
  {
   "cell_type": "markdown",
   "metadata": {},
   "source": [
    "#Anaconda\n",
    "  * Out of the box modules\n",
    "  * Environments\n",
    "  * Spyder\n"
   ]
  },
  {
   "cell_type": "markdown",
   "metadata": {},
   "source": [
    "# Jupyter Project"
   ]
  },
  {
   "cell_type": "code",
   "execution_count": null,
   "metadata": {
    "collapsed": false
   },
   "outputs": [],
   "source": [
    "import os\n",
    "from IPython.display import FileLink, display, HTML\n",
    "from IPython.lib.display import YouTubeVideo\n",
    "from IPython.core.display import Image"
   ]
  },
  {
   "cell_type": "markdown",
   "metadata": {},
   "source": [
    "#Markdown cells are nice to have\n",
    "* Bullet\n",
    "    * Sub bullet"
   ]
  },
  {
   "cell_type": "code",
   "execution_count": null,
   "metadata": {
    "collapsed": false
   },
   "outputs": [],
   "source": [
    "#running cells (ctrl-enter and shift-enter)\n",
    "print (os.path)"
   ]
  },
  {
   "cell_type": "code",
   "execution_count": null,
   "metadata": {
    "collapsed": false
   },
   "outputs": [],
   "source": [
    "#output\n",
    "os.path "
   ]
  },
  {
   "cell_type": "code",
   "execution_count": null,
   "metadata": {
    "collapsed": false
   },
   "outputs": [],
   "source": [
    "#code completion\n",
    "HTML(\"hello.txt\")"
   ]
  },
  {
   "cell_type": "code",
   "execution_count": null,
   "metadata": {
    "collapsed": false,
    "scrolled": true
   },
   "outputs": [],
   "source": [
    "#displaying a video\n",
    "YouTubeVideo(\"dQw4w9WgXcQ\",width=600, height=400,start=43,autoplay=True)"
   ]
  },
  {
   "cell_type": "code",
   "execution_count": null,
   "metadata": {
    "collapsed": false
   },
   "outputs": [],
   "source": [
    "#displaying an image\n",
    "Image(\"rr.jpg\")"
   ]
  },
  {
   "cell_type": "code",
   "execution_count": null,
   "metadata": {
    "collapsed": false
   },
   "outputs": [],
   "source": [
    "#bash commands\n",
    "! ls"
   ]
  },
  {
   "cell_type": "code",
   "execution_count": null,
   "metadata": {
    "collapsed": false
   },
   "outputs": [],
   "source": [
    "#magic functions\n",
    "% timeit range(1000) #and so many more"
   ]
  },
  {
   "cell_type": "code",
   "execution_count": null,
   "metadata": {
    "collapsed": false
   },
   "outputs": [],
   "source": [
    "#open web pages.  the reason for the name change\n",
    "url=\"https://github.com/ipython/ipython/wiki/IPython-kernels-for-other-languages\"\n",
    "HTML(url)"
   ]
  },
  {
   "cell_type": "markdown",
   "metadata": {},
   "source": [
    "### Misc Navigation\n",
    "* File\n",
    "    * Save and Checkpoint\n",
    "    * Close and Halt\n",
    "* Edit\n",
    "    * Cut\n",
    "    * Merge\n",
    "* Insert\n",
    "    * Insert Cell Above - Control then a\n",
    "    * Insert Cell Below - Control then b\n",
    "* Cell\n",
    "    * Run - Control-Enter\n",
    "    * Run and Select Below - Shift-Enter\n",
    "* Kernel\n",
    "    * Interrupt aka Ctrl-C\n",
    "    * Restart\n",
    "* Help\n",
    "    * Keyboard Shortcuts"
   ]
  },
  {
   "cell_type": "markdown",
   "metadata": {},
   "source": [
    "# Pandas\n",
    "\n",
    "* Inspired by dataframes in R \n",
    "* Built on the popular numpy\n",
    "* In memory\n",
    "* Under active development\n"
   ]
  },
  {
   "cell_type": "markdown",
   "metadata": {},
   "source": [
    "### Why\n",
    "* Data scrubbing and formatting through the power of python\n",
    "* Data exploration\n",
    "* Hooks to data visualization\n",
    "* Hooks to machine learning and other modules\n",
    "* Combined with Jupyter, allows you to build a forgiving and dynamic workflow\n",
    "* If you want to do work with data and python, I would highly recommend learning pandas"
   ]
  },
  {
   "cell_type": "code",
   "execution_count": null,
   "metadata": {
    "collapsed": true
   },
   "outputs": [],
   "source": [
    "import pandas as pd"
   ]
  },
  {
   "cell_type": "code",
   "execution_count": null,
   "metadata": {
    "collapsed": true
   },
   "outputs": [],
   "source": [
    "#reading in a csv file. One of many ways to read in data\n",
    "df = pd.read_csv(\"bike_data_sub.csv\",parse_dates=[\"start_date\",\"end_date\"])"
   ]
  },
  {
   "cell_type": "code",
   "execution_count": null,
   "metadata": {
    "collapsed": false
   },
   "outputs": [],
   "source": [
    "#data\n",
    "df #head shows the top 5 by default.  There's also a tail()"
   ]
  },
  {
   "cell_type": "code",
   "execution_count": null,
   "metadata": {
    "collapsed": false
   },
   "outputs": [],
   "source": [
    "#Series and DataFrames\n",
    "type(df.trip_id), type(df)"
   ]
  },
  {
   "cell_type": "code",
   "execution_count": null,
   "metadata": {
    "collapsed": false
   },
   "outputs": [],
   "source": [
    "#The dates in the file are really datetimes so we rename columns post import\n",
    "d = {\"start_date\" : \"start_date_time\", \"end_date\" : \"end_date_time\"}\n",
    "df.rename(columns=d, inplace = True)\n",
    "df.head()"
   ]
  },
  {
   "cell_type": "code",
   "execution_count": null,
   "metadata": {
    "collapsed": false
   },
   "outputs": [],
   "source": [
    "#basic stats for every numeric value in your dataframe.  Whether you want it or not :-)\n",
    "df.describe()"
   ]
  },
  {
   "cell_type": "code",
   "execution_count": null,
   "metadata": {
    "collapsed": false
   },
   "outputs": [],
   "source": [
    "#even more stuff\n",
    "df.info()"
   ]
  },
  {
   "cell_type": "code",
   "execution_count": null,
   "metadata": {
    "collapsed": false
   },
   "outputs": [],
   "source": [
    "#doing some math\n",
    "df[\"double_duration\"] = df[\"duration\"] * 2\n",
    "df[[\"duration\",\"double_duration\"]].head()"
   ]
  },
  {
   "cell_type": "code",
   "execution_count": null,
   "metadata": {
    "collapsed": false
   },
   "outputs": [],
   "source": [
    "(df['start_station'] == 'San Jose City Hall')"
   ]
  },
  {
   "cell_type": "code",
   "execution_count": null,
   "metadata": {
    "collapsed": false
   },
   "outputs": [],
   "source": [
    "#filtering by way boolean indexing\n",
    "filter = (df['start_station'] == 'San Jose City Hall')\n",
    "df[filter].head(5)"
   ]
  },
  {
   "cell_type": "code",
   "execution_count": null,
   "metadata": {
    "collapsed": false
   },
   "outputs": [],
   "source": [
    "#groupby and sorting\n",
    "df[['start_station','trip_id']].groupby('start_station').count().sort(\n",
    "                                'trip_id',ascending=False).head()"
   ]
  },
  {
   "cell_type": "code",
   "execution_count": null,
   "metadata": {
    "collapsed": false
   },
   "outputs": [],
   "source": [
    "pd.pivot_table(df,'duration','subscription_type','start_station',aggfunc=len,fill_value=0)"
   ]
  },
  {
   "cell_type": "code",
   "execution_count": null,
   "metadata": {
    "collapsed": false
   },
   "outputs": [],
   "source": [
    "dfLatLongs = pd.read_csv(\"latlongs.csv\")\n",
    "dfLatLongs.head()"
   ]
  },
  {
   "cell_type": "code",
   "execution_count": null,
   "metadata": {
    "collapsed": false
   },
   "outputs": [],
   "source": [
    "#merging\n",
    "df = pd.merge(df,dfLatLongs,left_on=\"start_terminal\",right_on=\"terminal\", how=\"left\")\n",
    "df.head()"
   ]
  },
  {
   "cell_type": "markdown",
   "metadata": {},
   "source": [
    "###Functional aspect of Pandas"
   ]
  },
  {
   "cell_type": "code",
   "execution_count": null,
   "metadata": {
    "collapsed": true
   },
   "outputs": [],
   "source": [
    "#plain old function\n",
    "def getDate(x):\n",
    "    return x.date()"
   ]
  },
  {
   "cell_type": "code",
   "execution_count": null,
   "metadata": {
    "collapsed": false
   },
   "outputs": [],
   "source": [
    "#creating a new column and updating it to the date of a datetime.  WITHOUT a for loop\n",
    "df[\"start_date\"] = df[\"start_date_time\"].apply(getDate)\n",
    "df[[\"start_date_time\",\"start_date\"]].head()"
   ]
  },
  {
   "cell_type": "code",
   "execution_count": null,
   "metadata": {
    "collapsed": false
   },
   "outputs": [],
   "source": [
    "#Getting the day of the week as an integer using a Lambda\n",
    "df[\"start_dow\"] = df[\"start_date_time\"].apply(lambda x : x.weekday())\n",
    "df[[\"start_date_time\",\"start_dow\"]].head()"
   ]
  },
  {
   "cell_type": "code",
   "execution_count": null,
   "metadata": {
    "collapsed": false
   },
   "outputs": [],
   "source": [
    "#dict keys = integers representing days and values = days of the week\n",
    "d = {0 : 'Monday', 1 : 'Tuesday', 2 : 'Wednesday', 3 : 'Thursday', 4 : 'Friday',  5 : 'Saturday', 6 : 'Sunday'}\n",
    "d"
   ]
  },
  {
   "cell_type": "code",
   "execution_count": null,
   "metadata": {
    "collapsed": false
   },
   "outputs": [],
   "source": [
    "#map the values to our dataframe\n",
    "df['start_dow_name'] = df['start_dow'].map(d)\n",
    "df[[\"start_dow\",\"start_dow_name\"]].head()"
   ]
  },
  {
   "cell_type": "markdown",
   "metadata": {},
   "source": [
    "## What didn't we cover\n",
    "* Indexes\n",
    "* Time Series\n",
    "* In addition read_csv() there are many other ways to get data in (and out)\n",
    "* In addition to pivot_table() check out other reshaping methods\n",
    "* In addtion to merge check out join and concat\n",
    "* Panels (multiple related dataframes)\n",
    "* And a ton of other things"
   ]
  },
  {
   "cell_type": "markdown",
   "metadata": {},
   "source": [
    "##Resoures\n",
    "###Using SQL as a comparison\n",
    "http://www.gregreda.com/2013/10/26/intro-to-pandas-data-structures/\n",
    "\n",
    "http://www.gregreda.com/2013/10/26/working-with-pandas-dataframes/\n",
    "\n",
    "http://www.gregreda.com/2013/10/26/using-pandas-on-the-movielens-dataset/\n",
    "\n",
    "###Videos\n",
    "https://www.youtube.com/watch?v=MxRMXhjXZos\n",
    "\n",
    "https://www.youtube.com/watch?v=w26x-z-BdWQ\n",
    "\n",
    "https://www.youtube.com/watch?v=rEalbu8UGeo\n",
    "\n",
    "###Books\n",
    "http://www.amazon.com/Python-Data-Analysis-Wrangling-IPython/dp/1449319793/ref=sr_1_1?ie=UTF8&qid=1414785088&sr=8-1&keywords=python+for+data+analysis\n"
   ]
  },
  {
   "cell_type": "markdown",
   "metadata": {},
   "source": [
    "## Bokeh\n",
    "###They wrote javascript so you don't have to"
   ]
  },
  {
   "cell_type": "code",
   "execution_count": null,
   "metadata": {
    "collapsed": false
   },
   "outputs": [],
   "source": [
    "%matplotlib inline\n",
    "import matplotlib.pyplot as plt\n",
    "from bokeh.charts import Bar, Line, TimeSeries \n",
    "from bokeh.plotting import show, output_notebook, figure, output_file, ColumnDataSource\n",
    "from bokeh.models import Text, Rect, Triangle, Circle, HoverTool, Plot, Range1d\n",
    "output_notebook()"
   ]
  },
  {
   "cell_type": "code",
   "execution_count": null,
   "metadata": {
    "collapsed": true
   },
   "outputs": [],
   "source": [
    "#housekeeping\n",
    "d = {\"lat\" : \"start_lat\", \"long\" : \"start_long\"}\n",
    "df.rename(columns=d, inplace = True)"
   ]
  },
  {
   "cell_type": "code",
   "execution_count": null,
   "metadata": {
    "collapsed": false
   },
   "outputs": [],
   "source": [
    "dow = df[[\"start_dow_name\",\"duration\"]].groupby(\"start_dow_name\").sum()\n",
    "dow.head()"
   ]
  },
  {
   "cell_type": "code",
   "execution_count": null,
   "metadata": {
    "collapsed": false
   },
   "outputs": [],
   "source": [
    "#pandas integration with matplotlib is pretty good and works for most things\n",
    "dow.plot(kind=\"bar\");"
   ]
  },
  {
   "cell_type": "code",
   "execution_count": null,
   "metadata": {
    "collapsed": false
   },
   "outputs": [],
   "source": [
    "#but bokeh gives you some extra interaction and polish\n",
    "p = Bar(dow)\n",
    "show(p)"
   ]
  },
  {
   "cell_type": "code",
   "execution_count": null,
   "metadata": {
    "collapsed": false
   },
   "outputs": [],
   "source": [
    "#prepping some data by grouping and cutting\n",
    "grp = df[[\"start_terminal\",\"start_station\",\"trip_id\",\"start_long\",\"start_lat\"]].groupby(\n",
    "        [\"start_terminal\",\"start_station\",\"start_long\",\"start_lat\"]).count().reset_index()\n",
    "grp[\"cuts\"] = pd.cut(grp.trip_id,4,labels=[10,20,30,40]).astype(\"int\")\n",
    "grp.tail(10)"
   ]
  },
  {
   "cell_type": "code",
   "execution_count": null,
   "metadata": {
    "collapsed": false
   },
   "outputs": [],
   "source": [
    "TOOLS='box_zoom,pan,box_select,crosshair,resize,reset,hover'\n",
    "\n",
    "p = figure(plot_width=800, plot_height=600, title=None, tools=TOOLS)\n",
    "\n",
    "#output_file(\"bike.html\")  \n",
    "\n",
    "source = ColumnDataSource(data=dict(x=grp[\"start_long\"],y=grp[\"start_lat\"],id=grp[\"start_terminal\"],\n",
    "                                    name=grp[\"start_station\"],trips=grp[\"trip_id\"]))\n",
    "\n",
    "p.circle(grp[\"start_long\"], grp[\"start_lat\"],size=grp[\"cuts\"] + 20, color=\"blue\", source=source)\n",
    "hover = p.select(dict(type=HoverTool))\n",
    "hover.tooltips = [(\"(x,y)\", \"($x, $y)\"),(\"id\", \"@id\"),(\"name\", \"@name\"),(\"trips\", \"@trips\")]\n",
    "\n",
    "show(p)"
   ]
  },
  {
   "cell_type": "markdown",
   "metadata": {},
   "source": [
    "##Show bike.html\n",
    "file:///Users/tbmh1/jupyter_notebooks/omaha_python_june_15/bike.html"
   ]
  },
  {
   "cell_type": "markdown",
   "metadata": {},
   "source": [
    "###Gallery\n",
    "http://bokeh.pydata.org/en/latest/docs/user_guide/interaction.html\n",
    "\n",
    "http://bokeh.pydata.org/en/latest/docs/gallery.html#static-examples"
   ]
  },
  {
   "cell_type": "markdown",
   "metadata": {},
   "source": [
    "##Resources\n",
    "\n",
    "http://bokeh.pydata.org/en/latest/\n",
    "\n",
    "https://www.youtube.com/watch?v=O5OvOLK-xqQ\n",
    "\n",
    "https://www.youtube.com/watch?v=S11GfFlQgtw\n"
   ]
  },
  {
   "cell_type": "markdown",
   "metadata": {},
   "source": [
    "## Blaze\n",
    "### Familiar python interface for interacting with a variety of data sources using the resources of those data sources"
   ]
  },
  {
   "cell_type": "markdown",
   "metadata": {},
   "source": [
    "http://blaze.pydata.org/en/latest/_static/presentations/blaze.html#/0/4"
   ]
  },
  {
   "cell_type": "code",
   "execution_count": null,
   "metadata": {
    "collapsed": false
   },
   "outputs": [],
   "source": [
    "import blaze as bz"
   ]
  },
  {
   "cell_type": "code",
   "execution_count": null,
   "metadata": {
    "collapsed": false
   },
   "outputs": [],
   "source": [
    "#loading a csv into a postgres table using the postgres Copy command \n",
    "bz.into(\"postgresql:///bike_data::bike_trips\",\"bike_data_sub_no_headers.csv\")"
   ]
  },
  {
   "cell_type": "code",
   "execution_count": null,
   "metadata": {
    "collapsed": false
   },
   "outputs": [],
   "source": [
    "#doing a \"groupby\" using the postgres engine\n",
    "bike_db = bz.Data('postgresql:///bike_data')\n",
    "bz.by(bike_db.bike_trips.start_terminal, count=bike_db.bike_trips.trip_id.count()).sort(\"start_terminal\")"
   ]
  },
  {
   "cell_type": "code",
   "execution_count": null,
   "metadata": {
    "collapsed": false
   },
   "outputs": [],
   "source": [
    "#what's happening behind the scenes\n",
    "print (bz.compute(bz.by(bike_db.bike_trips.start_terminal, \n",
    "                        count=bike_db.bike_trips.trip_id.count())))"
   ]
  },
  {
   "cell_type": "code",
   "execution_count": null,
   "metadata": {
    "collapsed": false
   },
   "outputs": [],
   "source": [
    "#and with a pandas dataframe\n",
    "bdf = bz.Data(df)\n",
    "bz.by(bdf.start_terminal,count=bdf.trip_id.count())"
   ]
  },
  {
   "cell_type": "code",
   "execution_count": null,
   "metadata": {
    "collapsed": false
   },
   "outputs": [],
   "source": [
    "#and with a csv file\n",
    "bike_csv = bz.Data(\"bike_data_sub.csv\")\n",
    "bz.by(bike_csv.start_terminal, count=bike_csv.trip_id.count())"
   ]
  },
  {
   "cell_type": "markdown",
   "metadata": {},
   "source": [
    "##Resources\n",
    "\n",
    "https://www.youtube.com/watch?v=x0svOPW6DdE\n",
    "\n",
    "http://blaze.pydata.org/en/latest/"
   ]
  },
  {
   "cell_type": "markdown",
   "metadata": {},
   "source": [
    "##Failed attempt with Spark and Blaze\n",
    "http://stackoverflow.com/questions/30897932/error-accessing-spark-with-blaze"
   ]
  },
  {
   "cell_type": "code",
   "execution_count": null,
   "metadata": {
    "collapsed": false
   },
   "outputs": [],
   "source": [
    "p = sc.parallelize(range(100))"
   ]
  },
  {
   "cell_type": "code",
   "execution_count": null,
   "metadata": {
    "collapsed": false
   },
   "outputs": [],
   "source": [
    "p.min(), p.max(), p.mean()"
   ]
  },
  {
   "cell_type": "code",
   "execution_count": null,
   "metadata": {
    "collapsed": false
   },
   "outputs": [],
   "source": [
    "sc\n",
    "rdd = bz.into(sc,\"/Users/tbmh1/jupyter_notebooks/omaha_python_june_15/bike_data_sub_spark.csv\")"
   ]
  },
  {
   "cell_type": "code",
   "execution_count": null,
   "metadata": {
    "collapsed": false
   },
   "outputs": [],
   "source": [
    "bike_spark = bz.Data(rdd)"
   ]
  },
  {
   "cell_type": "code",
   "execution_count": null,
   "metadata": {
    "collapsed": false
   },
   "outputs": [],
   "source": [
    "bike_spark.count()  #yea"
   ]
  },
  {
   "cell_type": "code",
   "execution_count": null,
   "metadata": {
    "collapsed": false
   },
   "outputs": [],
   "source": [
    "bz.by(bike_spark.start_terminal, count=bike_spark.trip_id.count()) #nay"
   ]
  },
  {
   "cell_type": "code",
   "execution_count": null,
   "metadata": {
    "collapsed": true
   },
   "outputs": [],
   "source": [
    "#IPYTHON=1 pyspark\n",
    "#IPYTHON_OPTS=\"notebook\" pyspark\n",
    "#import blaze as bz"
   ]
  },
  {
   "cell_type": "markdown",
   "metadata": {},
   "source": [
    "# If you're curious about Machine Learning with Scikit-learn\n",
    "https://www.youtube.com/playlist?list=PL5-da3qGB5ICeMbQuqbbCOQWcS6OYBr5A"
   ]
  }
 ],
 "metadata": {
  "kernelspec": {
   "display_name": "Python 3",
   "language": "python",
   "name": "python3"
  },
  "language_info": {
   "codemirror_mode": {
    "name": "ipython",
    "version": 3
   },
   "file_extension": ".py",
   "mimetype": "text/x-python",
   "name": "python",
   "nbconvert_exporter": "python",
   "pygments_lexer": "ipython3",
   "version": "3.4.3"
  }
 },
 "nbformat": 4,
 "nbformat_minor": 0
}
